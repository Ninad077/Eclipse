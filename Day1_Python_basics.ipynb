{
 "cells": [
  {
   "cell_type": "markdown",
   "id": "045ff05c",
   "metadata": {},
   "source": [
    "## <font color = blue>1.Functions</font>"
   ]
  },
  {
   "cell_type": "markdown",
   "id": "bdf23143",
   "metadata": {},
   "source": [
    "Functions are used to perform a particular task. They are represented as ----> function_name()"
   ]
  },
  {
   "cell_type": "code",
   "execution_count": 2,
   "id": "965b4085",
   "metadata": {},
   "outputs": [
    {
     "name": "stdout",
     "output_type": "stream",
     "text": [
      "Hello world\n"
     ]
    }
   ],
   "source": [
    "print('Hello world')"
   ]
  },
  {
   "cell_type": "markdown",
   "id": "610c8187",
   "metadata": {},
   "source": [
    "So in the example above I am asking Python to print 'Hello World' by passing it as an argument. 'print' function here\n",
    "prints the text 'Hello world' as an output. Since Hello World is a text, we put it inside inverted commas to get it printed."
   ]
  },
  {
   "cell_type": "code",
   "execution_count": 3,
   "id": "7c2efeeb",
   "metadata": {},
   "outputs": [
    {
     "name": "stdout",
     "output_type": "stream",
     "text": [
      "7\n"
     ]
    }
   ],
   "source": [
    "print(7)"
   ]
  },
  {
   "cell_type": "markdown",
   "id": "7628b9a9",
   "metadata": {},
   "source": [
    "In the example above, I am printing the number/value '7' & since it is a number/value we do not put it inside inverted\n",
    "commas to get it printed as an output."
   ]
  },
  {
   "cell_type": "markdown",
   "id": "84233a93",
   "metadata": {},
   "source": [
    "**To summarize:** 'print' function is used to print the text or value provided within it's argument.\n",
    "If the argument is a text/string/object always write it within inverted commas.\n",
    "If the argument is a value write it without inverted commas."
   ]
  },
  {
   "cell_type": "markdown",
   "id": "02ae472b",
   "metadata": {},
   "source": [
    "## <font color = blue>2.Variables</font>"
   ]
  },
  {
   "cell_type": "markdown",
   "id": "2695eb12",
   "metadata": {},
   "source": [
    "Variables are used to store the values. Variables are case sensitive and can be any text with a special character. \n",
    "However, one can oly use '_' as the special charcter.\n",
    "Variables should always be in the form of a text preceding the number and not vice-versa."
   ]
  },
  {
   "cell_type": "code",
   "execution_count": 4,
   "id": "507e91fa",
   "metadata": {},
   "outputs": [],
   "source": [
    "a = 12\n"
   ]
  },
  {
   "cell_type": "code",
   "execution_count": 5,
   "id": "787e1167",
   "metadata": {},
   "outputs": [
    {
     "data": {
      "text/plain": [
       "12"
      ]
     },
     "execution_count": 5,
     "metadata": {},
     "output_type": "execute_result"
    }
   ],
   "source": [
    "a"
   ]
  },
  {
   "cell_type": "markdown",
   "id": "1f75cfdb",
   "metadata": {},
   "source": [
    "In the cell above, I have used 'a' as a variable and stored the value '12' in it."
   ]
  },
  {
   "cell_type": "code",
   "execution_count": 6,
   "id": "17e15eae",
   "metadata": {},
   "outputs": [],
   "source": [
    "b = 10"
   ]
  },
  {
   "cell_type": "code",
   "execution_count": 7,
   "id": "d6c8cccb",
   "metadata": {},
   "outputs": [],
   "source": [
    "d = a+ b\n"
   ]
  },
  {
   "cell_type": "code",
   "execution_count": 8,
   "id": "8b959809",
   "metadata": {},
   "outputs": [
    {
     "data": {
      "text/plain": [
       "22"
      ]
     },
     "execution_count": 8,
     "metadata": {},
     "output_type": "execute_result"
    }
   ],
   "source": [
    "d"
   ]
  },
  {
   "cell_type": "markdown",
   "id": "b9eb9167",
   "metadata": {},
   "source": [
    "Now, I am performing a mathematical operation. '+' is an additional operator. It is used to add two values. Remember, I have \n",
    "already stored 12 in 'a'. Further I am defining 'b' as 10. I am then adding both 'a' and 'b' and storing the result in 'd'.\n",
    "So when I am printing 'd'. I will get sum of 'a' and 'b' which is (12+10= 22)."
   ]
  },
  {
   "cell_type": "code",
   "execution_count": 10,
   "id": "8ea50e4a",
   "metadata": {},
   "outputs": [],
   "source": [
    "D = 20"
   ]
  },
  {
   "cell_type": "code",
   "execution_count": 11,
   "id": "7c21acc6",
   "metadata": {},
   "outputs": [
    {
     "data": {
      "text/plain": [
       "20"
      ]
     },
     "execution_count": 11,
     "metadata": {},
     "output_type": "execute_result"
    }
   ],
   "source": [
    "D"
   ]
  },
  {
   "cell_type": "markdown",
   "id": "f9d639f0",
   "metadata": {},
   "source": [
    "In the previous example, I have got the output 'd' as 22. This time I am storing 20 into 'D'. Now, when I print 'D', I\n",
    "get the output as 20 instead of 22. This indicates that **Python is a 'case-sensitive' language.**"
   ]
  },
  {
   "cell_type": "code",
   "execution_count": 12,
   "id": "fa61fe7d",
   "metadata": {},
   "outputs": [],
   "source": [
    "a9 = 7"
   ]
  },
  {
   "cell_type": "code",
   "execution_count": 13,
   "id": "43be03f7",
   "metadata": {},
   "outputs": [
    {
     "data": {
      "text/plain": [
       "7"
      ]
     },
     "execution_count": 13,
     "metadata": {},
     "output_type": "execute_result"
    }
   ],
   "source": [
    "a9\n"
   ]
  },
  {
   "cell_type": "code",
   "execution_count": 5,
   "id": "c8ccb8c2",
   "metadata": {},
   "outputs": [
    {
     "ename": "SyntaxError",
     "evalue": "invalid decimal literal (2364758970.py, line 1)",
     "output_type": "error",
     "traceback": [
      "\u001b[1;36m  Cell \u001b[1;32mIn[5], line 1\u001b[1;36m\u001b[0m\n\u001b[1;33m    9a=7\u001b[0m\n\u001b[1;37m    ^\u001b[0m\n\u001b[1;31mSyntaxError\u001b[0m\u001b[1;31m:\u001b[0m invalid decimal literal\n"
     ]
    }
   ],
   "source": [
    "9a=7"
   ]
  },
  {
   "cell_type": "markdown",
   "id": "0d0207c0",
   "metadata": {},
   "source": [
    "As you can see above, when I assign a text followed by a number as a variable it do prints the value stored in it.\n",
    "However, when I switch their places, it shows me a syntax error. This indicates that alphanumeric assignment is the \n",
    "one of the correct way to assign a variable."
   ]
  },
  {
   "cell_type": "markdown",
   "id": "2a809daf",
   "metadata": {},
   "source": [
    "## <font color = blue>3.Data types in Python</font>"
   ]
  },
  {
   "cell_type": "markdown",
   "id": "9c169429",
   "metadata": {},
   "source": [
    "There are 4 major data types in Python namely Integer, Float, Boolean, String.\n",
    "\n",
    "Each of the data type, their representation in Python and their examples are shown below:\n",
    "\n",
    "Integer ------> int -----------> 1,2,3,4...\n",
    "\n",
    "Float ------> float -----------> 1.0, 2.0, 3.5, 4.7....\n",
    "\n",
    "Boolean ------> bool-----------> True, False\n",
    "\n",
    "String ------> str ------------> \"abc\",'abc'\n",
    "\n",
    "Type function : type() returns the data type of the entered input."
   ]
  },
  {
   "cell_type": "code",
   "execution_count": 17,
   "id": "82da4617",
   "metadata": {},
   "outputs": [
    {
     "name": "stdout",
     "output_type": "stream",
     "text": [
      "<class 'int'>\n"
     ]
    }
   ],
   "source": [
    "print(type(1))"
   ]
  },
  {
   "cell_type": "markdown",
   "id": "ae2d25ea",
   "metadata": {},
   "source": [
    "Since '1' is a integer, the type of the class would be returned as 'int'."
   ]
  },
  {
   "cell_type": "code",
   "execution_count": 18,
   "id": "27e6bb99",
   "metadata": {},
   "outputs": [
    {
     "name": "stdout",
     "output_type": "stream",
     "text": [
      "<class 'bool'>\n"
     ]
    }
   ],
   "source": [
    "print(type(True))"
   ]
  },
  {
   "cell_type": "markdown",
   "id": "e13f0538",
   "metadata": {},
   "source": [
    "Since 'True' is boolean, the type of the class would be returned as 'bool'."
   ]
  },
  {
   "cell_type": "code",
   "execution_count": 19,
   "id": "864d6fa7",
   "metadata": {},
   "outputs": [
    {
     "name": "stdout",
     "output_type": "stream",
     "text": [
      "<class 'str'>\n"
     ]
    }
   ],
   "source": [
    "print(type('abc'))"
   ]
  },
  {
   "cell_type": "markdown",
   "id": "f893f530",
   "metadata": {},
   "source": [
    "Since 'abc' is a string, the type of the class would be returned as 'str'."
   ]
  },
  {
   "cell_type": "code",
   "execution_count": 20,
   "id": "3fc40c95",
   "metadata": {},
   "outputs": [
    {
     "name": "stdout",
     "output_type": "stream",
     "text": [
      "<class 'float'>\n"
     ]
    }
   ],
   "source": [
    "print(type(1.2))"
   ]
  },
  {
   "cell_type": "markdown",
   "id": "7bc362ad",
   "metadata": {},
   "source": [
    "Since '1.2' is a decimal/float value, the type of the class would be returned as 'float'."
   ]
  },
  {
   "cell_type": "markdown",
   "id": "c0e91952",
   "metadata": {},
   "source": [
    "## <font color = blue>4. Sequential Data types in Python</font>"
   ]
  },
  {
   "cell_type": "markdown",
   "id": "1a4a0bbc",
   "metadata": {},
   "source": [
    "The Sequential datatypes in Python and their representation are listed as below:\n",
    "    \n",
    "tuple ------> ()\n",
    "\n",
    "list ------>  []\n",
    "\n",
    "set ------>   {}\n",
    "\n",
    "dict ------>  {}\n"
   ]
  },
  {
   "cell_type": "markdown",
   "id": "d380b031",
   "metadata": {},
   "source": [
    "### <font color = green>4.1 List</font>"
   ]
  },
  {
   "cell_type": "markdown",
   "id": "f11c1fa2",
   "metadata": {},
   "source": [
    "Lists are represented by square brackets.\n",
    "Lists can contain any data type as well as another list in itself.Let us define a list now:"
   ]
  },
  {
   "cell_type": "code",
   "execution_count": 22,
   "id": "f42fd419",
   "metadata": {},
   "outputs": [],
   "source": [
    "mylist = [23, 23.5, \"abc\",[1,2], True]"
   ]
  },
  {
   "cell_type": "code",
   "execution_count": 23,
   "id": "0d2bfc71",
   "metadata": {},
   "outputs": [
    {
     "name": "stdout",
     "output_type": "stream",
     "text": [
      "[23, 23.5, 'abc', [1, 2], True]\n"
     ]
    }
   ],
   "source": [
    "print(mylist)"
   ]
  },
  {
   "cell_type": "markdown",
   "id": "f6706f58",
   "metadata": {},
   "source": [
    "So in cell 22, I am defining the values I want in my list and storing in a variable 'mylist' and\n",
    "in the cell 23 I am printing the variable 'mylist'.\n",
    "One thing to note here is, I have made use of multiple datatypes in the list above.\n",
    "Here 23 is an 'int', 23.5 is a 'float', abc is a 'str', [1,2] is a 'list' and True is a 'bool'.\n",
    "List can contain another list as well."
   ]
  },
  {
   "cell_type": "markdown",
   "id": "5286bcbc",
   "metadata": {},
   "source": [
    "### <font color = red>4.1.1 Indexing in List</font>"
   ]
  },
  {
   "cell_type": "markdown",
   "id": "6d93c50e",
   "metadata": {},
   "source": [
    "Indexing is used for fetching the values inside a list.\n",
    "\n",
    "Indexing can be of 2 types 'positive' and 'negative' indexing.\n",
    "\n",
    "Positive Indexing in Python starts from 0 (left to right) while negative starts from -1 (right to left)."
   ]
  },
  {
   "cell_type": "code",
   "execution_count": 27,
   "id": "d5c3685b",
   "metadata": {},
   "outputs": [
    {
     "name": "stdout",
     "output_type": "stream",
     "text": [
      "[23, 23.5, 'abc', [1, 2], True]\n"
     ]
    }
   ],
   "source": [
    "print(mylist)"
   ]
  },
  {
   "cell_type": "code",
   "execution_count": 28,
   "id": "9f12fd36",
   "metadata": {},
   "outputs": [
    {
     "data": {
      "text/plain": [
       "'abc'"
      ]
     },
     "execution_count": 28,
     "metadata": {},
     "output_type": "execute_result"
    }
   ],
   "source": [
    "mylist [2]"
   ]
  },
  {
   "cell_type": "markdown",
   "id": "db4bcc68",
   "metadata": {},
   "source": [
    "Here, I am fetching the 2nd position from mylist which would be the text 'abc'. Remember the index position for the first \n",
    "value (23 in the above example) is 0."
   ]
  },
  {
   "cell_type": "code",
   "execution_count": 30,
   "id": "b53c4f03",
   "metadata": {},
   "outputs": [
    {
     "data": {
      "text/plain": [
       "2"
      ]
     },
     "execution_count": 30,
     "metadata": {},
     "output_type": "execute_result"
    }
   ],
   "source": [
    "mylist [3][1]"
   ]
  },
  {
   "cell_type": "markdown",
   "id": "0cce4a8e",
   "metadata": {},
   "source": [
    "Here, I am fetching the 3rd index position and since we have another list inside we have to again provide indexing to\n",
    "fetch the values within it. So I am telling Python to give me 3rd index position followed by 1st index position witin the \n",
    "value of 3rd index position."
   ]
  },
  {
   "cell_type": "markdown",
   "id": "f92c11c4",
   "metadata": {},
   "source": [
    "### <font color = red>4.1.2 Slicing in List</font>"
   ]
  },
  {
   "cell_type": "markdown",
   "id": "cc55dbd1",
   "metadata": {},
   "source": [
    "Slicing is used for displaying the range of values\n",
    "\n",
    "For slicing one needs to put the 'start' value and 'stop +1' value\n",
    "\n",
    "Represented as ----> start: stop +1\n",
    "\n",
    "Here ':' represents the range."
   ]
  },
  {
   "cell_type": "code",
   "execution_count": 32,
   "id": "5c2e3be9",
   "metadata": {},
   "outputs": [
    {
     "name": "stdout",
     "output_type": "stream",
     "text": [
      "[23, 23.5, 'abc']\n"
     ]
    }
   ],
   "source": [
    "print(mylist[0:3])"
   ]
  },
  {
   "cell_type": "markdown",
   "id": "f753c329",
   "metadata": {},
   "source": [
    "In the code above I am fetching all the values in the range from index position 0 till index postion 2.\n",
    "Remember, 0:3 indicates all the values from '0 to 2' and NOT '0 to 3'. \n",
    "It is start: stop + 1!"
   ]
  },
  {
   "cell_type": "code",
   "execution_count": 33,
   "id": "1e0ffd8a",
   "metadata": {},
   "outputs": [
    {
     "name": "stdout",
     "output_type": "stream",
     "text": [
      "[23, 23.5, 'abc'] [1, 2]\n"
     ]
    }
   ],
   "source": [
    "print(mylist[0:3], mylist [3])"
   ]
  },
  {
   "cell_type": "markdown",
   "id": "efff6d2b",
   "metadata": {},
   "source": [
    "In the code above, I am printing values of 2 lists together. This can be done by simply by putting the values\n",
    "inside the print argument separated by a ','."
   ]
  },
  {
   "cell_type": "code",
   "execution_count": 10,
   "id": "c62a04b1",
   "metadata": {},
   "outputs": [],
   "source": [
    "mylist=[23,76,\"hello world\",34.5, [1,2,3]]"
   ]
  },
  {
   "cell_type": "code",
   "execution_count": 12,
   "id": "74b683a7",
   "metadata": {},
   "outputs": [
    {
     "name": "stdout",
     "output_type": "stream",
     "text": [
      "[23, 76]\n"
     ]
    }
   ],
   "source": [
    "print(mylist[0:2])"
   ]
  },
  {
   "cell_type": "code",
   "execution_count": 17,
   "id": "37daddbc",
   "metadata": {},
   "outputs": [
    {
     "name": "stdout",
     "output_type": "stream",
     "text": [
      "[1, 2]\n"
     ]
    }
   ],
   "source": [
    "print(mylist[-1][0:2])"
   ]
  },
  {
   "cell_type": "markdown",
   "id": "50410357",
   "metadata": {},
   "source": [
    "Now let us see how Negative indexing works. In the code above I am fetching '0:2' from the index position '-1'.\n",
    "Remember, the last value of the list is always '-1', the second last being '-2' and so on...\n",
    "So here I am fetching '[1,2,3]' first followed by 0:2 which means '[1,2]' from the list."
   ]
  },
  {
   "cell_type": "code",
   "execution_count": 19,
   "id": "98546365",
   "metadata": {},
   "outputs": [
    {
     "name": "stdout",
     "output_type": "stream",
     "text": [
      "[23, 76] [1, 2]\n"
     ]
    }
   ],
   "source": [
    "print(mylist[0:2],mylist[-1][0:2])"
   ]
  },
  {
   "cell_type": "markdown",
   "id": "3ca7bfe4",
   "metadata": {},
   "source": [
    "In the code above I am fetching the values in the range 0:2 from mylist first followed by fetching the index position '-1' \n",
    "and the range inside '-1' index position."
   ]
  },
  {
   "cell_type": "markdown",
   "id": "b271cac7",
   "metadata": {},
   "source": [
    "### <font color = green>4.2 Mutable and Immutable objects</font>"
   ]
  },
  {
   "cell_type": "markdown",
   "id": "9550fc62",
   "metadata": {},
   "source": [
    "Mutlable objects are the objects can be changed ,while immutable are the objects that are fixed once assigned.\n",
    "\n",
    "**Lists are mutable and Tuple are immutable.**"
   ]
  },
  {
   "cell_type": "code",
   "execution_count": 35,
   "id": "d098e0e2",
   "metadata": {},
   "outputs": [
    {
     "name": "stdout",
     "output_type": "stream",
     "text": [
      "[23, 23.5, 'abc', [1, 2], True]\n"
     ]
    }
   ],
   "source": [
    "print(mylist)"
   ]
  },
  {
   "cell_type": "code",
   "execution_count": 36,
   "id": "833eadf8",
   "metadata": {},
   "outputs": [],
   "source": [
    "mylist[0]= 10"
   ]
  },
  {
   "cell_type": "code",
   "execution_count": 37,
   "id": "b2a1386e",
   "metadata": {},
   "outputs": [
    {
     "name": "stdout",
     "output_type": "stream",
     "text": [
      "[10, 23.5, 'abc', [1, 2], True]\n"
     ]
    }
   ],
   "source": [
    "print(mylist)"
   ]
  },
  {
   "cell_type": "markdown",
   "id": "8f6e5f5f",
   "metadata": {},
   "source": [
    "Here in Cell 36 I am assigning '10' as a value in the list 'mylist'. On printing 'mylist' again we could see '10' \n",
    "replacing the original value '23' from 'mylist'.\n",
    "\n",
    "This clearly indicates that **Lists are mutable (changeable).**\n",
    "\n",
    "Lists being mutable is something that would be going to be handy for us while performing Machine Learning."
   ]
  },
  {
   "cell_type": "code",
   "execution_count": 41,
   "id": "13a8587a",
   "metadata": {},
   "outputs": [],
   "source": [
    "mytuple = (23, 23.5, 'abc', [1, 2], True)"
   ]
  },
  {
   "cell_type": "code",
   "execution_count": 42,
   "id": "66c9a038",
   "metadata": {},
   "outputs": [
    {
     "name": "stdout",
     "output_type": "stream",
     "text": [
      "(23, 23.5, 'abc', [1, 2], True)\n"
     ]
    }
   ],
   "source": [
    "print(mytuple)"
   ]
  },
  {
   "cell_type": "code",
   "execution_count": 40,
   "id": "cd50904e",
   "metadata": {},
   "outputs": [
    {
     "ename": "TypeError",
     "evalue": "'tuple' object does not support item assignment",
     "output_type": "error",
     "traceback": [
      "\u001b[1;31m---------------------------------------------------------------------------\u001b[0m",
      "\u001b[1;31mTypeError\u001b[0m                                 Traceback (most recent call last)",
      "Cell \u001b[1;32mIn[40], line 1\u001b[0m\n\u001b[1;32m----> 1\u001b[0m mytupple[\u001b[38;5;241m0\u001b[39m]\u001b[38;5;241m=\u001b[39m \u001b[38;5;241m10\u001b[39m\n",
      "\u001b[1;31mTypeError\u001b[0m: 'tuple' object does not support item assignment"
     ]
    }
   ],
   "source": [
    "mytuple[0]= 10    #will display an error"
   ]
  },
  {
   "cell_type": "markdown",
   "id": "fa622420",
   "metadata": {},
   "source": [
    "I did the same with Tuples as well, However it showed us syntax error 'Tuple object does not support item assignment'.\n",
    "This indicates Tuples are immutable (non-changeable)."
   ]
  },
  {
   "cell_type": "markdown",
   "id": "f2563416",
   "metadata": {},
   "source": [
    "### <font color = green>4.3 Sets</font>"
   ]
  },
  {
   "cell_type": "markdown",
   "id": "56b07a7d",
   "metadata": {},
   "source": [
    "Sets are used to return only unique values. Let us see an example."
   ]
  },
  {
   "cell_type": "code",
   "execution_count": 44,
   "id": "857166c5",
   "metadata": {},
   "outputs": [],
   "source": [
    "d = [1,1,1,2,2,2,3,3,3]"
   ]
  },
  {
   "cell_type": "code",
   "execution_count": 46,
   "id": "0942d7f8",
   "metadata": {},
   "outputs": [
    {
     "data": {
      "text/plain": [
       "{1, 2, 3}"
      ]
     },
     "execution_count": 46,
     "metadata": {},
     "output_type": "execute_result"
    }
   ],
   "source": [
    "set(d)"
   ]
  },
  {
   "cell_type": "markdown",
   "id": "3d664d21",
   "metadata": {},
   "source": [
    "As evident from above, set() neglected the duplicate values from the Set 'd' and returned only the unique values.\n",
    "\n",
    "A proper use case of this in Machine Learning is to see how many Categories we have in the data when the data is\n",
    "populated with duplicates of multiple categories.\n",
    "\n",
    "Sets are always defined using curly brackets."
   ]
  },
  {
   "cell_type": "markdown",
   "id": "33749766",
   "metadata": {},
   "source": [
    "### <font color = green>4.4 Conversion of Set to List</font>"
   ]
  },
  {
   "cell_type": "markdown",
   "id": "262e513c",
   "metadata": {},
   "source": [
    "A set can be converted to list and vice-versa by passing it through variables. The example below illustrates how it can be \n",
    "done."
   ]
  },
  {
   "cell_type": "code",
   "execution_count": 48,
   "id": "31c954f8",
   "metadata": {},
   "outputs": [],
   "source": [
    " e = set(d)"
   ]
  },
  {
   "cell_type": "code",
   "execution_count": 49,
   "id": "f4a1e5d6",
   "metadata": {},
   "outputs": [],
   "source": [
    "f = list(e)"
   ]
  },
  {
   "cell_type": "code",
   "execution_count": 50,
   "id": "7dfc9edf",
   "metadata": {},
   "outputs": [
    {
     "data": {
      "text/plain": [
       "[1, 2, 3]"
      ]
     },
     "execution_count": 50,
     "metadata": {},
     "output_type": "execute_result"
    }
   ],
   "source": [
    "f"
   ]
  },
  {
   "cell_type": "markdown",
   "id": "af683fd9",
   "metadata": {},
   "source": [
    "### <font color = green>4.5 Dictionary</font>"
   ]
  },
  {
   "cell_type": "markdown",
   "id": "3944c09e",
   "metadata": {},
   "source": [
    "Dictionary is used for storing 'keys' with their 'values'.\n",
    "In simple words 'keys' are labels which are mapped to their 'values' which can be of any type.\n",
    "Let us look at the example below to get a more clear idea of Dictionary."
   ]
  },
  {
   "cell_type": "code",
   "execution_count": 59,
   "id": "26d05330",
   "metadata": {},
   "outputs": [],
   "source": [
    "mydict = {\"name\":\"Ninad\",\"age\":26,\"place\":\"Mumbai\"}"
   ]
  },
  {
   "cell_type": "markdown",
   "id": "c1402ac5",
   "metadata": {},
   "source": [
    "Here 'name','age','place' are labels & 'Ninad','26' & 'Mumbai' are the values.\n",
    "\n",
    "Dictionaries are used often while performing mapping,encoding or scaling the data. We use zip of the dictionary to see how\n",
    "the values are being encoded."
   ]
  },
  {
   "cell_type": "code",
   "execution_count": 63,
   "id": "82f14755",
   "metadata": {},
   "outputs": [
    {
     "data": {
      "text/plain": [
       "'Ninad'"
      ]
     },
     "execution_count": 63,
     "metadata": {},
     "output_type": "execute_result"
    }
   ],
   "source": [
    "mydict[\"name\"]"
   ]
  },
  {
   "cell_type": "markdown",
   "id": "511b4063",
   "metadata": {},
   "source": [
    "The above code will fetch the value for the key 'name' from the Dictionary."
   ]
  },
  {
   "cell_type": "code",
   "execution_count": 64,
   "id": "9ac413e8",
   "metadata": {},
   "outputs": [
    {
     "data": {
      "text/plain": [
       "26"
      ]
     },
     "execution_count": 64,
     "metadata": {},
     "output_type": "execute_result"
    }
   ],
   "source": [
    "mydict[\"age\"]"
   ]
  },
  {
   "cell_type": "markdown",
   "id": "a158812f",
   "metadata": {},
   "source": [
    "The above code will fetch the value for the key 'age' from the Dictionary."
   ]
  },
  {
   "cell_type": "code",
   "execution_count": 65,
   "id": "3246269e",
   "metadata": {},
   "outputs": [],
   "source": [
    "list2 = [mydict[\"name\"],mydict[\"age\"]]"
   ]
  },
  {
   "cell_type": "code",
   "execution_count": 66,
   "id": "2306953a",
   "metadata": {},
   "outputs": [
    {
     "data": {
      "text/plain": [
       "['Ninad', 26]"
      ]
     },
     "execution_count": 66,
     "metadata": {},
     "output_type": "execute_result"
    }
   ],
   "source": [
    "list2"
   ]
  },
  {
   "cell_type": "markdown",
   "id": "f5cf8e10",
   "metadata": {},
   "source": [
    "One can also make a list of Dictionaries as above."
   ]
  },
  {
   "cell_type": "markdown",
   "id": "56b3811c",
   "metadata": {},
   "source": [
    "## <font color = blue>5. Append, Insert & Length</font>"
   ]
  },
  {
   "cell_type": "markdown",
   "id": "b97a0a4d",
   "metadata": {},
   "source": [
    "Let us understand the definition of each:\n",
    "\n",
    "Append --------> Appends the value at the end.\n",
    "\n",
    "Insert --------> Inserts the value at the specified index.\n",
    "\n",
    "Length --------> Returns the length (total no of elements) in the list/tuple/set/dict.\n",
    "\n",
    "Let us see an example."
   ]
  },
  {
   "cell_type": "code",
   "execution_count": 67,
   "id": "df645fcc",
   "metadata": {},
   "outputs": [],
   "source": [
    "abc = [1,2,3]"
   ]
  },
  {
   "cell_type": "code",
   "execution_count": 68,
   "id": "56fccbe7",
   "metadata": {},
   "outputs": [
    {
     "data": {
      "text/plain": [
       "[1, 2, 3]"
      ]
     },
     "execution_count": 68,
     "metadata": {},
     "output_type": "execute_result"
    }
   ],
   "source": [
    "abc"
   ]
  },
  {
   "cell_type": "code",
   "execution_count": 71,
   "id": "a525bc8f",
   "metadata": {},
   "outputs": [
    {
     "data": {
      "text/plain": [
       "3"
      ]
     },
     "execution_count": 71,
     "metadata": {},
     "output_type": "execute_result"
    }
   ],
   "source": [
    "len(\"abc\")"
   ]
  },
  {
   "cell_type": "markdown",
   "id": "e5da00fd",
   "metadata": {},
   "source": [
    "'len' function fetches the length of the list. Since 'abc' has 3 elements, the length would be 3. "
   ]
  },
  {
   "cell_type": "code",
   "execution_count": 72,
   "id": "66e1b1b9",
   "metadata": {},
   "outputs": [],
   "source": [
    "abc.append(4)"
   ]
  },
  {
   "cell_type": "code",
   "execution_count": 73,
   "id": "f5742a9e",
   "metadata": {},
   "outputs": [
    {
     "data": {
      "text/plain": [
       "[1, 2, 3, 4]"
      ]
     },
     "execution_count": 73,
     "metadata": {},
     "output_type": "execute_result"
    }
   ],
   "source": [
    "abc"
   ]
  },
  {
   "cell_type": "markdown",
   "id": "180ece5c",
   "metadata": {},
   "source": [
    "'append' function appends the list from behind. So in the above example, we have appended the value '4' in the list\n",
    "[1,2,3] and hence the output [1,2,3,4]."
   ]
  },
  {
   "cell_type": "code",
   "execution_count": 74,
   "id": "d626799f",
   "metadata": {},
   "outputs": [],
   "source": [
    "abc.insert(1,5)"
   ]
  },
  {
   "cell_type": "code",
   "execution_count": 75,
   "id": "29eb89ce",
   "metadata": {},
   "outputs": [
    {
     "data": {
      "text/plain": [
       "[1, 5, 2, 3, 4]"
      ]
     },
     "execution_count": 75,
     "metadata": {},
     "output_type": "execute_result"
    }
   ],
   "source": [
    "abc"
   ]
  },
  {
   "cell_type": "markdown",
   "id": "95620bf9",
   "metadata": {},
   "source": [
    "'insert' function inserts the value in the specified poistion mentioned in the argument. In the above example, we \n",
    "are inserting the value '5' in the index position '1' in the list.\n",
    "One thing to note here is insert would NOT replace the value in index position 1 but shift the value which was at index\n",
    "position 1 to 2 and insert the current value to position 1.\n",
    "\n",
    "Syntax: insert(index_position,value)"
   ]
  },
  {
   "cell_type": "markdown",
   "id": "e3220833",
   "metadata": {},
   "source": [
    "## <font color = blue>6. If, elif & else</font>"
   ]
  },
  {
   "cell_type": "markdown",
   "id": "3fb14e96",
   "metadata": {},
   "source": [
    "If, elif and else are conditional statements in Python.\n",
    "So the general algorithm of these statements is\n",
    "\n",
    "    if (condition):\n",
    "        execute_the code_1\n",
    "    elif (condition2):\n",
    "        execute the code_2\n",
    "    else:\n",
    "        execute the code_3\n",
    "        \n",
    "Here we check for a condition, if it gets satisfied we execute the code_1, else we check the elif condition and \n",
    "execute the code_2,else we directly execute the code_3.\n",
    "\n",
    "So here conditions are checked only for if and elif.\n",
    "\n",
    "**Indentation (space) after semicolon(:) is much needed to execute the code without errors.**\n",
    "\n",
    "\n",
    "Let us make it more simpler using the following example."
   ]
  },
  {
   "cell_type": "code",
   "execution_count": 76,
   "id": "0f73e891",
   "metadata": {},
   "outputs": [],
   "source": [
    "var = 12"
   ]
  },
  {
   "cell_type": "code",
   "execution_count": 81,
   "id": "149dcec1",
   "metadata": {},
   "outputs": [
    {
     "name": "stdout",
     "output_type": "stream",
     "text": [
      "yes\n"
     ]
    }
   ],
   "source": [
    "if var > 13:\n",
    "    print('Hello!')   \n",
    "elif var == 12:\n",
    "        print('yes')\n",
    "else:\n",
    "        print('bye')\n",
    "    "
   ]
  },
  {
   "cell_type": "markdown",
   "id": "e4fdb68e",
   "metadata": {},
   "source": [
    "So in the above example, we defined a varibale \"var\" and stored the value 12 in it . We then checked whether the value\n",
    "in \"var\" is greater than 13, so since it is not we jumped to elif statement and checked if it is equal to 12 and since it \n",
    "was true, we executed the code below it, which was print('yes'). One thing to remember here is, since the condition was\n",
    "satisfied on the elif statement we do not jump to the else statement and break out of the code. "
   ]
  },
  {
   "cell_type": "markdown",
   "id": "95227947",
   "metadata": {},
   "source": [
    "## <font color = blue>7. Input function</font>"
   ]
  },
  {
   "cell_type": "markdown",
   "id": "3cfda74d",
   "metadata": {},
   "source": [
    "Input function will ask the user to input a value.However, since input function is by default a string data-type we have to\n",
    "make sure to use the desire data type before it."
   ]
  },
  {
   "cell_type": "code",
   "execution_count": 83,
   "id": "2472818b",
   "metadata": {},
   "outputs": [
    {
     "name": "stdout",
     "output_type": "stream",
     "text": [
      "Enter 1st no: 10\n",
      "Enter 2nd no: 20\n"
     ]
    }
   ],
   "source": [
    "a = int(input(\"Enter 1st no: \"))\n",
    "b = int(input(\"Enter 2nd no: \"))"
   ]
  },
  {
   "cell_type": "code",
   "execution_count": 84,
   "id": "e7ee604b",
   "metadata": {},
   "outputs": [],
   "source": [
    "c = a+b "
   ]
  },
  {
   "cell_type": "code",
   "execution_count": 85,
   "id": "63b1db48",
   "metadata": {},
   "outputs": [
    {
     "data": {
      "text/plain": [
       "30"
      ]
     },
     "execution_count": 85,
     "metadata": {},
     "output_type": "execute_result"
    }
   ],
   "source": [
    "c"
   ]
  },
  {
   "cell_type": "markdown",
   "id": "98232207",
   "metadata": {},
   "source": [
    "In the above code I have asked the user to input the 1st no & 2nd no and stored them in variable 'a' and 'b'. I \n",
    "further added them and stored them in 'c' and printed 'c'. This is how one can ask the user to input any value and perform\n",
    "operations on it."
   ]
  },
  {
   "cell_type": "markdown",
   "id": "75d2cb59",
   "metadata": {},
   "source": [
    "## <font color = blue>8. Task: Ask the user to input the grades and print respective Grade levels</font>"
   ]
  },
  {
   "cell_type": "markdown",
   "id": "eb3f93ac",
   "metadata": {},
   "source": [
    "Now I would like you to perfrom the following Task on your own first. Try it yourself first, if not then you can refer\n",
    "this code."
   ]
  },
  {
   "cell_type": "markdown",
   "id": "07364d1d",
   "metadata": {},
   "source": [
    "Assign grades as per the criteria:\n",
    "\n",
    "    Grade A: 75 <= input marks <= 100\n",
    "    Grade B: 50 <= input marks < 74\n",
    "    Grade C: 35 <= input marks < 49\n",
    "    Fail   : 0  <= input marks < 34\n",
    "    "
   ]
  },
  {
   "cell_type": "code",
   "execution_count": 111,
   "id": "06bf0c5a",
   "metadata": {},
   "outputs": [
    {
     "name": "stdout",
     "output_type": "stream",
     "text": [
      "Enter your marks: 101\n"
     ]
    }
   ],
   "source": [
    "inputMarks= int(input(\"Enter your marks: \"))"
   ]
  },
  {
   "cell_type": "code",
   "execution_count": 112,
   "id": "2b4bb4fa",
   "metadata": {},
   "outputs": [
    {
     "name": "stdout",
     "output_type": "stream",
     "text": [
      "Invalid marks\n"
     ]
    }
   ],
   "source": [
    "\n",
    "if inputMarks >= 75 and inputMarks <= 100 :\n",
    "    print('Grade A')   \n",
    "elif inputMarks >= 50 and inputMarks < 75:\n",
    "    print('Grade B')\n",
    "elif inputMarks >= 35 and inputMarks < 50:\n",
    "    print('Grade C')\n",
    "elif inputMarks >= 0 and inputMarks < 35:\n",
    "    print('Fail')\n",
    "else:\n",
    "    print('Invalid marks')\n",
    "    \n",
    "    "
   ]
  },
  {
   "cell_type": "markdown",
   "id": "c4bddc33",
   "metadata": {},
   "source": [
    "## <font color = blue>9. for loop</font>"
   ]
  },
  {
   "cell_type": "markdown",
   "id": "0b5a1ec4",
   "metadata": {},
   "source": [
    "'for' loop is one of the most important & widely used loop in python.'for' loop is used to assess a particular range of values\n",
    "one by one. It would execute the code within it for each and every value inside the range.\n",
    "Let us understand it using the following example."
   ]
  },
  {
   "cell_type": "code",
   "execution_count": 115,
   "id": "d88a9dd1",
   "metadata": {},
   "outputs": [
    {
     "name": "stdout",
     "output_type": "stream",
     "text": [
      "0\n",
      "1\n",
      "2\n",
      "3\n",
      "4\n",
      "5\n",
      "6\n",
      "7\n",
      "8\n",
      "9\n"
     ]
    }
   ],
   "source": [
    "for i in range(0,10):\n",
    "    print(i)\n"
   ]
  },
  {
   "cell_type": "markdown",
   "id": "b9c05835",
   "metadata": {},
   "source": [
    "Here it is checking for all the values (i) in the range 0,10 so the values would be (0 to 9) since slicing ends at 'stop + 1'. For each value (i) it will print the value (i). Hence we get the output '0,1,2,3,4,5,6,7,8,9'."
   ]
  },
  {
   "cell_type": "markdown",
   "id": "ecd4cf13",
   "metadata": {},
   "source": [
    "## <font color = blue>10. Task: Print the table of 2 using for loop</font>"
   ]
  },
  {
   "cell_type": "markdown",
   "id": "251910cd",
   "metadata": {},
   "source": [
    "I would like you to try this task on your own first. Once done, refer this code."
   ]
  },
  {
   "cell_type": "code",
   "execution_count": 128,
   "id": "d37aba68",
   "metadata": {},
   "outputs": [
    {
     "name": "stdout",
     "output_type": "stream",
     "text": [
      "2 * 1 = 2\n",
      "2 * 2 = 4\n",
      "2 * 3 = 6\n",
      "2 * 4 = 8\n",
      "2 * 5 = 10\n",
      "2 * 6 = 12\n",
      "2 * 7 = 14\n",
      "2 * 8 = 16\n",
      "2 * 9 = 18\n",
      "2 * 10 = 20\n"
     ]
    }
   ],
   "source": [
    "#print the table of 2 using for loop\n",
    "\n",
    "for i in range(1,11):\n",
    "\n",
    "    print(\"2\",\"*\",i,\"=\",2*i)"
   ]
  },
  {
   "cell_type": "markdown",
   "id": "0a82735c",
   "metadata": {},
   "source": [
    "## <font color = blue>11. Segregate different data types using for loop & if statement</font>"
   ]
  },
  {
   "cell_type": "code",
   "execution_count": 17,
   "id": "5a4b17d6",
   "metadata": {},
   "outputs": [],
   "source": [
    "my_list= [23, 'hello','hi',45.9,'bye',12,76,'zero',0,99,[23,'one',12.7],77,11,(6,2,0),11.0]"
   ]
  },
  {
   "cell_type": "markdown",
   "id": "4fef5f9a",
   "metadata": {},
   "source": [
    "Segregate 'mylist' into lists of different datatypes"
   ]
  },
  {
   "cell_type": "code",
   "execution_count": 130,
   "id": "2a1fea66",
   "metadata": {},
   "outputs": [
    {
     "data": {
      "text/plain": [
       "[23,\n",
       " 'hello',\n",
       " 'hi',\n",
       " 45.9,\n",
       " 'bye',\n",
       " 12,\n",
       " 76,\n",
       " 'zero',\n",
       " 0,\n",
       " 99,\n",
       " [23, 'one', 12.7],\n",
       " 77,\n",
       " 11,\n",
       " (6, 2, 0),\n",
       " 11.0]"
      ]
     },
     "execution_count": 130,
     "metadata": {},
     "output_type": "execute_result"
    }
   ],
   "source": [
    "my_list"
   ]
  },
  {
   "cell_type": "code",
   "execution_count": 18,
   "id": "2a79406f",
   "metadata": {},
   "outputs": [
    {
     "name": "stdout",
     "output_type": "stream",
     "text": [
      "[23, 12, 76, 0, 99, 77, 11]\n",
      "['hello', 'hi', 'bye', 'zero']\n",
      "[45.9, 11.0]\n",
      "[(6, 2, 0)]\n",
      "[[23, 'one', 12.7]]\n"
     ]
    }
   ],
   "source": [
    "list_of_integers1=[]\n",
    "list_of_string1=[]\n",
    "list_of_float1=[]\n",
    "list_of_tuple1=[]\n",
    "list_of_list1=[]\n",
    "\n",
    "for i in my_list:\n",
    "    if type(i)==int:\n",
    "        list_of_integers1.append(i)\n",
    "    elif type(i)==str:\n",
    "        list_of_string1.append(i)\n",
    "    elif type(i)==float:\n",
    "        list_of_float1.append(i)\n",
    "    elif type(i)==tuple:\n",
    "        list_of_tuple1.append(i)\n",
    "    elif type(i)==list:\n",
    "        list_of_list1.append(i)\n",
    "        \n",
    "print(list_of_integers1)\n",
    "print(list_of_string1)\n",
    "print(list_of_float1)\n",
    "print(list_of_tuple1)\n",
    "print(list_of_list1)"
   ]
  },
  {
   "cell_type": "markdown",
   "id": "1d9fe579",
   "metadata": {},
   "source": [
    "In the code above, I have first made blank list of each datatype (integers, list, float, tuple, string).\n",
    "\n",
    "I am then using for loop for every element (i) in 'mylist' and checking one by one using if statement whether the \n",
    "type/class of the element (i) is integer,string, tuple, list. If the datatype is one of these datatypes, I am appending it\n",
    "to the respective blank list of the datatype.\n",
    "\n",
    "To make it more clear, consider the first element '23', since the type of it is an integer, the first if statement will get \n",
    "executed and i(23) will appended to the blank list_of_integers1. \n",
    "\n",
    "If we take the element 'hello',  since the type of it is a string (str), the second elif statement will get \n",
    "executed and i(hello) will appended to the blank list_of_strings1."
   ]
  },
  {
   "cell_type": "markdown",
   "id": "1dfb2f7f",
   "metadata": {},
   "source": [
    "**for & if statements are used to append mode & mean for Null value Treatment in Machine Learning.\n",
    "These statements are important and should be practiced well.**"
   ]
  },
  {
   "cell_type": "markdown",
   "id": "c8d36ebc",
   "metadata": {},
   "source": [
    "## <font color = blue>12. Defining a function</font>"
   ]
  },
  {
   "cell_type": "markdown",
   "id": "6187d51c",
   "metadata": {},
   "source": [
    "As you would proceed learning more about Python for Data Science, you will understand that programmers often call \n",
    "built-in functions/libraries instead of writing lengthy code time and again. \n",
    "The genesis of all this could be understood well by understanding 'how to define a function'."
   ]
  },
  {
   "cell_type": "markdown",
   "id": "34d1af97",
   "metadata": {},
   "source": [
    "### <font color = green>12.1 Defining a function without an argument</font>"
   ]
  },
  {
   "cell_type": "markdown",
   "id": "0e3617a9",
   "metadata": {},
   "source": [
    "To define a function without an argument, the syntax would be as follows:\n",
    "    \n",
    "    def function_name():\n",
    "        variable_name = code\n",
    "        return variable_name\n",
    "        \n",
    "To call a function use:\n",
    "        function_name()"
   ]
  },
  {
   "cell_type": "code",
   "execution_count": 1,
   "id": "f85e7334",
   "metadata": {},
   "outputs": [],
   "source": [
    "def myfunction():\n",
    "    a= 10*10\n",
    "    return a"
   ]
  },
  {
   "cell_type": "code",
   "execution_count": 2,
   "id": "c9caffd3",
   "metadata": {},
   "outputs": [
    {
     "data": {
      "text/plain": [
       "100"
      ]
     },
     "execution_count": 2,
     "metadata": {},
     "output_type": "execute_result"
    }
   ],
   "source": [
    "myfunction()"
   ]
  },
  {
   "cell_type": "markdown",
   "id": "dc6ef414",
   "metadata": {},
   "source": [
    "Here I am defining a function named 'myfunction()' which when called will return the value of 'a', where\n",
    "a = 10*10."
   ]
  },
  {
   "cell_type": "markdown",
   "id": "5b4a856b",
   "metadata": {},
   "source": [
    "### <font color = green>12.2 Defining a function with a single argument</font>"
   ]
  },
  {
   "cell_type": "markdown",
   "id": "7f004645",
   "metadata": {},
   "source": [
    "To define a function with a single argument (arg1), the syntax would be as follows:\n",
    "    \n",
    "    def function_name(arg1):\n",
    "        variable_name = code containing (arg1)\n",
    "        return variable_name\n",
    "        \n",
    "To call a function use:\n",
    "        function_name(variable_name)"
   ]
  },
  {
   "cell_type": "code",
   "execution_count": 5,
   "id": "471698aa",
   "metadata": {},
   "outputs": [],
   "source": [
    "def myfunction(no1):\n",
    "    a= no1*10\n",
    "    return a"
   ]
  },
  {
   "cell_type": "code",
   "execution_count": 7,
   "id": "5b6c563c",
   "metadata": {},
   "outputs": [
    {
     "data": {
      "text/plain": [
       "20"
      ]
     },
     "execution_count": 7,
     "metadata": {},
     "output_type": "execute_result"
    }
   ],
   "source": [
    "myfunction(2)"
   ]
  },
  {
   "cell_type": "markdown",
   "id": "f6920855",
   "metadata": {},
   "source": [
    "Here I have used an argument as 'no1' and in the function 'myfunction' I am returning 'a' as an output, where \n",
    "a=no1*10."
   ]
  },
  {
   "cell_type": "markdown",
   "id": "7d57b921",
   "metadata": {},
   "source": [
    "### <font color = green>12.3 Defining a function with multiple arguments</font>"
   ]
  },
  {
   "cell_type": "markdown",
   "id": "920722d6",
   "metadata": {},
   "source": [
    "To define a function with multiple arguments (arg1,arg2,.....argn), the syntax would be as follows:\n",
    "    \n",
    "    def function_name(arg1,arg2,.....argn):\n",
    "        variable_name = code containing (arg1,arg2,.....argn)\n",
    "        return variable_name\n",
    "        \n",
    "To call a function use:\n",
    "        function_name(variable_name)"
   ]
  },
  {
   "cell_type": "code",
   "execution_count": 8,
   "id": "7fc620e5",
   "metadata": {},
   "outputs": [],
   "source": [
    "def myfunction(no1,no2):\n",
    "    a= no1*no2\n",
    "    return a"
   ]
  },
  {
   "cell_type": "code",
   "execution_count": 9,
   "id": "1c449d8a",
   "metadata": {},
   "outputs": [
    {
     "data": {
      "text/plain": [
       "10"
      ]
     },
     "execution_count": 9,
     "metadata": {},
     "output_type": "execute_result"
    }
   ],
   "source": [
    "myfunction(2,5)"
   ]
  },
  {
   "cell_type": "markdown",
   "id": "05c4f13b",
   "metadata": {},
   "source": [
    "In the code above, I am calling a multiplication function for 2 numbers no1 & no2. I have passed these numbers in the\n",
    "argument while calling the function. The output of the function will be varibale 'a' where the product of no1, no2 is \n",
    "stored.\n",
    "One can also use multiple arguments and modify the code as desired."
   ]
  },
  {
   "cell_type": "markdown",
   "id": "a5af6645",
   "metadata": {},
   "source": [
    "## <font color = blue>13. Task: Return a table for the value inputed by user. Define a function</font>"
   ]
  },
  {
   "cell_type": "markdown",
   "id": "6c004bdd",
   "metadata": {},
   "source": [
    "Try this task for yourself. This time define a function that fetches the table of the inputed value and displays it as an\n",
    "output. Refer this code after you have tried writing the code yourself."
   ]
  },
  {
   "cell_type": "code",
   "execution_count": 8,
   "id": "d1f6545e",
   "metadata": {},
   "outputs": [],
   "source": [
    "def gettable(number1):\n",
    "    for i in range(1,11):\n",
    "        print(number1,\"*\",i,\"=\",number1*i)"
   ]
  },
  {
   "cell_type": "code",
   "execution_count": 10,
   "id": "6aeaa930",
   "metadata": {},
   "outputs": [
    {
     "name": "stdout",
     "output_type": "stream",
     "text": [
      "3 * 1 = 3\n",
      "3 * 2 = 6\n",
      "3 * 3 = 9\n",
      "3 * 4 = 12\n",
      "3 * 5 = 15\n",
      "3 * 6 = 18\n",
      "3 * 7 = 21\n",
      "3 * 8 = 24\n",
      "3 * 9 = 27\n",
      "3 * 10 = 30\n"
     ]
    }
   ],
   "source": [
    "gettable(3)"
   ]
  },
  {
   "cell_type": "markdown",
   "id": "727ab217",
   "metadata": {},
   "source": [
    "In the code above, we define a function 'gettable' for number1 and inside the function we initiate a for loop that checks \n",
    "every value in the range 1,10 (slicing range: 1,11). These elements are then printed with inputed number as a product and\n",
    "displayed as an output when called."
   ]
  },
  {
   "cell_type": "markdown",
   "id": "7aadd958",
   "metadata": {},
   "source": [
    "## <font color = blue>14. Task: Return a table for the value inputed by user. Define a function</font>\n",
    "## <font color = blue>          & append it in a blank list</font>"
   ]
  },
  {
   "cell_type": "code",
   "execution_count": 14,
   "id": "6f7da393",
   "metadata": {},
   "outputs": [],
   "source": [
    "def gettable(number1):\n",
    "    out=[]\n",
    "    for i in range(1,11):\n",
    "        a = number1,\"*\",i,\"=\",number1*i\n",
    "        out.append(a)\n",
    "    return out         "
   ]
  },
  {
   "cell_type": "code",
   "execution_count": 15,
   "id": "f79476d8",
   "metadata": {},
   "outputs": [
    {
     "data": {
      "text/plain": [
       "[(3, '*', 1, '=', 3),\n",
       " (3, '*', 2, '=', 6),\n",
       " (3, '*', 3, '=', 9),\n",
       " (3, '*', 4, '=', 12),\n",
       " (3, '*', 5, '=', 15),\n",
       " (3, '*', 6, '=', 18),\n",
       " (3, '*', 7, '=', 21),\n",
       " (3, '*', 8, '=', 24),\n",
       " (3, '*', 9, '=', 27),\n",
       " (3, '*', 10, '=', 30)]"
      ]
     },
     "execution_count": 15,
     "metadata": {},
     "output_type": "execute_result"
    }
   ],
   "source": [
    "gettable(3)"
   ]
  },
  {
   "cell_type": "markdown",
   "id": "2c96c1c6",
   "metadata": {},
   "source": [
    "This task is similar to the previous task. The only difference here is instead of printing the value of the element(i) and\n",
    "the inputed number, it is appending the value of the product of inputed number*i in the blank list."
   ]
  },
  {
   "cell_type": "markdown",
   "id": "bd9f0828",
   "metadata": {},
   "source": [
    "## <font color = blue>15. Try & Except block</font>"
   ]
  },
  {
   "cell_type": "markdown",
   "id": "6f943e62",
   "metadata": {},
   "source": [
    "Try and Except block is used to cover up for an exception or an error.\n",
    "If the code has some error then the try and except block will show an error flag (comment).\n",
    "Let us understand the same using the following example."
   ]
  },
  {
   "cell_type": "code",
   "execution_count": 21,
   "id": "2318be18",
   "metadata": {},
   "outputs": [],
   "source": [
    "def gettable(number):\n",
    "    try:\n",
    "        out=()\n",
    "        for i in range(1,11):\n",
    "            a=number,\"*\",i,\"=\",i*number\n",
    "            out.append(a)\n",
    "        return out\n",
    "    except:\n",
    "        print(\"error in gettable fn!\")"
   ]
  },
  {
   "cell_type": "code",
   "execution_count": 22,
   "id": "30c8aa24",
   "metadata": {},
   "outputs": [
    {
     "name": "stdout",
     "output_type": "stream",
     "text": [
      "error in gettable fn!\n"
     ]
    }
   ],
   "source": [
    "gettable(\"65\")"
   ]
  },
  {
   "cell_type": "markdown",
   "id": "a253765b",
   "metadata": {},
   "source": [
    "So in the code above, I am using the same example from the task to make the concept more clear.\n",
    "Here we are writing the execution code from the Task above inside the 'Try' block. If the user makes an error in inputing \n",
    "a number. For instance, in the example above instead of passing 65 as a value, I am passing it as a string '65'. In this\n",
    "scenario, the Try block won't run, instead the except block will run and display the error flag as \n",
    "'error in gettable fn!'.\n",
    "Try and except blocks are generally used to handle errors or exceptions in Python."
   ]
  },
  {
   "cell_type": "code",
   "execution_count": null,
   "id": "2bbdff4d",
   "metadata": {},
   "outputs": [],
   "source": []
  }
 ],
 "metadata": {
  "kernelspec": {
   "display_name": "Python 3 (ipykernel)",
   "language": "python",
   "name": "python3"
  },
  "language_info": {
   "codemirror_mode": {
    "name": "ipython",
    "version": 3
   },
   "file_extension": ".py",
   "mimetype": "text/x-python",
   "name": "python",
   "nbconvert_exporter": "python",
   "pygments_lexer": "ipython3",
   "version": "3.11.5"
  }
 },
 "nbformat": 4,
 "nbformat_minor": 5
}
