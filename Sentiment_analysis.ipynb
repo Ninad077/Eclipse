{
 "cells": [
  {
   "cell_type": "markdown",
   "metadata": {
    "id": "zGP0cPRZA92G"
   },
   "source": [
    "# <font color = red>**What is Sentiment analysis?**</font>"
   ]
  },
  {
   "cell_type": "markdown",
   "metadata": {
    "id": "bfyDy-zSBbF-"
   },
   "source": [
    "Sentiment analysis is basically understanding the mood of a sentence, whether it's happy, sad, angry or indifferent. To understand the concept we are making use of a Hotel review dataset, which has collection of consumer feedback. Our job here is to categorise this feedback based on it's sentiment. Let us look at our dataset now.  "
   ]
  },
  {
   "cell_type": "markdown",
   "metadata": {
    "id": "sGNZd7c_CL_R"
   },
   "source": [
    "## <font color = blue>**1. Importing the libraries**</font>"
   ]
  },
  {
   "cell_type": "code",
   "execution_count": 1,
   "metadata": {
    "id": "2rbLZsx4-Adz"
   },
   "outputs": [],
   "source": [
    "# Importing the library\n",
    "import pandas as pd\n"
   ]
  },
  {
   "cell_type": "markdown",
   "metadata": {
    "id": "Zb1kwi8ZCcwG"
   },
   "source": [
    "## <font color = blue>**2. Reading the data**</font>"
   ]
  },
  {
   "cell_type": "code",
   "execution_count": 2,
   "metadata": {
    "id": "h6YW0Vlx-AeB"
   },
   "outputs": [],
   "source": [
    "# Reading the data\n",
    "Reviewdata = pd.read_csv(\"train.csv\")"
   ]
  },
  {
   "cell_type": "code",
   "execution_count": 3,
   "metadata": {
    "id": "RS_QGb9l-AeC",
    "outputId": "add03731-e802-44db-a056-e61ed45e62bd"
   },
   "outputs": [
    {
     "data": {
      "text/html": [
       "<div>\n",
       "<style scoped>\n",
       "    .dataframe tbody tr th:only-of-type {\n",
       "        vertical-align: middle;\n",
       "    }\n",
       "\n",
       "    .dataframe tbody tr th {\n",
       "        vertical-align: top;\n",
       "    }\n",
       "\n",
       "    .dataframe thead th {\n",
       "        text-align: right;\n",
       "    }\n",
       "</style>\n",
       "<table border=\"1\" class=\"dataframe\">\n",
       "  <thead>\n",
       "    <tr style=\"text-align: right;\">\n",
       "      <th></th>\n",
       "      <th>User_ID</th>\n",
       "      <th>Description</th>\n",
       "      <th>Browser_Used</th>\n",
       "      <th>Device_Used</th>\n",
       "      <th>Is_Response</th>\n",
       "    </tr>\n",
       "  </thead>\n",
       "  <tbody>\n",
       "    <tr>\n",
       "      <th>0</th>\n",
       "      <td>id10326</td>\n",
       "      <td>The room was kind of clean but had a VERY stro...</td>\n",
       "      <td>Edge</td>\n",
       "      <td>Mobile</td>\n",
       "      <td>not happy</td>\n",
       "    </tr>\n",
       "    <tr>\n",
       "      <th>1</th>\n",
       "      <td>id10327</td>\n",
       "      <td>I stayed at the Crown Plaza April -- - April -...</td>\n",
       "      <td>Internet Explorer</td>\n",
       "      <td>Mobile</td>\n",
       "      <td>not happy</td>\n",
       "    </tr>\n",
       "    <tr>\n",
       "      <th>2</th>\n",
       "      <td>id10328</td>\n",
       "      <td>I booked this hotel through Hotwire at the low...</td>\n",
       "      <td>Mozilla</td>\n",
       "      <td>Tablet</td>\n",
       "      <td>not happy</td>\n",
       "    </tr>\n",
       "    <tr>\n",
       "      <th>3</th>\n",
       "      <td>id10329</td>\n",
       "      <td>Stayed here with husband and sons on the way t...</td>\n",
       "      <td>InternetExplorer</td>\n",
       "      <td>Desktop</td>\n",
       "      <td>happy</td>\n",
       "    </tr>\n",
       "    <tr>\n",
       "      <th>4</th>\n",
       "      <td>id10330</td>\n",
       "      <td>My girlfriends and I stayed here to celebrate ...</td>\n",
       "      <td>Edge</td>\n",
       "      <td>Tablet</td>\n",
       "      <td>not happy</td>\n",
       "    </tr>\n",
       "  </tbody>\n",
       "</table>\n",
       "</div>"
      ],
      "text/plain": [
       "   User_ID                                        Description  \\\n",
       "0  id10326  The room was kind of clean but had a VERY stro...   \n",
       "1  id10327  I stayed at the Crown Plaza April -- - April -...   \n",
       "2  id10328  I booked this hotel through Hotwire at the low...   \n",
       "3  id10329  Stayed here with husband and sons on the way t...   \n",
       "4  id10330  My girlfriends and I stayed here to celebrate ...   \n",
       "\n",
       "        Browser_Used Device_Used Is_Response  \n",
       "0               Edge      Mobile   not happy  \n",
       "1  Internet Explorer      Mobile   not happy  \n",
       "2            Mozilla      Tablet   not happy  \n",
       "3   InternetExplorer     Desktop       happy  \n",
       "4               Edge      Tablet   not happy  "
      ]
     },
     "execution_count": 3,
     "metadata": {},
     "output_type": "execute_result"
    }
   ],
   "source": [
    "# Preview data\n",
    "Reviewdata.head()"
   ]
  },
  {
   "cell_type": "markdown",
   "metadata": {
    "id": "d4kQpSLb-AeE"
   },
   "source": [
    "From the above data only 'Description' & 'Is_Response' columns are relevant for sentiment analysis, since these columns accurately describe the mood of the text."
   ]
  },
  {
   "cell_type": "code",
   "execution_count": 4,
   "metadata": {
    "id": "QSYEEXgz-AeG",
    "outputId": "c4ae4584-089b-43c3-a2b9-abad68a2e3cb"
   },
   "outputs": [
    {
     "data": {
      "text/html": [
       "<div>\n",
       "<style scoped>\n",
       "    .dataframe tbody tr th:only-of-type {\n",
       "        vertical-align: middle;\n",
       "    }\n",
       "\n",
       "    .dataframe tbody tr th {\n",
       "        vertical-align: top;\n",
       "    }\n",
       "\n",
       "    .dataframe thead th {\n",
       "        text-align: right;\n",
       "    }\n",
       "</style>\n",
       "<table border=\"1\" class=\"dataframe\">\n",
       "  <thead>\n",
       "    <tr style=\"text-align: right;\">\n",
       "      <th></th>\n",
       "      <th>0</th>\n",
       "      <th>1</th>\n",
       "      <th>2</th>\n",
       "      <th>3</th>\n",
       "      <th>4</th>\n",
       "      <th>5</th>\n",
       "      <th>6</th>\n",
       "      <th>7</th>\n",
       "      <th>8</th>\n",
       "      <th>9</th>\n",
       "      <th>...</th>\n",
       "      <th>38922</th>\n",
       "      <th>38923</th>\n",
       "      <th>38924</th>\n",
       "      <th>38925</th>\n",
       "      <th>38926</th>\n",
       "      <th>38927</th>\n",
       "      <th>38928</th>\n",
       "      <th>38929</th>\n",
       "      <th>38930</th>\n",
       "      <th>38931</th>\n",
       "    </tr>\n",
       "  </thead>\n",
       "  <tbody>\n",
       "    <tr>\n",
       "      <th>User_ID</th>\n",
       "      <td>id10326</td>\n",
       "      <td>id10327</td>\n",
       "      <td>id10328</td>\n",
       "      <td>id10329</td>\n",
       "      <td>id10330</td>\n",
       "      <td>id10331</td>\n",
       "      <td>id10332</td>\n",
       "      <td>id10333</td>\n",
       "      <td>id10334</td>\n",
       "      <td>id10335</td>\n",
       "      <td>...</td>\n",
       "      <td>id49248</td>\n",
       "      <td>id49249</td>\n",
       "      <td>id49250</td>\n",
       "      <td>id49251</td>\n",
       "      <td>id49252</td>\n",
       "      <td>id49253</td>\n",
       "      <td>id49254</td>\n",
       "      <td>id49255</td>\n",
       "      <td>id49256</td>\n",
       "      <td>id49257</td>\n",
       "    </tr>\n",
       "    <tr>\n",
       "      <th>Description</th>\n",
       "      <td>The room was kind of clean but had a VERY stro...</td>\n",
       "      <td>I stayed at the Crown Plaza April -- - April -...</td>\n",
       "      <td>I booked this hotel through Hotwire at the low...</td>\n",
       "      <td>Stayed here with husband and sons on the way t...</td>\n",
       "      <td>My girlfriends and I stayed here to celebrate ...</td>\n",
       "      <td>We had - rooms. One was very nice and clearly ...</td>\n",
       "      <td>My husband and I have stayed in this hotel a f...</td>\n",
       "      <td>My wife &amp; I stayed in this glorious city a whi...</td>\n",
       "      <td>My boyfriend and I stayed at the Fairmont on a...</td>\n",
       "      <td>Wonderful staff, great location, but it was de...</td>\n",
       "      <td>...</td>\n",
       "      <td>This hotel has a great location if you want to...</td>\n",
       "      <td>I am pretty impartial to this hotel. I would d...</td>\n",
       "      <td>We booked a room with two single beds. Upon ar...</td>\n",
       "      <td>Arrived via taxi from La Guardia - driving int...</td>\n",
       "      <td>I tend to post reviews only when I’ve had an e...</td>\n",
       "      <td>We arrived late at night and walked in to a ch...</td>\n",
       "      <td>The only positive impression is location and p...</td>\n",
       "      <td>Traveling with friends for shopping and a show...</td>\n",
       "      <td>The experience was just ok. We paid extra for ...</td>\n",
       "      <td>The Westin is a wonderfully restored grande da...</td>\n",
       "    </tr>\n",
       "    <tr>\n",
       "      <th>Browser_Used</th>\n",
       "      <td>Edge</td>\n",
       "      <td>Internet Explorer</td>\n",
       "      <td>Mozilla</td>\n",
       "      <td>InternetExplorer</td>\n",
       "      <td>Edge</td>\n",
       "      <td>InternetExplorer</td>\n",
       "      <td>Firefox</td>\n",
       "      <td>Google Chrome</td>\n",
       "      <td>Internet Explorer</td>\n",
       "      <td>Chrome</td>\n",
       "      <td>...</td>\n",
       "      <td>Edge</td>\n",
       "      <td>Edge</td>\n",
       "      <td>Internet Explorer</td>\n",
       "      <td>Mozilla</td>\n",
       "      <td>Firefox</td>\n",
       "      <td>Edge</td>\n",
       "      <td>InternetExplorer</td>\n",
       "      <td>Firefox</td>\n",
       "      <td>Chrome</td>\n",
       "      <td>Mozilla</td>\n",
       "    </tr>\n",
       "    <tr>\n",
       "      <th>Device_Used</th>\n",
       "      <td>Mobile</td>\n",
       "      <td>Mobile</td>\n",
       "      <td>Tablet</td>\n",
       "      <td>Desktop</td>\n",
       "      <td>Tablet</td>\n",
       "      <td>Desktop</td>\n",
       "      <td>Tablet</td>\n",
       "      <td>Mobile</td>\n",
       "      <td>Desktop</td>\n",
       "      <td>Tablet</td>\n",
       "      <td>...</td>\n",
       "      <td>Desktop</td>\n",
       "      <td>Mobile</td>\n",
       "      <td>Desktop</td>\n",
       "      <td>Mobile</td>\n",
       "      <td>Desktop</td>\n",
       "      <td>Desktop</td>\n",
       "      <td>Mobile</td>\n",
       "      <td>Mobile</td>\n",
       "      <td>Desktop</td>\n",
       "      <td>Desktop</td>\n",
       "    </tr>\n",
       "    <tr>\n",
       "      <th>Is_Response</th>\n",
       "      <td>not happy</td>\n",
       "      <td>not happy</td>\n",
       "      <td>not happy</td>\n",
       "      <td>happy</td>\n",
       "      <td>not happy</td>\n",
       "      <td>happy</td>\n",
       "      <td>not happy</td>\n",
       "      <td>happy</td>\n",
       "      <td>happy</td>\n",
       "      <td>not happy</td>\n",
       "      <td>...</td>\n",
       "      <td>not happy</td>\n",
       "      <td>not happy</td>\n",
       "      <td>happy</td>\n",
       "      <td>happy</td>\n",
       "      <td>not happy</td>\n",
       "      <td>happy</td>\n",
       "      <td>not happy</td>\n",
       "      <td>not happy</td>\n",
       "      <td>not happy</td>\n",
       "      <td>happy</td>\n",
       "    </tr>\n",
       "  </tbody>\n",
       "</table>\n",
       "<p>5 rows × 38932 columns</p>\n",
       "</div>"
      ],
      "text/plain": [
       "                                                          0      \\\n",
       "User_ID                                                 id10326   \n",
       "Description   The room was kind of clean but had a VERY stro...   \n",
       "Browser_Used                                               Edge   \n",
       "Device_Used                                              Mobile   \n",
       "Is_Response                                           not happy   \n",
       "\n",
       "                                                          1      \\\n",
       "User_ID                                                 id10327   \n",
       "Description   I stayed at the Crown Plaza April -- - April -...   \n",
       "Browser_Used                                  Internet Explorer   \n",
       "Device_Used                                              Mobile   \n",
       "Is_Response                                           not happy   \n",
       "\n",
       "                                                          2      \\\n",
       "User_ID                                                 id10328   \n",
       "Description   I booked this hotel through Hotwire at the low...   \n",
       "Browser_Used                                            Mozilla   \n",
       "Device_Used                                              Tablet   \n",
       "Is_Response                                           not happy   \n",
       "\n",
       "                                                          3      \\\n",
       "User_ID                                                 id10329   \n",
       "Description   Stayed here with husband and sons on the way t...   \n",
       "Browser_Used                                   InternetExplorer   \n",
       "Device_Used                                             Desktop   \n",
       "Is_Response                                               happy   \n",
       "\n",
       "                                                          4      \\\n",
       "User_ID                                                 id10330   \n",
       "Description   My girlfriends and I stayed here to celebrate ...   \n",
       "Browser_Used                                               Edge   \n",
       "Device_Used                                              Tablet   \n",
       "Is_Response                                           not happy   \n",
       "\n",
       "                                                          5      \\\n",
       "User_ID                                                 id10331   \n",
       "Description   We had - rooms. One was very nice and clearly ...   \n",
       "Browser_Used                                   InternetExplorer   \n",
       "Device_Used                                             Desktop   \n",
       "Is_Response                                               happy   \n",
       "\n",
       "                                                          6      \\\n",
       "User_ID                                                 id10332   \n",
       "Description   My husband and I have stayed in this hotel a f...   \n",
       "Browser_Used                                            Firefox   \n",
       "Device_Used                                              Tablet   \n",
       "Is_Response                                           not happy   \n",
       "\n",
       "                                                          7      \\\n",
       "User_ID                                                 id10333   \n",
       "Description   My wife & I stayed in this glorious city a whi...   \n",
       "Browser_Used                                      Google Chrome   \n",
       "Device_Used                                              Mobile   \n",
       "Is_Response                                               happy   \n",
       "\n",
       "                                                          8      \\\n",
       "User_ID                                                 id10334   \n",
       "Description   My boyfriend and I stayed at the Fairmont on a...   \n",
       "Browser_Used                                  Internet Explorer   \n",
       "Device_Used                                             Desktop   \n",
       "Is_Response                                               happy   \n",
       "\n",
       "                                                          9      ...  \\\n",
       "User_ID                                                 id10335  ...   \n",
       "Description   Wonderful staff, great location, but it was de...  ...   \n",
       "Browser_Used                                             Chrome  ...   \n",
       "Device_Used                                              Tablet  ...   \n",
       "Is_Response                                           not happy  ...   \n",
       "\n",
       "                                                          38922  \\\n",
       "User_ID                                                 id49248   \n",
       "Description   This hotel has a great location if you want to...   \n",
       "Browser_Used                                               Edge   \n",
       "Device_Used                                             Desktop   \n",
       "Is_Response                                           not happy   \n",
       "\n",
       "                                                          38923  \\\n",
       "User_ID                                                 id49249   \n",
       "Description   I am pretty impartial to this hotel. I would d...   \n",
       "Browser_Used                                               Edge   \n",
       "Device_Used                                              Mobile   \n",
       "Is_Response                                           not happy   \n",
       "\n",
       "                                                          38924  \\\n",
       "User_ID                                                 id49250   \n",
       "Description   We booked a room with two single beds. Upon ar...   \n",
       "Browser_Used                                  Internet Explorer   \n",
       "Device_Used                                             Desktop   \n",
       "Is_Response                                               happy   \n",
       "\n",
       "                                                          38925  \\\n",
       "User_ID                                                 id49251   \n",
       "Description   Arrived via taxi from La Guardia - driving int...   \n",
       "Browser_Used                                            Mozilla   \n",
       "Device_Used                                              Mobile   \n",
       "Is_Response                                               happy   \n",
       "\n",
       "                                                          38926  \\\n",
       "User_ID                                                 id49252   \n",
       "Description   I tend to post reviews only when I’ve had an e...   \n",
       "Browser_Used                                            Firefox   \n",
       "Device_Used                                             Desktop   \n",
       "Is_Response                                           not happy   \n",
       "\n",
       "                                                          38927  \\\n",
       "User_ID                                                 id49253   \n",
       "Description   We arrived late at night and walked in to a ch...   \n",
       "Browser_Used                                               Edge   \n",
       "Device_Used                                             Desktop   \n",
       "Is_Response                                               happy   \n",
       "\n",
       "                                                          38928  \\\n",
       "User_ID                                                 id49254   \n",
       "Description   The only positive impression is location and p...   \n",
       "Browser_Used                                   InternetExplorer   \n",
       "Device_Used                                              Mobile   \n",
       "Is_Response                                           not happy   \n",
       "\n",
       "                                                          38929  \\\n",
       "User_ID                                                 id49255   \n",
       "Description   Traveling with friends for shopping and a show...   \n",
       "Browser_Used                                            Firefox   \n",
       "Device_Used                                              Mobile   \n",
       "Is_Response                                           not happy   \n",
       "\n",
       "                                                          38930  \\\n",
       "User_ID                                                 id49256   \n",
       "Description   The experience was just ok. We paid extra for ...   \n",
       "Browser_Used                                             Chrome   \n",
       "Device_Used                                             Desktop   \n",
       "Is_Response                                           not happy   \n",
       "\n",
       "                                                          38931  \n",
       "User_ID                                                 id49257  \n",
       "Description   The Westin is a wonderfully restored grande da...  \n",
       "Browser_Used                                            Mozilla  \n",
       "Device_Used                                             Desktop  \n",
       "Is_Response                                               happy  \n",
       "\n",
       "[5 rows x 38932 columns]"
      ]
     },
     "execution_count": 4,
     "metadata": {},
     "output_type": "execute_result"
    }
   ],
   "source": [
    "# Transpose function will swap the rows for columns and vice versa\n",
    "Reviewdata.transpose()"
   ]
  },
  {
   "cell_type": "markdown",
   "metadata": {
    "id": "PVlJ40NPqxcZ"
   },
   "source": [
    "## <font color = blue>**3. Data Cleaning**</font>"
   ]
  },
  {
   "cell_type": "markdown",
   "metadata": {
    "id": "dsRUAYt2rBpo"
   },
   "source": [
    "### <font color = green>**3.1 Null value check**</font>"
   ]
  },
  {
   "cell_type": "markdown",
   "metadata": {
    "id": "bmCEpiFfru8K"
   },
   "source": [
    "For the null value check, we are first calculating the total null values in Reviewdata, arranging them in descending order and storing it in a variable 'count'. We are further calculating the total percentage of null value count and constructing a concatenated dataframe having both count and percentage as columns.We arrange these values in descending order as well. This dataframe will show us the decreasing count of null values and their respective percentages."
   ]
  },
  {
   "cell_type": "code",
   "execution_count": 5,
   "metadata": {
    "id": "j6Pz5hIy-AeG",
    "outputId": "5dc38c1a-6952-4edf-d876-de39ec4cb07b"
   },
   "outputs": [
    {
     "name": "stdout",
     "output_type": "stream",
     "text": [
      "Count & percentage of the missing values of the columns:\n"
     ]
    },
    {
     "data": {
      "text/html": [
       "<div>\n",
       "<style scoped>\n",
       "    .dataframe tbody tr th:only-of-type {\n",
       "        vertical-align: middle;\n",
       "    }\n",
       "\n",
       "    .dataframe tbody tr th {\n",
       "        vertical-align: top;\n",
       "    }\n",
       "\n",
       "    .dataframe thead th {\n",
       "        text-align: right;\n",
       "    }\n",
       "</style>\n",
       "<table border=\"1\" class=\"dataframe\">\n",
       "  <thead>\n",
       "    <tr style=\"text-align: right;\">\n",
       "      <th></th>\n",
       "      <th>Count</th>\n",
       "      <th>Percentage</th>\n",
       "    </tr>\n",
       "  </thead>\n",
       "  <tbody>\n",
       "    <tr>\n",
       "      <th>User_ID</th>\n",
       "      <td>0</td>\n",
       "      <td>0.0</td>\n",
       "    </tr>\n",
       "    <tr>\n",
       "      <th>Description</th>\n",
       "      <td>0</td>\n",
       "      <td>0.0</td>\n",
       "    </tr>\n",
       "    <tr>\n",
       "      <th>Browser_Used</th>\n",
       "      <td>0</td>\n",
       "      <td>0.0</td>\n",
       "    </tr>\n",
       "    <tr>\n",
       "      <th>Device_Used</th>\n",
       "      <td>0</td>\n",
       "      <td>0.0</td>\n",
       "    </tr>\n",
       "    <tr>\n",
       "      <th>Is_Response</th>\n",
       "      <td>0</td>\n",
       "      <td>0.0</td>\n",
       "    </tr>\n",
       "  </tbody>\n",
       "</table>\n",
       "</div>"
      ],
      "text/plain": [
       "              Count  Percentage\n",
       "User_ID           0         0.0\n",
       "Description       0         0.0\n",
       "Browser_Used      0         0.0\n",
       "Device_Used       0         0.0\n",
       "Is_Response       0         0.0"
      ]
     },
     "execution_count": 5,
     "metadata": {},
     "output_type": "execute_result"
    }
   ],
   "source": [
    "# Data cleaning / EDA\n",
    "# Here we are counting the null values and check their % count from the total dataset.\n",
    "# Once done we are constructing a dataframe and concatenating the values and title inside.\n",
    "# To treat the null values the percentage count should be greater than 30.\n",
    "\n",
    "count = Reviewdata.isnull().sum().sort_values(ascending = False)\n",
    "percentage = ((Reviewdata.isnull().sum()/len(Reviewdata)*100)).sort_values(ascending=False)\n",
    "missing_data = pd.concat([count, percentage], axis = 1, keys = ['Count', 'Percentage'])\n",
    "\n",
    "print('Count & percentage of the missing values of the columns:')\n",
    "\n",
    "missing_data"
   ]
  },
  {
   "cell_type": "markdown",
   "metadata": {
    "id": "GZHme4WfriaK"
   },
   "source": [
    "## <font color = blue>**4. EDA**</font>"
   ]
  },
  {
   "cell_type": "markdown",
   "metadata": {
    "id": "b4h_tJ5vttCY"
   },
   "source": [
    "Now we are performing Exploratory Data Analysis to check the value count distribution of the 2 moods in the 'Is_Response' column. Initially we are calculating the % of total value count from 'Is_Response' column and then we are plotting the same using a bar graph. For EDA we have use matplotlib as the library."
   ]
  },
  {
   "cell_type": "code",
   "execution_count": 6,
   "metadata": {
    "id": "LDhMUGK5-AeH",
    "outputId": "c8fc6d16-7dad-4278-f2b0-a8efaea93a47"
   },
   "outputs": [
    {
     "name": "stdout",
     "output_type": "stream",
     "text": [
      "Percentage for default\n",
      "\n",
      "Is_Response\n",
      "happy        68.12\n",
      "not happy    31.88\n",
      "Name: proportion, dtype: float64\n"
     ]
    },
    {
     "data": {
      "image/png": "[encoded data removed]",
      "text/plain": [
       "<Figure size 640x480 with 1 Axes>"
      ]
     },
     "metadata": {},
     "output_type": "display_data"
    }
   ],
   "source": [
    "# Plotting the graphs and checking the distribution\n",
    "\n",
    "# here we are taking the value counts of the Is repsonse column for all the sentiment 'happy' and 'not happy'\n",
    "# We are then formatting the values using round function (multiplying the value by 100) and considering only 2\n",
    "# decimal places.\n",
    "# We are then plotting a bar graph of these formatted values.\n",
    "\n",
    "\n",
    "import matplotlib.pyplot as plt\n",
    "\n",
    "print('Percentage for default\\n')\n",
    "print(round(Reviewdata.Is_Response.value_counts(normalize = True)*100,2))\n",
    "round(Reviewdata.Is_Response.value_counts(normalize = True)*100,2).plot(kind='bar')\n",
    "\n",
    "plt.title('Percentage distribution by review type')\n",
    "plt.show()"
   ]
  },
  {
   "cell_type": "markdown",
   "metadata": {
    "id": "vOqIXhR0NDTy"
   },
   "source": [
    "## <font color = blue>**5. Dropping unnecessary columns**</font>"
   ]
  },
  {
   "cell_type": "markdown",
   "metadata": {
    "id": "uBADXq9ONMCU"
   },
   "source": [
    "The next step is to filter out the unnecessary columns that do not contribute much in sentiment analysis, so we are going to drop them. These columns are 'User_ID','Browser_Used' & 'Device_Used'."
   ]
  },
  {
   "cell_type": "code",
   "execution_count": 7,
   "metadata": {
    "id": "gKtyUhXw-AeI"
   },
   "outputs": [],
   "source": [
    "# Dropping unnecessary columns\n",
    "# Here we are dropping 'User_ID','Browser_Used','Device_Used' since they do not carry much significance\n",
    "# while doing sentiment analysis.\n",
    "\n",
    "Reviewdata.drop(columns= ['User_ID','Browser_Used','Device_Used'],inplace = True)"
   ]
  },
  {
   "cell_type": "code",
   "execution_count": 8,
   "metadata": {
    "id": "B2WJkG9j-AeJ",
    "outputId": "ac2d1ecc-d60d-422a-a86c-1744ad7dfeef"
   },
   "outputs": [
    {
     "data": {
      "text/html": [
       "<div>\n",
       "<style scoped>\n",
       "    .dataframe tbody tr th:only-of-type {\n",
       "        vertical-align: middle;\n",
       "    }\n",
       "\n",
       "    .dataframe tbody tr th {\n",
       "        vertical-align: top;\n",
       "    }\n",
       "\n",
       "    .dataframe thead th {\n",
       "        text-align: right;\n",
       "    }\n",
       "</style>\n",
       "<table border=\"1\" class=\"dataframe\">\n",
       "  <thead>\n",
       "    <tr style=\"text-align: right;\">\n",
       "      <th></th>\n",
       "      <th>Description</th>\n",
       "      <th>Is_Response</th>\n",
       "    </tr>\n",
       "  </thead>\n",
       "  <tbody>\n",
       "    <tr>\n",
       "      <th>0</th>\n",
       "      <td>The room was kind of clean but had a VERY stro...</td>\n",
       "      <td>not happy</td>\n",
       "    </tr>\n",
       "    <tr>\n",
       "      <th>1</th>\n",
       "      <td>I stayed at the Crown Plaza April -- - April -...</td>\n",
       "      <td>not happy</td>\n",
       "    </tr>\n",
       "    <tr>\n",
       "      <th>2</th>\n",
       "      <td>I booked this hotel through Hotwire at the low...</td>\n",
       "      <td>not happy</td>\n",
       "    </tr>\n",
       "    <tr>\n",
       "      <th>3</th>\n",
       "      <td>Stayed here with husband and sons on the way t...</td>\n",
       "      <td>happy</td>\n",
       "    </tr>\n",
       "    <tr>\n",
       "      <th>4</th>\n",
       "      <td>My girlfriends and I stayed here to celebrate ...</td>\n",
       "      <td>not happy</td>\n",
       "    </tr>\n",
       "  </tbody>\n",
       "</table>\n",
       "</div>"
      ],
      "text/plain": [
       "                                         Description Is_Response\n",
       "0  The room was kind of clean but had a VERY stro...   not happy\n",
       "1  I stayed at the Crown Plaza April -- - April -...   not happy\n",
       "2  I booked this hotel through Hotwire at the low...   not happy\n",
       "3  Stayed here with husband and sons on the way t...       happy\n",
       "4  My girlfriends and I stayed here to celebrate ...   not happy"
      ]
     },
     "execution_count": 8,
     "metadata": {},
     "output_type": "execute_result"
    }
   ],
   "source": [
    "Reviewdata.head()"
   ]
  },
  {
   "cell_type": "markdown",
   "metadata": {
    "id": "0fyJbrLWNssN"
   },
   "source": [
    "## <font color = blue>**6. Applying 1st level cleaning**</font>"
   ]
  },
  {
   "cell_type": "markdown",
   "metadata": {
    "id": "WxHXDcv4O90k"
   },
   "source": [
    "Now that we have our essential columns, it is important that we clean those columns well. So by cleaning I mean applying certain steps to make sure the input data is interpretable before we apply train test split.\n"
   ]
  },
  {
   "cell_type": "code",
   "execution_count": 9,
   "metadata": {
    "id": "iYWzy11B-AeJ",
    "outputId": "470242c9-9930-40a3-907d-439da6ddaf16"
   },
   "outputs": [],
   "source": [
    "# Apply first level cleaning\n",
    "\n",
    "import re\n",
    "import string\n",
    "\n",
    "# This function converts to lower_case, removes square brackets, remove numbers and punctuations\n",
    "\n",
    "def text_clean_1(text):\n",
    "    text = text.lower()\n",
    "    text = re.sub('\\[.*?\\]','',text)\n",
    "    text = re.sub('[%s]'% re.escape(string.punctuation), '',text)\n",
    "    text = re.sub('\\w*\\d\\w*','', text)\n",
    "    return text\n",
    "\n",
    "cleaned1 = lambda x : text_clean_1(x)"
   ]
  },
  {
   "cell_type": "markdown",
   "metadata": {
    "id": "FUspK_2SUDIB"
   },
   "source": [
    "The import 're' statement imports Python's regular expression module, which allows for pattern matching and manipulation of strings using regular expressions.\n",
    "\n",
    "The import string statement imports Python's 'string' module, which provides a collection of string constants and utility functions.\n",
    "\n",
    "The function text_clean_1(text) is defined with one parameter text, which represents the input text to be cleaned.\n",
    "\n",
    "Inside the function:\n",
    "**text = text.lower()** converts the input text to lowercase using the lower() method, making the text case-insensitive.\n",
    "\n",
    "**text = re.sub('\\[.*?\\]','',text)** uses regular expressions to remove square brackets and their contents from the text. Here, re.sub() is a method for substituting occurrences of a pattern in a string with another string. The pattern '\\[.*?\\]' matches any text within square brackets, and '' is used as the replacement to remove them.\n",
    "\n",
    "**text = re.sub('[%s]'% re.escape(string.punctuation), '',text)** removes punctuations from the text. re.escape(string.punctuation) escapes all the characters in string.punctuation so that they can be used in a regular expression pattern. The pattern [...] matches any character inside the square brackets, and the re.sub() function replaces them with an empty string, effectively removing them.\n",
    "\n",
    "**text = re.sub('\\w*\\d\\w*','', text)** removes any words containing digits from the text. The pattern \\w*\\d\\w* matches any word containing one or more digits. Again, re.sub() is used to replace these words with an empty string.\n",
    "The function returns the cleaned text.\n",
    "\n",
    "Finally, a **lambda function** cleaned1 is defined, which takes an input x and applies the text_clean_1 function to it. This lambda function can be used to clean text strings."
   ]
  },
  {
   "cell_type": "markdown",
   "metadata": {
    "id": "hUQXIwiUWTe3"
   },
   "source": [
    "## <font color = blue>**7. Adding 1st cleaned column to the dataframe**</font>"
   ]
  },
  {
   "cell_type": "markdown",
   "metadata": {
    "id": "g0blt6JXYXTZ"
   },
   "source": [
    "Now let us add our extracted clean text as a column to our original dataframe using pandas."
   ]
  },
  {
   "cell_type": "code",
   "execution_count": 10,
   "metadata": {
    "id": "W_rqTxxh-AeK",
    "outputId": "337b5961-07b2-4d96-e7f2-9f1d67776126"
   },
   "outputs": [
    {
     "data": {
      "text/html": [
       "<div>\n",
       "<style scoped>\n",
       "    .dataframe tbody tr th:only-of-type {\n",
       "        vertical-align: middle;\n",
       "    }\n",
       "\n",
       "    .dataframe tbody tr th {\n",
       "        vertical-align: top;\n",
       "    }\n",
       "\n",
       "    .dataframe thead th {\n",
       "        text-align: right;\n",
       "    }\n",
       "</style>\n",
       "<table border=\"1\" class=\"dataframe\">\n",
       "  <thead>\n",
       "    <tr style=\"text-align: right;\">\n",
       "      <th></th>\n",
       "      <th>Description</th>\n",
       "      <th>Is_Response</th>\n",
       "      <th>cleaned_description</th>\n",
       "    </tr>\n",
       "  </thead>\n",
       "  <tbody>\n",
       "    <tr>\n",
       "      <th>0</th>\n",
       "      <td>The room was kind of clean but had a VERY stro...</td>\n",
       "      <td>not happy</td>\n",
       "      <td>the room was kind of clean but had a very stro...</td>\n",
       "    </tr>\n",
       "    <tr>\n",
       "      <th>1</th>\n",
       "      <td>I stayed at the Crown Plaza April -- - April -...</td>\n",
       "      <td>not happy</td>\n",
       "      <td>i stayed at the crown plaza april   april   th...</td>\n",
       "    </tr>\n",
       "    <tr>\n",
       "      <th>2</th>\n",
       "      <td>I booked this hotel through Hotwire at the low...</td>\n",
       "      <td>not happy</td>\n",
       "      <td>i booked this hotel through hotwire at the low...</td>\n",
       "    </tr>\n",
       "    <tr>\n",
       "      <th>3</th>\n",
       "      <td>Stayed here with husband and sons on the way t...</td>\n",
       "      <td>happy</td>\n",
       "      <td>stayed here with husband and sons on the way t...</td>\n",
       "    </tr>\n",
       "    <tr>\n",
       "      <th>4</th>\n",
       "      <td>My girlfriends and I stayed here to celebrate ...</td>\n",
       "      <td>not happy</td>\n",
       "      <td>my girlfriends and i stayed here to celebrate ...</td>\n",
       "    </tr>\n",
       "    <tr>\n",
       "      <th>5</th>\n",
       "      <td>We had - rooms. One was very nice and clearly ...</td>\n",
       "      <td>happy</td>\n",
       "      <td>we had  rooms one was very nice and clearly ha...</td>\n",
       "    </tr>\n",
       "    <tr>\n",
       "      <th>6</th>\n",
       "      <td>My husband and I have stayed in this hotel a f...</td>\n",
       "      <td>not happy</td>\n",
       "      <td>my husband and i have stayed in this hotel a f...</td>\n",
       "    </tr>\n",
       "    <tr>\n",
       "      <th>7</th>\n",
       "      <td>My wife &amp; I stayed in this glorious city a whi...</td>\n",
       "      <td>happy</td>\n",
       "      <td>my wife  i stayed in this glorious city a whil...</td>\n",
       "    </tr>\n",
       "    <tr>\n",
       "      <th>8</th>\n",
       "      <td>My boyfriend and I stayed at the Fairmont on a...</td>\n",
       "      <td>happy</td>\n",
       "      <td>my boyfriend and i stayed at the fairmont on a...</td>\n",
       "    </tr>\n",
       "    <tr>\n",
       "      <th>9</th>\n",
       "      <td>Wonderful staff, great location, but it was de...</td>\n",
       "      <td>not happy</td>\n",
       "      <td>wonderful staff great location but it was defi...</td>\n",
       "    </tr>\n",
       "  </tbody>\n",
       "</table>\n",
       "</div>"
      ],
      "text/plain": [
       "                                         Description Is_Response  \\\n",
       "0  The room was kind of clean but had a VERY stro...   not happy   \n",
       "1  I stayed at the Crown Plaza April -- - April -...   not happy   \n",
       "2  I booked this hotel through Hotwire at the low...   not happy   \n",
       "3  Stayed here with husband and sons on the way t...       happy   \n",
       "4  My girlfriends and I stayed here to celebrate ...   not happy   \n",
       "5  We had - rooms. One was very nice and clearly ...       happy   \n",
       "6  My husband and I have stayed in this hotel a f...   not happy   \n",
       "7  My wife & I stayed in this glorious city a whi...       happy   \n",
       "8  My boyfriend and I stayed at the Fairmont on a...       happy   \n",
       "9  Wonderful staff, great location, but it was de...   not happy   \n",
       "\n",
       "                                 cleaned_description  \n",
       "0  the room was kind of clean but had a very stro...  \n",
       "1  i stayed at the crown plaza april   april   th...  \n",
       "2  i booked this hotel through hotwire at the low...  \n",
       "3  stayed here with husband and sons on the way t...  \n",
       "4  my girlfriends and i stayed here to celebrate ...  \n",
       "5  we had  rooms one was very nice and clearly ha...  \n",
       "6  my husband and i have stayed in this hotel a f...  \n",
       "7  my wife  i stayed in this glorious city a whil...  \n",
       "8  my boyfriend and i stayed at the fairmont on a...  \n",
       "9  wonderful staff great location but it was defi...  "
      ]
     },
     "execution_count": 10,
     "metadata": {},
     "output_type": "execute_result"
    }
   ],
   "source": [
    "# Adding the cleaned text as a column using a dataframe\n",
    "Reviewdata['cleaned_description'] = pd.DataFrame(Reviewdata.Description.apply(cleaned1))\n",
    "Reviewdata.head(10)"
   ]
  },
  {
   "cell_type": "markdown",
   "metadata": {
    "id": "kXIa8vhRWok3"
   },
   "source": [
    "## <font color = blue>**8. Applying 2nd level cleaning**</font>"
   ]
  },
  {
   "cell_type": "code",
   "execution_count": 11,
   "metadata": {
    "id": "I2Sj-cuO-AeL"
   },
   "outputs": [],
   "source": [
    "# Apply a second round of cleaning\n",
    "# So when you are converting a pdf file to text file we get unnecessary apostrophe or colon & also\n",
    "# unncessary shift to the next line '\\n' hence we need to do the second round of cleaning\n",
    "\n",
    "def text_clean_2(text):\n",
    "    text = re.sub('[''\"\"...]','',text)\n",
    "    text = re.sub('\\n','',text)\n",
    "    return text\n",
    "\n",
    "cleaned_2 = lambda x: text_clean_2(x)"
   ]
  },
  {
   "cell_type": "markdown",
   "metadata": {
    "id": "VSqpui1pYAMP"
   },
   "source": [
    "This pattern matches single quotes ('), double quotes (\"), and the ellipsis character (…), and replaces them with an empty string.\n",
    "\n",
    "text = re.sub('\\n','',text) removes newline characters (\\n) from the text, effectively removing line breaks.\n",
    "\n",
    "The function returns the cleaned text.\n",
    "The lambda function cleaned_2 is defined, which takes an input x and applies the text_clean_2 function to it."
   ]
  },
  {
   "cell_type": "markdown",
   "metadata": {
    "id": "cCHdBuz-YKAz"
   },
   "source": [
    "## <font color = blue>**9. Adding 2nd cleaned column to the dataframe**</font>"
   ]
  },
  {
   "cell_type": "markdown",
   "metadata": {
    "id": "nSGyuAiBYjan"
   },
   "source": [
    "Now let us add the second cleaned column using pandas dataframe as well."
   ]
  },
  {
   "cell_type": "code",
   "execution_count": 12,
   "metadata": {
    "id": "na7M8KO5-AeL",
    "outputId": "20d40442-c48d-4efa-c6c6-b5485d6155f1"
   },
   "outputs": [
    {
     "data": {
      "text/html": [
       "<div>\n",
       "<style scoped>\n",
       "    .dataframe tbody tr th:only-of-type {\n",
       "        vertical-align: middle;\n",
       "    }\n",
       "\n",
       "    .dataframe tbody tr th {\n",
       "        vertical-align: top;\n",
       "    }\n",
       "\n",
       "    .dataframe thead th {\n",
       "        text-align: right;\n",
       "    }\n",
       "</style>\n",
       "<table border=\"1\" class=\"dataframe\">\n",
       "  <thead>\n",
       "    <tr style=\"text-align: right;\">\n",
       "      <th></th>\n",
       "      <th>Description</th>\n",
       "      <th>Is_Response</th>\n",
       "      <th>cleaned_description</th>\n",
       "      <th>cleaned_description_new</th>\n",
       "    </tr>\n",
       "  </thead>\n",
       "  <tbody>\n",
       "    <tr>\n",
       "      <th>0</th>\n",
       "      <td>The room was kind of clean but had a VERY stro...</td>\n",
       "      <td>not happy</td>\n",
       "      <td>the room was kind of clean but had a very stro...</td>\n",
       "      <td>The room was kind of clean but had a VERY stro...</td>\n",
       "    </tr>\n",
       "    <tr>\n",
       "      <th>1</th>\n",
       "      <td>I stayed at the Crown Plaza April -- - April -...</td>\n",
       "      <td>not happy</td>\n",
       "      <td>i stayed at the crown plaza april   april   th...</td>\n",
       "      <td>I stayed at the Crown Plaza April -- - April -...</td>\n",
       "    </tr>\n",
       "    <tr>\n",
       "      <th>2</th>\n",
       "      <td>I booked this hotel through Hotwire at the low...</td>\n",
       "      <td>not happy</td>\n",
       "      <td>i booked this hotel through hotwire at the low...</td>\n",
       "      <td>I booked this hotel through Hotwire at the low...</td>\n",
       "    </tr>\n",
       "    <tr>\n",
       "      <th>3</th>\n",
       "      <td>Stayed here with husband and sons on the way t...</td>\n",
       "      <td>happy</td>\n",
       "      <td>stayed here with husband and sons on the way t...</td>\n",
       "      <td>Stayed here with husband and sons on the way t...</td>\n",
       "    </tr>\n",
       "    <tr>\n",
       "      <th>4</th>\n",
       "      <td>My girlfriends and I stayed here to celebrate ...</td>\n",
       "      <td>not happy</td>\n",
       "      <td>my girlfriends and i stayed here to celebrate ...</td>\n",
       "      <td>My girlfriends and I stayed here to celebrate ...</td>\n",
       "    </tr>\n",
       "    <tr>\n",
       "      <th>5</th>\n",
       "      <td>We had - rooms. One was very nice and clearly ...</td>\n",
       "      <td>happy</td>\n",
       "      <td>we had  rooms one was very nice and clearly ha...</td>\n",
       "      <td>We had - rooms One was very nice and clearly h...</td>\n",
       "    </tr>\n",
       "    <tr>\n",
       "      <th>6</th>\n",
       "      <td>My husband and I have stayed in this hotel a f...</td>\n",
       "      <td>not happy</td>\n",
       "      <td>my husband and i have stayed in this hotel a f...</td>\n",
       "      <td>My husband and I have stayed in this hotel a f...</td>\n",
       "    </tr>\n",
       "    <tr>\n",
       "      <th>7</th>\n",
       "      <td>My wife &amp; I stayed in this glorious city a whi...</td>\n",
       "      <td>happy</td>\n",
       "      <td>my wife  i stayed in this glorious city a whil...</td>\n",
       "      <td>My wife &amp; I stayed in this glorious city a whi...</td>\n",
       "    </tr>\n",
       "    <tr>\n",
       "      <th>8</th>\n",
       "      <td>My boyfriend and I stayed at the Fairmont on a...</td>\n",
       "      <td>happy</td>\n",
       "      <td>my boyfriend and i stayed at the fairmont on a...</td>\n",
       "      <td>My boyfriend and I stayed at the Fairmont on a...</td>\n",
       "    </tr>\n",
       "    <tr>\n",
       "      <th>9</th>\n",
       "      <td>Wonderful staff, great location, but it was de...</td>\n",
       "      <td>not happy</td>\n",
       "      <td>wonderful staff great location but it was defi...</td>\n",
       "      <td>Wonderful staff, great location, but it was de...</td>\n",
       "    </tr>\n",
       "  </tbody>\n",
       "</table>\n",
       "</div>"
      ],
      "text/plain": [
       "                                         Description Is_Response  \\\n",
       "0  The room was kind of clean but had a VERY stro...   not happy   \n",
       "1  I stayed at the Crown Plaza April -- - April -...   not happy   \n",
       "2  I booked this hotel through Hotwire at the low...   not happy   \n",
       "3  Stayed here with husband and sons on the way t...       happy   \n",
       "4  My girlfriends and I stayed here to celebrate ...   not happy   \n",
       "5  We had - rooms. One was very nice and clearly ...       happy   \n",
       "6  My husband and I have stayed in this hotel a f...   not happy   \n",
       "7  My wife & I stayed in this glorious city a whi...       happy   \n",
       "8  My boyfriend and I stayed at the Fairmont on a...       happy   \n",
       "9  Wonderful staff, great location, but it was de...   not happy   \n",
       "\n",
       "                                 cleaned_description  \\\n",
       "0  the room was kind of clean but had a very stro...   \n",
       "1  i stayed at the crown plaza april   april   th...   \n",
       "2  i booked this hotel through hotwire at the low...   \n",
       "3  stayed here with husband and sons on the way t...   \n",
       "4  my girlfriends and i stayed here to celebrate ...   \n",
       "5  we had  rooms one was very nice and clearly ha...   \n",
       "6  my husband and i have stayed in this hotel a f...   \n",
       "7  my wife  i stayed in this glorious city a whil...   \n",
       "8  my boyfriend and i stayed at the fairmont on a...   \n",
       "9  wonderful staff great location but it was defi...   \n",
       "\n",
       "                             cleaned_description_new  \n",
       "0  The room was kind of clean but had a VERY stro...  \n",
       "1  I stayed at the Crown Plaza April -- - April -...  \n",
       "2  I booked this hotel through Hotwire at the low...  \n",
       "3  Stayed here with husband and sons on the way t...  \n",
       "4  My girlfriends and I stayed here to celebrate ...  \n",
       "5  We had - rooms One was very nice and clearly h...  \n",
       "6  My husband and I have stayed in this hotel a f...  \n",
       "7  My wife & I stayed in this glorious city a whi...  \n",
       "8  My boyfriend and I stayed at the Fairmont on a...  \n",
       "9  Wonderful staff, great location, but it was de...  "
      ]
     },
     "execution_count": 12,
     "metadata": {},
     "output_type": "execute_result"
    }
   ],
   "source": [
    "# Adding the cleaned text as a column using a dataframe\n",
    "Reviewdata['cleaned_description_new'] = pd.DataFrame(Reviewdata.Description.apply(cleaned_2))\n",
    "Reviewdata.head(10)"
   ]
  },
  {
   "cell_type": "markdown",
   "metadata": {
    "id": "PpTgz8viZow_"
   },
   "source": [
    "## <font color = blue>**10. Applying train_test_split**</font>"
   ]
  },
  {
   "cell_type": "markdown",
   "metadata": {
    "id": "Tos_EYNHZ7id"
   },
   "source": [
    "Then we perform the traditional Train-test split where we are initially defining the dependent (y) and independent variable (x). The only difference here is I have written 'x' as dependent_var and 'y' as independent_var."
   ]
  },
  {
   "cell_type": "code",
   "execution_count": 13,
   "metadata": {
    "id": "nT25q6Qp-AeL",
    "outputId": "f97d1295-f786-4771-e6d3-ccd2fe2e46f7"
   },
   "outputs": [
    {
     "name": "stdout",
     "output_type": "stream",
     "text": [
      "IV train : 35038\n",
      "IV test : 3894\n",
      "DV train : 35038\n",
      "DV test : 3894\n"
     ]
    }
   ],
   "source": [
    "# Training the model\n",
    "# here we are performing traditional train test split on Independent var (y = cleaned_description_new)\n",
    "# & dependent_var ( x = Is_Response). Once done, we are checking the length of the train & test data.\n",
    "\n",
    "from sklearn.model_selection import train_test_split\n",
    "\n",
    "Independent_var = Reviewdata.cleaned_description_new\n",
    "Dependent_var = Reviewdata.Is_Response\n",
    "\n",
    "IV_train, IV_test, DV_train, DV_test = train_test_split(Independent_var,Dependent_var,\n",
    "                                                         test_size=0.1,random_state=225)\n",
    "\n",
    "print('IV train :', len(IV_train))\n",
    "\n",
    "print('IV test :', len(IV_test))\n",
    "\n",
    "print('DV train :', len(DV_train))\n",
    "\n",
    "print('DV test :', len(DV_test))"
   ]
  },
  {
   "cell_type": "markdown",
   "metadata": {
    "id": "539bdm4rdcjG"
   },
   "source": [
    "## <font color = blue>**11. Applying Tfidf vectorizer**</font>"
   ]
  },
  {
   "cell_type": "markdown",
   "metadata": {
    "id": "wztfoy8feNUp"
   },
   "source": [
    "Tfidf vectorizer make use of product of Term frequency and Inverse Document Frequency to assign importance to the essential words. It is then followed by applying a logistic regression to help classify the sentiment properly. solver = 'lbfgs' is generally used or code optimization.\n",
    "Both these functions we are first placing inside a pipeline and then fitting them on train data of dependent and independent variable."
   ]
  },
  {
   "cell_type": "code",
   "execution_count": 14,
   "metadata": {
    "id": "L75pJ_ha-AeM"
   },
   "outputs": [],
   "source": [
    "# We are using TfidVectorizer to give relevant words the importance.\n",
    "# We are also performing Logistic regression, while fitting however we are using a pipeline function that\n",
    "# passes the value to the model as a pipeline and fits the model on the train data.\n",
    "# 'lbfgs' is used to optimize the code\n",
    "\n",
    "from sklearn.feature_extraction.text import TfidfVectorizer\n",
    "from sklearn.linear_model import LogisticRegression\n",
    "\n",
    "tvec = TfidfVectorizer()\n",
    "clf2 = LogisticRegression(solver='lbfgs')\n"
   ]
  },
  {
   "cell_type": "code",
   "execution_count": 15,
   "metadata": {
    "id": "9sdKvyb8-AeM",
    "outputId": "44ed61d5-b46c-4eb6-9d33-87848336e65d"
   },
   "outputs": [
    {
     "name": "stderr",
     "output_type": "stream",
     "text": [
      "C:\\Users\\ninad\\anaconda3\\Lib\\site-packages\\sklearn\\linear_model\\_logistic.py:458: ConvergenceWarning: lbfgs failed to converge (status=1):\n",
      "STOP: TOTAL NO. of ITERATIONS REACHED LIMIT.\n",
      "\n",
      "Increase the number of iterations (max_iter) or scale the data as shown in:\n",
      "    https://scikit-learn.org/stable/modules/preprocessing.html\n",
      "Please also refer to the documentation for alternative solver options:\n",
      "    https://scikit-learn.org/stable/modules/linear_model.html#logistic-regression\n",
      "  n_iter_i = _check_optimize_result(\n"
     ]
    },
    {
     "data": {
      "text/html": [
       "<style>#sk-container-id-1 {color: black;background-color: white;}#sk-container-id-1 pre{padding: 0;}#sk-container-id-1 div.sk-toggleable {background-color: white;}#sk-container-id-1 label.sk-toggleable__label {cursor: pointer;display: block;width: 100%;margin-bottom: 0;padding: 0.3em;box-sizing: border-box;text-align: center;}#sk-container-id-1 label.sk-toggleable__label-arrow:before {content: \"▸\";float: left;margin-right: 0.25em;color: #696969;}#sk-container-id-1 label.sk-toggleable__label-arrow:hover:before {color: black;}#sk-container-id-1 div.sk-estimator:hover label.sk-toggleable__label-arrow:before {color: black;}#sk-container-id-1 div.sk-toggleable__content {max-height: 0;max-width: 0;overflow: hidden;text-align: left;background-color: #f0f8ff;}#sk-container-id-1 div.sk-toggleable__content pre {margin: 0.2em;color: black;border-radius: 0.25em;background-color: #f0f8ff;}#sk-container-id-1 input.sk-toggleable__control:checked~div.sk-toggleable__content {max-height: 200px;max-width: 100%;overflow: auto;}#sk-container-id-1 input.sk-toggleable__control:checked~label.sk-toggleable__label-arrow:before {content: \"▾\";}#sk-container-id-1 div.sk-estimator input.sk-toggleable__control:checked~label.sk-toggleable__label {background-color: #d4ebff;}#sk-container-id-1 div.sk-label input.sk-toggleable__control:checked~label.sk-toggleable__label {background-color: #d4ebff;}#sk-container-id-1 input.sk-hidden--visually {border: 0;clip: rect(1px 1px 1px 1px);clip: rect(1px, 1px, 1px, 1px);height: 1px;margin: -1px;overflow: hidden;padding: 0;position: absolute;width: 1px;}#sk-container-id-1 div.sk-estimator {font-family: monospace;background-color: #f0f8ff;border: 1px dotted black;border-radius: 0.25em;box-sizing: border-box;margin-bottom: 0.5em;}#sk-container-id-1 div.sk-estimator:hover {background-color: #d4ebff;}#sk-container-id-1 div.sk-parallel-item::after {content: \"\";width: 100%;border-bottom: 1px solid gray;flex-grow: 1;}#sk-container-id-1 div.sk-label:hover label.sk-toggleable__label {background-color: #d4ebff;}#sk-container-id-1 div.sk-serial::before {content: \"\";position: absolute;border-left: 1px solid gray;box-sizing: border-box;top: 0;bottom: 0;left: 50%;z-index: 0;}#sk-container-id-1 div.sk-serial {display: flex;flex-direction: column;align-items: center;background-color: white;padding-right: 0.2em;padding-left: 0.2em;position: relative;}#sk-container-id-1 div.sk-item {position: relative;z-index: 1;}#sk-container-id-1 div.sk-parallel {display: flex;align-items: stretch;justify-content: center;background-color: white;position: relative;}#sk-container-id-1 div.sk-item::before, #sk-container-id-1 div.sk-parallel-item::before {content: \"\";position: absolute;border-left: 1px solid gray;box-sizing: border-box;top: 0;bottom: 0;left: 50%;z-index: -1;}#sk-container-id-1 div.sk-parallel-item {display: flex;flex-direction: column;z-index: 1;position: relative;background-color: white;}#sk-container-id-1 div.sk-parallel-item:first-child::after {align-self: flex-end;width: 50%;}#sk-container-id-1 div.sk-parallel-item:last-child::after {align-self: flex-start;width: 50%;}#sk-container-id-1 div.sk-parallel-item:only-child::after {width: 0;}#sk-container-id-1 div.sk-dashed-wrapped {border: 1px dashed gray;margin: 0 0.4em 0.5em 0.4em;box-sizing: border-box;padding-bottom: 0.4em;background-color: white;}#sk-container-id-1 div.sk-label label {font-family: monospace;font-weight: bold;display: inline-block;line-height: 1.2em;}#sk-container-id-1 div.sk-label-container {text-align: center;}#sk-container-id-1 div.sk-container {/* jupyter's `normalize.less` sets `[hidden] { display: none; }` but bootstrap.min.css set `[hidden] { display: none !important; }` so we also need the `!important` here to be able to override the default hidden behavior on the sphinx rendered scikit-learn.org. See: https://github.com/scikit-learn/scikit-learn/issues/21755 */display: inline-block !important;position: relative;}#sk-container-id-1 div.sk-text-repr-fallback {display: none;}</style><div id=\"sk-container-id-1\" class=\"sk-top-container\"><div class=\"sk-text-repr-fallback\"><pre>Pipeline(steps=[(&#x27;vectorizer&#x27;, TfidfVectorizer()),\n",
       "                (&#x27;classifier&#x27;, LogisticRegression())])</pre><b>In a Jupyter environment, please rerun this cell to show the HTML representation or trust the notebook. <br />On GitHub, the HTML representation is unable to render, please try loading this page with nbviewer.org.</b></div><div class=\"sk-container\" hidden><div class=\"sk-item sk-dashed-wrapped\"><div class=\"sk-label-container\"><div class=\"sk-label sk-toggleable\"><input class=\"sk-toggleable__control sk-hidden--visually\" id=\"sk-estimator-id-1\" type=\"checkbox\" ><label for=\"sk-estimator-id-1\" class=\"sk-toggleable__label sk-toggleable__label-arrow\">Pipeline</label><div class=\"sk-toggleable__content\"><pre>Pipeline(steps=[(&#x27;vectorizer&#x27;, TfidfVectorizer()),\n",
       "                (&#x27;classifier&#x27;, LogisticRegression())])</pre></div></div></div><div class=\"sk-serial\"><div class=\"sk-item\"><div class=\"sk-estimator sk-toggleable\"><input class=\"sk-toggleable__control sk-hidden--visually\" id=\"sk-estimator-id-2\" type=\"checkbox\" ><label for=\"sk-estimator-id-2\" class=\"sk-toggleable__label sk-toggleable__label-arrow\">TfidfVectorizer</label><div class=\"sk-toggleable__content\"><pre>TfidfVectorizer()</pre></div></div></div><div class=\"sk-item\"><div class=\"sk-estimator sk-toggleable\"><input class=\"sk-toggleable__control sk-hidden--visually\" id=\"sk-estimator-id-3\" type=\"checkbox\" ><label for=\"sk-estimator-id-3\" class=\"sk-toggleable__label sk-toggleable__label-arrow\">LogisticRegression</label><div class=\"sk-toggleable__content\"><pre>LogisticRegression()</pre></div></div></div></div></div></div></div>"
      ],
      "text/plain": [
       "Pipeline(steps=[('vectorizer', TfidfVectorizer()),\n",
       "                ('classifier', LogisticRegression())])"
      ]
     },
     "execution_count": 15,
     "metadata": {},
     "output_type": "execute_result"
    }
   ],
   "source": [
    "from sklearn.pipeline import Pipeline\n",
    "\n",
    "model = Pipeline([('vectorizer',tvec),('classifier', clf2)])\n",
    "model.fit(IV_train,DV_train)\n",
    "\n"
   ]
  },
  {
   "cell_type": "markdown",
   "metadata": {
    "id": "-_s811s3iLm1"
   },
   "source": [
    "## <font color = blue>**12. Evaluating the model**</font>"
   ]
  },
  {
   "cell_type": "markdown",
   "metadata": {
    "id": "4CmKZMKWiiiw"
   },
   "source": [
    "Let us evaluate the model and see for ourselves how accurate our model is. For evaluation we are using confusion matrix, accuracy score, precision score & recall score.\n",
    "\n",
    "\n"
   ]
  },
  {
   "cell_type": "code",
   "execution_count": 16,
   "metadata": {
    "id": "Hnk7muCp-AeN",
    "outputId": "be49ac4d-717e-4856-b941-30e814193140"
   },
   "outputs": [
    {
     "data": {
      "text/plain": [
       "array([[2416,  301],\n",
       "       [ 155, 1022]], dtype=int64)"
      ]
     },
     "execution_count": 16,
     "metadata": {},
     "output_type": "execute_result"
    }
   ],
   "source": [
    "# checking the model evaluation using confusion matrix, accuracy_score,precision_score & recall_score\n",
    "\n",
    "\n",
    "from sklearn.metrics import confusion_matrix\n",
    "\n",
    "predictions = model.predict(IV_test)\n",
    "confusion_matrix(predictions,DV_test)"
   ]
  },
  {
   "cell_type": "markdown",
   "metadata": {
    "id": "tCkpwSPEnsBx"
   },
   "source": [
    "We could see considerable amount of misclassified predicted values, 155 being False Negative and 301 being False positive. Let us check the accuracy, precision score and recall value now."
   ]
  },
  {
   "cell_type": "code",
   "execution_count": 17,
   "metadata": {
    "id": "tPKFTgC2-AeO",
    "outputId": "15c1ccfb-71e3-4aa9-8b96-8fe9d9c2e34a"
   },
   "outputs": [
    {
     "name": "stdout",
     "output_type": "stream",
     "text": [
      "Accuracy :  0.8828967642526965\n",
      "Precision :  0.8891666432094545\n",
      "Recall :  0.8828967642526965\n"
     ]
    }
   ],
   "source": [
    "from sklearn.metrics import accuracy_score,precision_score, recall_score\n",
    "\n",
    "print(\"Accuracy : \",accuracy_score(predictions, DV_test))\n",
    "print(\"Precision : \",precision_score(predictions, DV_test,average = 'weighted'))\n",
    "print(\"Recall : \",recall_score(predictions, DV_test, average = 'weighted'))"
   ]
  },
  {
   "cell_type": "markdown",
   "metadata": {
    "id": "94z7bryqoUzJ"
   },
   "source": [
    "## <font color = blue>**13. Testing the model**</font>"
   ]
  },
  {
   "cell_type": "markdown",
   "metadata": {
    "id": "jtAjjSySoeUU"
   },
   "source": [
    "We test the model now to see how it performs."
   ]
  },
  {
   "cell_type": "code",
   "execution_count": 18,
   "metadata": {
    "id": "CgCPcCmd-AeO",
    "outputId": "8b144b3b-5155-4d2d-9d73-2310aabc450f"
   },
   "outputs": [
    {
     "name": "stdout",
     "output_type": "stream",
     "text": [
      "['happy']\n"
     ]
    }
   ],
   "source": [
    "# Testing the model\n",
    "\n",
    "example = ['The hotel was very good']\n",
    "\n",
    "result = model.predict(example)\n",
    "\n",
    "print(result)"
   ]
  },
  {
   "cell_type": "markdown",
   "metadata": {
    "id": "Lk2hgfXKpksc"
   },
   "source": [
    "As seen above, the sentiment 'The hotel was very good' was categorized as 'happy' indicating the model is working fine. This is how one can go ahead and predict the sentiment of a sentence. One thing to understand here is that the prediction here is a classification based which means we are categorizing the sentiments into different classes at the end of the model. The output 'happy' is a class."
   ]
  }
 ],
 "metadata": {
  "colab": {
   "provenance": []
  },
  "kernelspec": {
   "display_name": "Python 3 (ipykernel)",
   "language": "python",
   "name": "python3"
  },
  "language_info": {
   "codemirror_mode": {
    "name": "ipython",
    "version": 3
   },
   "file_extension": ".py",
   "mimetype": "text/x-python",
   "name": "python",
   "nbconvert_exporter": "python",
   "pygments_lexer": "ipython3",
   "version": "3.11.5"
  }
 },
 "nbformat": 4,
 "nbformat_minor": 1
}
