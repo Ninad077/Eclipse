{
 "cells": [
  {
   "cell_type": "markdown",
   "id": "c32dc078",
   "metadata": {},
   "source": [
    "## <font color = blue>1. Importing the libraries.</font>"
   ]
  },
  {
   "cell_type": "markdown",
   "id": "e0889699",
   "metadata": {},
   "source": [
    "Before going ahead & performing Exploratory Data Analysis (EDA), let us import the essential libraries first.\n",
    "Remember that 'matplotlib' & 'seaborn' are the libraries used to perform EDA and generate visualizations on data."
   ]
  },
  {
   "cell_type": "code",
   "execution_count": 1,
   "id": "4df4928f",
   "metadata": {},
   "outputs": [],
   "source": [
    "import pandas as pd\n",
    "import numpy as np\n",
    "import matplotlib.pyplot as plt\n",
    "import seaborn as sns"
   ]
  },
  {
   "cell_type": "markdown",
   "id": "de97dc74",
   "metadata": {},
   "source": [
    "## <font color = blue>2. Reading the data.</font>"
   ]
  },
  {
   "cell_type": "markdown",
   "id": "fedb6d14",
   "metadata": {},
   "source": [
    "Let us read the dataset now."
   ]
  },
  {
   "cell_type": "code",
   "execution_count": 2,
   "id": "8721f3cb",
   "metadata": {},
   "outputs": [],
   "source": [
    "tips_data = pd.read_csv(\"tips.csv\")"
   ]
  },
  {
   "cell_type": "code",
   "execution_count": 3,
   "id": "be93170c",
   "metadata": {},
   "outputs": [
    {
     "data": {
      "text/html": [
       "<div>\n",
       "<style scoped>\n",
       "    .dataframe tbody tr th:only-of-type {\n",
       "        vertical-align: middle;\n",
       "    }\n",
       "\n",
       "    .dataframe tbody tr th {\n",
       "        vertical-align: top;\n",
       "    }\n",
       "\n",
       "    .dataframe thead th {\n",
       "        text-align: right;\n",
       "    }\n",
       "</style>\n",
       "<table border=\"1\" class=\"dataframe\">\n",
       "  <thead>\n",
       "    <tr style=\"text-align: right;\">\n",
       "      <th></th>\n",
       "      <th>total_bill</th>\n",
       "      <th>tip</th>\n",
       "      <th>sex</th>\n",
       "      <th>smoker</th>\n",
       "      <th>day</th>\n",
       "      <th>time</th>\n",
       "      <th>size</th>\n",
       "      <th>price_per_person</th>\n",
       "      <th>Payer Name</th>\n",
       "      <th>CC Number</th>\n",
       "      <th>Payment ID</th>\n",
       "    </tr>\n",
       "  </thead>\n",
       "  <tbody>\n",
       "    <tr>\n",
       "      <th>0</th>\n",
       "      <td>16.99</td>\n",
       "      <td>1.01</td>\n",
       "      <td>Female</td>\n",
       "      <td>No</td>\n",
       "      <td>Sun</td>\n",
       "      <td>Dinner</td>\n",
       "      <td>2</td>\n",
       "      <td>8.49</td>\n",
       "      <td>Christy Cunningham</td>\n",
       "      <td>3560325168603410</td>\n",
       "      <td>Sun2959</td>\n",
       "    </tr>\n",
       "    <tr>\n",
       "      <th>1</th>\n",
       "      <td>10.34</td>\n",
       "      <td>1.66</td>\n",
       "      <td>Male</td>\n",
       "      <td>No</td>\n",
       "      <td>Sun</td>\n",
       "      <td>Dinner</td>\n",
       "      <td>3</td>\n",
       "      <td>3.45</td>\n",
       "      <td>Douglas Tucker</td>\n",
       "      <td>4478071379779230</td>\n",
       "      <td>Sun4608</td>\n",
       "    </tr>\n",
       "    <tr>\n",
       "      <th>2</th>\n",
       "      <td>21.01</td>\n",
       "      <td>3.50</td>\n",
       "      <td>Male</td>\n",
       "      <td>No</td>\n",
       "      <td>Sun</td>\n",
       "      <td>Dinner</td>\n",
       "      <td>3</td>\n",
       "      <td>7.00</td>\n",
       "      <td>Travis Walters</td>\n",
       "      <td>6011812112971322</td>\n",
       "      <td>Sun4458</td>\n",
       "    </tr>\n",
       "    <tr>\n",
       "      <th>3</th>\n",
       "      <td>23.68</td>\n",
       "      <td>3.31</td>\n",
       "      <td>Male</td>\n",
       "      <td>No</td>\n",
       "      <td>Sun</td>\n",
       "      <td>Dinner</td>\n",
       "      <td>2</td>\n",
       "      <td>11.84</td>\n",
       "      <td>Nathaniel Harris</td>\n",
       "      <td>4676137647685994</td>\n",
       "      <td>Sun5260</td>\n",
       "    </tr>\n",
       "    <tr>\n",
       "      <th>4</th>\n",
       "      <td>24.59</td>\n",
       "      <td>3.61</td>\n",
       "      <td>Female</td>\n",
       "      <td>No</td>\n",
       "      <td>Sun</td>\n",
       "      <td>Dinner</td>\n",
       "      <td>4</td>\n",
       "      <td>6.15</td>\n",
       "      <td>Tonya Carter</td>\n",
       "      <td>4832732618637221</td>\n",
       "      <td>Sun2251</td>\n",
       "    </tr>\n",
       "    <tr>\n",
       "      <th>...</th>\n",
       "      <td>...</td>\n",
       "      <td>...</td>\n",
       "      <td>...</td>\n",
       "      <td>...</td>\n",
       "      <td>...</td>\n",
       "      <td>...</td>\n",
       "      <td>...</td>\n",
       "      <td>...</td>\n",
       "      <td>...</td>\n",
       "      <td>...</td>\n",
       "      <td>...</td>\n",
       "    </tr>\n",
       "    <tr>\n",
       "      <th>239</th>\n",
       "      <td>29.03</td>\n",
       "      <td>5.92</td>\n",
       "      <td>Male</td>\n",
       "      <td>No</td>\n",
       "      <td>Sat</td>\n",
       "      <td>Dinner</td>\n",
       "      <td>3</td>\n",
       "      <td>9.68</td>\n",
       "      <td>Michael Avila</td>\n",
       "      <td>5296068606052842</td>\n",
       "      <td>Sat2657</td>\n",
       "    </tr>\n",
       "    <tr>\n",
       "      <th>240</th>\n",
       "      <td>27.18</td>\n",
       "      <td>2.00</td>\n",
       "      <td>Female</td>\n",
       "      <td>Yes</td>\n",
       "      <td>Sat</td>\n",
       "      <td>Dinner</td>\n",
       "      <td>2</td>\n",
       "      <td>13.59</td>\n",
       "      <td>Monica Sanders</td>\n",
       "      <td>3506806155565404</td>\n",
       "      <td>Sat1766</td>\n",
       "    </tr>\n",
       "    <tr>\n",
       "      <th>241</th>\n",
       "      <td>22.67</td>\n",
       "      <td>2.00</td>\n",
       "      <td>Male</td>\n",
       "      <td>Yes</td>\n",
       "      <td>Sat</td>\n",
       "      <td>Dinner</td>\n",
       "      <td>2</td>\n",
       "      <td>11.34</td>\n",
       "      <td>Keith Wong</td>\n",
       "      <td>6011891618747196</td>\n",
       "      <td>Sat3880</td>\n",
       "    </tr>\n",
       "    <tr>\n",
       "      <th>242</th>\n",
       "      <td>17.82</td>\n",
       "      <td>1.75</td>\n",
       "      <td>Male</td>\n",
       "      <td>No</td>\n",
       "      <td>Sat</td>\n",
       "      <td>Dinner</td>\n",
       "      <td>2</td>\n",
       "      <td>8.91</td>\n",
       "      <td>Dennis Dixon</td>\n",
       "      <td>4375220550950</td>\n",
       "      <td>Sat17</td>\n",
       "    </tr>\n",
       "    <tr>\n",
       "      <th>243</th>\n",
       "      <td>18.78</td>\n",
       "      <td>3.00</td>\n",
       "      <td>Female</td>\n",
       "      <td>No</td>\n",
       "      <td>Thur</td>\n",
       "      <td>Dinner</td>\n",
       "      <td>2</td>\n",
       "      <td>9.39</td>\n",
       "      <td>Michelle Hardin</td>\n",
       "      <td>3511451626698139</td>\n",
       "      <td>Thur672</td>\n",
       "    </tr>\n",
       "  </tbody>\n",
       "</table>\n",
       "<p>244 rows × 11 columns</p>\n",
       "</div>"
      ],
      "text/plain": [
       "     total_bill   tip     sex smoker   day    time  size  price_per_person  \\\n",
       "0         16.99  1.01  Female     No   Sun  Dinner     2              8.49   \n",
       "1         10.34  1.66    Male     No   Sun  Dinner     3              3.45   \n",
       "2         21.01  3.50    Male     No   Sun  Dinner     3              7.00   \n",
       "3         23.68  3.31    Male     No   Sun  Dinner     2             11.84   \n",
       "4         24.59  3.61  Female     No   Sun  Dinner     4              6.15   \n",
       "..          ...   ...     ...    ...   ...     ...   ...               ...   \n",
       "239       29.03  5.92    Male     No   Sat  Dinner     3              9.68   \n",
       "240       27.18  2.00  Female    Yes   Sat  Dinner     2             13.59   \n",
       "241       22.67  2.00    Male    Yes   Sat  Dinner     2             11.34   \n",
       "242       17.82  1.75    Male     No   Sat  Dinner     2              8.91   \n",
       "243       18.78  3.00  Female     No  Thur  Dinner     2              9.39   \n",
       "\n",
       "             Payer Name         CC Number Payment ID  \n",
       "0    Christy Cunningham  3560325168603410    Sun2959  \n",
       "1        Douglas Tucker  4478071379779230    Sun4608  \n",
       "2        Travis Walters  6011812112971322    Sun4458  \n",
       "3      Nathaniel Harris  4676137647685994    Sun5260  \n",
       "4          Tonya Carter  4832732618637221    Sun2251  \n",
       "..                  ...               ...        ...  \n",
       "239       Michael Avila  5296068606052842    Sat2657  \n",
       "240      Monica Sanders  3506806155565404    Sat1766  \n",
       "241          Keith Wong  6011891618747196    Sat3880  \n",
       "242        Dennis Dixon     4375220550950      Sat17  \n",
       "243     Michelle Hardin  3511451626698139    Thur672  \n",
       "\n",
       "[244 rows x 11 columns]"
      ]
     },
     "execution_count": 3,
     "metadata": {},
     "output_type": "execute_result"
    }
   ],
   "source": [
    "tips_data"
   ]
  },
  {
   "cell_type": "code",
   "execution_count": 4,
   "id": "a4c70f02",
   "metadata": {},
   "outputs": [
    {
     "data": {
      "text/html": [
       "<div>\n",
       "<style scoped>\n",
       "    .dataframe tbody tr th:only-of-type {\n",
       "        vertical-align: middle;\n",
       "    }\n",
       "\n",
       "    .dataframe tbody tr th {\n",
       "        vertical-align: top;\n",
       "    }\n",
       "\n",
       "    .dataframe thead th {\n",
       "        text-align: right;\n",
       "    }\n",
       "</style>\n",
       "<table border=\"1\" class=\"dataframe\">\n",
       "  <thead>\n",
       "    <tr style=\"text-align: right;\">\n",
       "      <th></th>\n",
       "      <th>total_bill</th>\n",
       "      <th>tip</th>\n",
       "      <th>sex</th>\n",
       "      <th>smoker</th>\n",
       "      <th>day</th>\n",
       "      <th>time</th>\n",
       "      <th>size</th>\n",
       "      <th>price_per_person</th>\n",
       "      <th>Payer Name</th>\n",
       "      <th>CC Number</th>\n",
       "      <th>Payment ID</th>\n",
       "    </tr>\n",
       "  </thead>\n",
       "  <tbody>\n",
       "    <tr>\n",
       "      <th>0</th>\n",
       "      <td>16.99</td>\n",
       "      <td>1.01</td>\n",
       "      <td>Female</td>\n",
       "      <td>No</td>\n",
       "      <td>Sun</td>\n",
       "      <td>Dinner</td>\n",
       "      <td>2</td>\n",
       "      <td>8.49</td>\n",
       "      <td>Christy Cunningham</td>\n",
       "      <td>3560325168603410</td>\n",
       "      <td>Sun2959</td>\n",
       "    </tr>\n",
       "    <tr>\n",
       "      <th>1</th>\n",
       "      <td>10.34</td>\n",
       "      <td>1.66</td>\n",
       "      <td>Male</td>\n",
       "      <td>No</td>\n",
       "      <td>Sun</td>\n",
       "      <td>Dinner</td>\n",
       "      <td>3</td>\n",
       "      <td>3.45</td>\n",
       "      <td>Douglas Tucker</td>\n",
       "      <td>4478071379779230</td>\n",
       "      <td>Sun4608</td>\n",
       "    </tr>\n",
       "    <tr>\n",
       "      <th>2</th>\n",
       "      <td>21.01</td>\n",
       "      <td>3.50</td>\n",
       "      <td>Male</td>\n",
       "      <td>No</td>\n",
       "      <td>Sun</td>\n",
       "      <td>Dinner</td>\n",
       "      <td>3</td>\n",
       "      <td>7.00</td>\n",
       "      <td>Travis Walters</td>\n",
       "      <td>6011812112971322</td>\n",
       "      <td>Sun4458</td>\n",
       "    </tr>\n",
       "    <tr>\n",
       "      <th>3</th>\n",
       "      <td>23.68</td>\n",
       "      <td>3.31</td>\n",
       "      <td>Male</td>\n",
       "      <td>No</td>\n",
       "      <td>Sun</td>\n",
       "      <td>Dinner</td>\n",
       "      <td>2</td>\n",
       "      <td>11.84</td>\n",
       "      <td>Nathaniel Harris</td>\n",
       "      <td>4676137647685994</td>\n",
       "      <td>Sun5260</td>\n",
       "    </tr>\n",
       "    <tr>\n",
       "      <th>4</th>\n",
       "      <td>24.59</td>\n",
       "      <td>3.61</td>\n",
       "      <td>Female</td>\n",
       "      <td>No</td>\n",
       "      <td>Sun</td>\n",
       "      <td>Dinner</td>\n",
       "      <td>4</td>\n",
       "      <td>6.15</td>\n",
       "      <td>Tonya Carter</td>\n",
       "      <td>4832732618637221</td>\n",
       "      <td>Sun2251</td>\n",
       "    </tr>\n",
       "  </tbody>\n",
       "</table>\n",
       "</div>"
      ],
      "text/plain": [
       "   total_bill   tip     sex smoker  day    time  size  price_per_person  \\\n",
       "0       16.99  1.01  Female     No  Sun  Dinner     2              8.49   \n",
       "1       10.34  1.66    Male     No  Sun  Dinner     3              3.45   \n",
       "2       21.01  3.50    Male     No  Sun  Dinner     3              7.00   \n",
       "3       23.68  3.31    Male     No  Sun  Dinner     2             11.84   \n",
       "4       24.59  3.61  Female     No  Sun  Dinner     4              6.15   \n",
       "\n",
       "           Payer Name         CC Number Payment ID  \n",
       "0  Christy Cunningham  3560325168603410    Sun2959  \n",
       "1      Douglas Tucker  4478071379779230    Sun4608  \n",
       "2      Travis Walters  6011812112971322    Sun4458  \n",
       "3    Nathaniel Harris  4676137647685994    Sun5260  \n",
       "4        Tonya Carter  4832732618637221    Sun2251  "
      ]
     },
     "execution_count": 4,
     "metadata": {},
     "output_type": "execute_result"
    }
   ],
   "source": [
    "tips_data.head()"
   ]
  },
  {
   "cell_type": "markdown",
   "id": "6658f315",
   "metadata": {},
   "source": [
    "## <font color = blue>3. Exploratory Data Analysis (EDA)</font>"
   ]
  },
  {
   "cell_type": "markdown",
   "id": "4902ca00",
   "metadata": {},
   "source": [
    "### <font color = red>3.1 Plotting a simple line chart</font>"
   ]
  },
  {
   "cell_type": "markdown",
   "id": "2fe23015",
   "metadata": {},
   "source": [
    "Let us perform Exploratory Data Anaylsis (EDA). EDA in Machine Learning refers to generating visualizations and insights\n",
    "from the data. \n",
    "\n",
    "We will start with matplotlib & see how the visualizations look like. Let us define the input co-ordinates 'a' & 'b' as a list of elements."
   ]
  },
  {
   "cell_type": "code",
   "execution_count": 6,
   "id": "7d304164",
   "metadata": {},
   "outputs": [],
   "source": [
    "# Defining the co-ordinates\n",
    "a = [2,3,4,5,6]\n",
    "b = [10,20,30,40,100]"
   ]
  },
  {
   "cell_type": "markdown",
   "id": "3e4d718a",
   "metadata": {},
   "source": [
    "To generate a plot using 'matplotib' we use the command 'plt.plot' followed by the co-ordinates on X & Y axis.\n",
    "The syntax would be: **plt.plot(Co-ordinate_variable_of_X_axis,Co-ordinate_variable_of_Y_axis)**"
   ]
  },
  {
   "cell_type": "code",
   "execution_count": 7,
   "id": "fe093a6a",
   "metadata": {},
   "outputs": [
    {
     "data": {
      "text/plain": [
       "[<matplotlib.lines.Line2D at 0x1c062318450>]"
      ]
     },
     "execution_count": 7,
     "metadata": {},
     "output_type": "execute_result"
    },
    {
     "data": {
      "image/png": "[encoded data removed]",
      "text/plain": [
       "<Figure size 640x480 with 1 Axes>"
      ]
     },
     "metadata": {},
     "output_type": "display_data"
    }
   ],
   "source": [
    "plt.plot(a,b)"
   ]
  },
  {
   "cell_type": "markdown",
   "id": "1131285b",
   "metadata": {},
   "source": [
    "The above graph is a line graph generated using matplotlib, let us add some extra elements now."
   ]
  },
  {
   "cell_type": "markdown",
   "id": "746d8078",
   "metadata": {},
   "source": [
    "To add labels to X & Y-axis, we use the command 'plt.xlabel/plt.ylabel'.\n",
    "\n",
    "For X_axis the syntax would be: **plt.xlabel('label_name')**\n",
    "    \n",
    "For Y_axis the syntax would be: **plt.ylabel('label_name')**"
   ]
  },
  {
   "cell_type": "code",
   "execution_count": 8,
   "id": "b1b45af9",
   "metadata": {},
   "outputs": [
    {
     "data": {
      "text/plain": [
       "Text(0, 0.5, 'Y-axis')"
      ]
     },
     "execution_count": 8,
     "metadata": {},
     "output_type": "execute_result"
    },
    {
     "data": {
      "image/png": "[encoded data removed]",
      "text/plain": [
       "<Figure size 640x480 with 1 Axes>"
      ]
     },
     "metadata": {},
     "output_type": "display_data"
    }
   ],
   "source": [
    "# Assigning a lables to the visualisation\n",
    "\n",
    "plt.plot(a,b)\n",
    "plt.xlabel(\"X-axis\")\n",
    "plt.ylabel(\"Y-axis\")"
   ]
  },
  {
   "cell_type": "markdown",
   "id": "0f0479ee",
   "metadata": {},
   "source": [
    "Now that we have added label to the plot, let us add the graph title as well."
   ]
  },
  {
   "cell_type": "code",
   "execution_count": 9,
   "id": "a8a0507e",
   "metadata": {},
   "outputs": [
    {
     "data": {
      "text/plain": [
       "Text(0.5, 1.0, 'Graph name')"
      ]
     },
     "execution_count": 9,
     "metadata": {},
     "output_type": "execute_result"
    },
    {
     "data": {
      "image/png": "[encoded data removed]",
      "text/plain": [
       "<Figure size 640x480 with 1 Axes>"
      ]
     },
     "metadata": {},
     "output_type": "display_data"
    }
   ],
   "source": [
    "# Assigning a title to the visualisation\n",
    "\n",
    "plt.plot(a,b)\n",
    "plt.xlabel(\"X-axis\")\n",
    "plt.ylabel(\"Y-axis\")\n",
    "plt.title(\"Graph name\")"
   ]
  },
  {
   "cell_type": "markdown",
   "id": "f59ba756",
   "metadata": {},
   "source": [
    "### <font color = red>3.2 Dropping a column in Python</font>\n"
   ]
  },
  {
   "cell_type": "markdown",
   "id": "1abf50a9",
   "metadata": {},
   "source": [
    "To drop a column in Python, we use the command:\n",
    "\n",
    "**data_name.drop(columns=['column_1','column_2',......'column_n'], inplace = True)**\n",
    "\n",
    "inplace= True is a command that updates the changes in the dataset in place itself.\n",
    "\n",
    "Let us drop some columns from the 'tips_data' dataset."
   ]
  },
  {
   "cell_type": "code",
   "execution_count": 10,
   "id": "1fbabe50",
   "metadata": {},
   "outputs": [],
   "source": [
    "tips_data.drop(columns= [\"Payer Name\",\"CC Number\",\"Payment ID\",\"price_per_person\"], inplace=True)"
   ]
  },
  {
   "cell_type": "code",
   "execution_count": 11,
   "id": "b7582cd3",
   "metadata": {},
   "outputs": [
    {
     "data": {
      "text/html": [
       "<div>\n",
       "<style scoped>\n",
       "    .dataframe tbody tr th:only-of-type {\n",
       "        vertical-align: middle;\n",
       "    }\n",
       "\n",
       "    .dataframe tbody tr th {\n",
       "        vertical-align: top;\n",
       "    }\n",
       "\n",
       "    .dataframe thead th {\n",
       "        text-align: right;\n",
       "    }\n",
       "</style>\n",
       "<table border=\"1\" class=\"dataframe\">\n",
       "  <thead>\n",
       "    <tr style=\"text-align: right;\">\n",
       "      <th></th>\n",
       "      <th>total_bill</th>\n",
       "      <th>tip</th>\n",
       "      <th>sex</th>\n",
       "      <th>smoker</th>\n",
       "      <th>day</th>\n",
       "      <th>time</th>\n",
       "      <th>size</th>\n",
       "    </tr>\n",
       "  </thead>\n",
       "  <tbody>\n",
       "    <tr>\n",
       "      <th>0</th>\n",
       "      <td>16.99</td>\n",
       "      <td>1.01</td>\n",
       "      <td>Female</td>\n",
       "      <td>No</td>\n",
       "      <td>Sun</td>\n",
       "      <td>Dinner</td>\n",
       "      <td>2</td>\n",
       "    </tr>\n",
       "    <tr>\n",
       "      <th>1</th>\n",
       "      <td>10.34</td>\n",
       "      <td>1.66</td>\n",
       "      <td>Male</td>\n",
       "      <td>No</td>\n",
       "      <td>Sun</td>\n",
       "      <td>Dinner</td>\n",
       "      <td>3</td>\n",
       "    </tr>\n",
       "    <tr>\n",
       "      <th>2</th>\n",
       "      <td>21.01</td>\n",
       "      <td>3.50</td>\n",
       "      <td>Male</td>\n",
       "      <td>No</td>\n",
       "      <td>Sun</td>\n",
       "      <td>Dinner</td>\n",
       "      <td>3</td>\n",
       "    </tr>\n",
       "    <tr>\n",
       "      <th>3</th>\n",
       "      <td>23.68</td>\n",
       "      <td>3.31</td>\n",
       "      <td>Male</td>\n",
       "      <td>No</td>\n",
       "      <td>Sun</td>\n",
       "      <td>Dinner</td>\n",
       "      <td>2</td>\n",
       "    </tr>\n",
       "    <tr>\n",
       "      <th>4</th>\n",
       "      <td>24.59</td>\n",
       "      <td>3.61</td>\n",
       "      <td>Female</td>\n",
       "      <td>No</td>\n",
       "      <td>Sun</td>\n",
       "      <td>Dinner</td>\n",
       "      <td>4</td>\n",
       "    </tr>\n",
       "    <tr>\n",
       "      <th>...</th>\n",
       "      <td>...</td>\n",
       "      <td>...</td>\n",
       "      <td>...</td>\n",
       "      <td>...</td>\n",
       "      <td>...</td>\n",
       "      <td>...</td>\n",
       "      <td>...</td>\n",
       "    </tr>\n",
       "    <tr>\n",
       "      <th>239</th>\n",
       "      <td>29.03</td>\n",
       "      <td>5.92</td>\n",
       "      <td>Male</td>\n",
       "      <td>No</td>\n",
       "      <td>Sat</td>\n",
       "      <td>Dinner</td>\n",
       "      <td>3</td>\n",
       "    </tr>\n",
       "    <tr>\n",
       "      <th>240</th>\n",
       "      <td>27.18</td>\n",
       "      <td>2.00</td>\n",
       "      <td>Female</td>\n",
       "      <td>Yes</td>\n",
       "      <td>Sat</td>\n",
       "      <td>Dinner</td>\n",
       "      <td>2</td>\n",
       "    </tr>\n",
       "    <tr>\n",
       "      <th>241</th>\n",
       "      <td>22.67</td>\n",
       "      <td>2.00</td>\n",
       "      <td>Male</td>\n",
       "      <td>Yes</td>\n",
       "      <td>Sat</td>\n",
       "      <td>Dinner</td>\n",
       "      <td>2</td>\n",
       "    </tr>\n",
       "    <tr>\n",
       "      <th>242</th>\n",
       "      <td>17.82</td>\n",
       "      <td>1.75</td>\n",
       "      <td>Male</td>\n",
       "      <td>No</td>\n",
       "      <td>Sat</td>\n",
       "      <td>Dinner</td>\n",
       "      <td>2</td>\n",
       "    </tr>\n",
       "    <tr>\n",
       "      <th>243</th>\n",
       "      <td>18.78</td>\n",
       "      <td>3.00</td>\n",
       "      <td>Female</td>\n",
       "      <td>No</td>\n",
       "      <td>Thur</td>\n",
       "      <td>Dinner</td>\n",
       "      <td>2</td>\n",
       "    </tr>\n",
       "  </tbody>\n",
       "</table>\n",
       "<p>244 rows × 7 columns</p>\n",
       "</div>"
      ],
      "text/plain": [
       "     total_bill   tip     sex smoker   day    time  size\n",
       "0         16.99  1.01  Female     No   Sun  Dinner     2\n",
       "1         10.34  1.66    Male     No   Sun  Dinner     3\n",
       "2         21.01  3.50    Male     No   Sun  Dinner     3\n",
       "3         23.68  3.31    Male     No   Sun  Dinner     2\n",
       "4         24.59  3.61  Female     No   Sun  Dinner     4\n",
       "..          ...   ...     ...    ...   ...     ...   ...\n",
       "239       29.03  5.92    Male     No   Sat  Dinner     3\n",
       "240       27.18  2.00  Female    Yes   Sat  Dinner     2\n",
       "241       22.67  2.00    Male    Yes   Sat  Dinner     2\n",
       "242       17.82  1.75    Male     No   Sat  Dinner     2\n",
       "243       18.78  3.00  Female     No  Thur  Dinner     2\n",
       "\n",
       "[244 rows x 7 columns]"
      ]
     },
     "execution_count": 11,
     "metadata": {},
     "output_type": "execute_result"
    }
   ],
   "source": [
    "tips_data"
   ]
  },
  {
   "cell_type": "markdown",
   "id": "ec3766e7",
   "metadata": {},
   "source": [
    "### <font color = red>3.3 Example: Plot the bar graph of Day vs Total bill list</font>\n"
   ]
  },
  {
   "cell_type": "markdown",
   "id": "b9d476fa",
   "metadata": {},
   "source": [
    "Let us look at one example now to understand EDA better. Let us plot of Day vs Total bill list.\n",
    "\n",
    "To perform this, first let us separate column data from the dataset into different variables.\n",
    "\n",
    "For instance, I have split 'totaL_bill' column data from 'tips_data' into variable 'total_bill_list'\n",
    "\n",
    "& I have split 'day' column data from 'tips_data' into variable 'day'.\n"
   ]
  },
  {
   "cell_type": "code",
   "execution_count": 18,
   "id": "0fbb992e",
   "metadata": {},
   "outputs": [],
   "source": [
    "total_bill_list= tips_data[\"total_bill\"]\n",
    "day =  tips_data[\"day\"]"
   ]
  },
  {
   "cell_type": "markdown",
   "id": "d567ddee",
   "metadata": {},
   "source": [
    "To plot a bar graph, we use the command: **plt.bar(Co-ordinate_variable_of_X-axis,Co-ordinate_variable_of_Y-axis)**"
   ]
  },
  {
   "cell_type": "code",
   "execution_count": 19,
   "id": "b346e004",
   "metadata": {},
   "outputs": [
    {
     "data": {
      "text/plain": [
       "Text(0.5, 1.0, 'Days vs Bill')"
      ]
     },
     "execution_count": 19,
     "metadata": {},
     "output_type": "execute_result"
    },
    {
     "data": {
      "image/png": "[encoded data removed]",
      "text/plain": [
       "<Figure size 640x480 with 1 Axes>"
      ]
     },
     "metadata": {},
     "output_type": "display_data"
    }
   ],
   "source": [
    "plt.bar(day,total_bill_list)\n",
    "plt.xlabel(\"Days\")\n",
    "plt.ylabel(\"Total-bill list\")\n",
    "plt.title(\"Days vs Bill\")"
   ]
  },
  {
   "cell_type": "markdown",
   "id": "f5ee5fb4",
   "metadata": {},
   "source": [
    "### <font color = red>3.4 Example: Do more people visit for Dinner or Lunch</font>"
   ]
  },
  {
   "cell_type": "markdown",
   "id": "4134f2bf",
   "metadata": {},
   "source": [
    "Let us do EDA to analyze whether more people visit for Dinner or Lunch.\n",
    "\n",
    "Before that let us understand the problem first. The problem here is to find whether more people visit for Dinner or Lunch.\n",
    "In other words, one has to find the frequency of time spend by people on Dinner & Lunch.\n",
    "\n",
    "In 'tips_data' we have a column 'time' which has 'Dinner' & 'Lunch' as values. Let us first count the total values for\n",
    "time column using the command  below."
   ]
  },
  {
   "cell_type": "code",
   "execution_count": 27,
   "id": "e4213a7c",
   "metadata": {},
   "outputs": [],
   "source": [
    "# Counting the total values in time column\n",
    "# value_counts() returns the count of the column\n",
    "\n",
    "Time= tips_data[\"time\"].value_counts()  # Storing the count and not the continous value of time."
   ]
  },
  {
   "cell_type": "code",
   "execution_count": 28,
   "id": "73c69419",
   "metadata": {},
   "outputs": [
    {
     "data": {
      "text/plain": [
       "time\n",
       "Dinner    176\n",
       "Lunch      68\n",
       "Name: count, dtype: int64"
      ]
     },
     "execution_count": 28,
     "metadata": {},
     "output_type": "execute_result"
    }
   ],
   "source": [
    "Time"
   ]
  },
  {
   "cell_type": "markdown",
   "id": "6a21bd46",
   "metadata": {},
   "source": [
    "value_counts() function returns the total value count for a specified column. The proper sytanx would be:\n",
    "\n",
    "**data_name[\"Column_name\"].value_counts()**"
   ]
  },
  {
   "cell_type": "markdown",
   "id": "b66637f5",
   "metadata": {},
   "source": [
    "Now let us use seaborn to visualize data, we have used alias as 'sns' to define Seaborn library.\n",
    "\n",
    "To plot a bar graph using seaborn we use the command: **sns.barplot(x = value_on_X_axis, y = value_on_Y_axis)**\n",
    "\n",
    "'.index' is used to return the labels whereas '.values' returns the values of the index specified.\n",
    "\n",
    "In the command below, we are using 'Dinner & Label' as Index on X-axis and we plot their corresponding values on Y-axis."
   ]
  },
  {
   "cell_type": "code",
   "execution_count": 30,
   "id": "7337b649",
   "metadata": {},
   "outputs": [
    {
     "data": {
      "text/plain": [
       "<Axes: xlabel='time'>"
      ]
     },
     "execution_count": 30,
     "metadata": {},
     "output_type": "execute_result"
    },
    {
     "data": {
      "image/png": "[encoded data removed]",
      "text/plain": [
       "<Figure size 640x480 with 1 Axes>"
      ]
     },
     "metadata": {},
     "output_type": "display_data"
    }
   ],
   "source": [
    "# Plotting the graph for total count of Time in distribution of Dinner and Lunch\n",
    "\n",
    "sns.barplot(x = Time.index, y= Time.values)  # Here Index is \"Dinner\" & \"Lunch\" & value is the count"
   ]
  },
  {
   "cell_type": "markdown",
   "id": "fa90919f",
   "metadata": {},
   "source": [
    "However, the frequency will get influenced by the size (number) of people visiting the restaurant.\n",
    "So, to consider the 'size' column as well, we need to group 'time' with respect to 'size'."
   ]
  },
  {
   "cell_type": "markdown",
   "id": "0cfbf687",
   "metadata": {},
   "source": [
    "So let us Group the column 'size' with respect to 'Time'. \n",
    "\n",
    "Grouped column will be in square bracket, while the column w.r.t it is getting grouped is in curved bracket.\n",
    "\n",
    "Syntax is then followed by the measure of aggregation ('Sum' in this case) and reset index just to clear the index back \n",
    "to zero.\n",
    "\n",
    "The syntax would be:  **dataset_name.groupby(\"grouped_column\")[\"column_wrt_to_its_getting_grouped\"].sum().reset_index()**"
   ]
  },
  {
   "cell_type": "code",
   "execution_count": 31,
   "id": "d9aa24ed",
   "metadata": {},
   "outputs": [],
   "source": [
    "size = tips_data.groupby(\"time\")[\"size\"].sum().reset_index()"
   ]
  },
  {
   "cell_type": "markdown",
   "id": "a3f5d360",
   "metadata": {},
   "source": [
    "Let us plot a seaborn bar plot of time vs size."
   ]
  },
  {
   "cell_type": "code",
   "execution_count": 32,
   "id": "29053a05",
   "metadata": {},
   "outputs": [
    {
     "data": {
      "text/plain": [
       "<Axes: xlabel='time', ylabel='size'>"
      ]
     },
     "execution_count": 32,
     "metadata": {},
     "output_type": "execute_result"
    },
    {
     "data": {
      "image/png": "[encoded data removed]",
      "text/plain": [
       "<Figure size 640x480 with 1 Axes>"
      ]
     },
     "metadata": {},
     "output_type": "display_data"
    }
   ],
   "source": [
    "sns.barplot(x = \"time\", y= \"size\",data = size)"
   ]
  },
  {
   "cell_type": "markdown",
   "id": "bd1f9a1a",
   "metadata": {},
   "source": [
    "Let us put the axis labels & title."
   ]
  },
  {
   "cell_type": "code",
   "execution_count": 33,
   "id": "6ffc8cb7",
   "metadata": {},
   "outputs": [
    {
     "data": {
      "text/plain": [
       "Text(0.5, 1.0, 'Size vs Time')"
      ]
     },
     "execution_count": 33,
     "metadata": {},
     "output_type": "execute_result"
    },
    {
     "data": {
      "image/png": "[encoded data removed]",
      "text/plain": [
       "<Figure size 640x480 with 1 Axes>"
      ]
     },
     "metadata": {},
     "output_type": "display_data"
    }
   ],
   "source": [
    "sns.barplot(x = \"time\", y= \"size\",data = size)\n",
    "plt.xlabel(\"Time\")\n",
    "plt.ylabel(\"Total number of people\")\n",
    "plt.title(\"Size vs Time\")"
   ]
  }
 ],
 "metadata": {
  "kernelspec": {
   "display_name": "Python 3 (ipykernel)",
   "language": "python",
   "name": "python3"
  },
  "language_info": {
   "codemirror_mode": {
    "name": "ipython",
    "version": 3
   },
   "file_extension": ".py",
   "mimetype": "text/x-python",
   "name": "python",
   "nbconvert_exporter": "python",
   "pygments_lexer": "ipython3",
   "version": "3.11.5"
  }
 },
 "nbformat": 4,
 "nbformat_minor": 5
}
