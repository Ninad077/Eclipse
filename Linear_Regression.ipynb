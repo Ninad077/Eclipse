{
 "cells": [
  {
   "cell_type": "markdown",
   "id": "1b0d6081",
   "metadata": {},
   "source": [
    "## **<font color = blue>1. What is Machine Learning?</font>**"
   ]
  },
  {
   "cell_type": "markdown",
   "id": "76b018e5",
   "metadata": {},
   "source": [
    "<font color = red>\"**Machine Learning in simple words is the process of learning from the current data and implementing scenarios for the future by running some algorithms.**\"</font>\n",
    "So by learning I mean, analysing the patterns from the current data to predict the outcome for the future data.     "
   ]
  },
  {
   "cell_type": "markdown",
   "id": "01206d44",
   "metadata": {},
   "source": [
    "## **<font color = blue>2. What are the types of Machine Learning?</font>**"
   ]
  },
  {
   "cell_type": "markdown",
   "id": "f1069493",
   "metadata": {},
   "source": [
    "Machine Learning has 3 types namely:\n",
    "    \n",
    "1. Supervised Machine Learning. **(E.g. Linear Regression, Logistic Regression, KNN, Support vector Machine, Decision tree algorithm)**\n",
    "                                     \n",
    "    \n",
    "2. Unsupervised Machine Learning. **(E.g. K-means Clustering, Hierarchical Clustering)**\n",
    "\n",
    "    \n",
    "3. Reinforcement Machine Learning. **(E.g. Time series analysis (using Exponential smoothing & ARIMA))**"
   ]
  },
  {
   "cell_type": "markdown",
   "id": "e2522fd6",
   "metadata": {},
   "source": [
    "## **<font color = blue>3. Define Supervised Machine Learning</font>**"
   ]
  },
  {
   "cell_type": "markdown",
   "id": "b133190e",
   "metadata": {},
   "source": [
    "In Supervised ML, we have independent variables (x) and dependent variable (y).These variables are columns from the data. \n",
    "So to put it briefly we have independent & dependent columns in data. \n",
    "\n",
    "We can have mutliple independent columns 'x' but there should be only 1 dependent column 'y'.\n",
    "\n",
    "Supervised Machine Learning come with 2 types: **Classification** & **Regression**\n",
    "\n",
    "In Classification Supervised ML,\n",
    "**Based on certain value of  if one is predicting the category(class) of the value in future, it is Classified ML**.\n",
    "        \n",
    "In Regression Supervised ML,\n",
    "**Based on certain value if one is predicting the value in future, it is Regression ML**.\n"
   ]
  },
  {
   "cell_type": "markdown",
   "id": "82fc8616",
   "metadata": {},
   "source": [
    "## **<font color = blue>4. Define Unsupervised Machine Learning</font>**"
   ]
  },
  {
   "cell_type": "markdown",
   "id": "c418b2fc",
   "metadata": {},
   "source": [
    "In Unsupervised ML for Clustering we don't have dependent variable 'y' and we group the data based on \n",
    "independent variables 'x'. \n",
    "**Clustering is basically grouping of data.**"
   ]
  },
  {
   "cell_type": "markdown",
   "id": "b9ff50cb",
   "metadata": {},
   "source": [
    "## **<font color = blue>5. Define Reinforcement Machine Learning</font>**"
   ]
  },
  {
   "cell_type": "markdown",
   "id": "81e0eafa",
   "metadata": {},
   "source": [
    "In Reinforced ML,one forecasts the future data of the column (attribute) based on the\n",
    "past data of the same column (attribute). Here we have just a dependent variable column 'y'."
   ]
  },
  {
   "cell_type": "markdown",
   "id": "c03d3ca5",
   "metadata": {},
   "source": [
    "## **<font color = blue>6. Machine Learning process flow</font>**"
   ]
  },
  {
   "cell_type": "markdown",
   "id": "efde3a67",
   "metadata": {},
   "source": [
    "This is the Machine Learning flow we are going to follow for almost all the algorithms, so do keep a note of this:\n",
    "\n",
    "1. Get data: Get data from different sources\n",
    "\n",
    "\n",
    "2. Clean, prepare & manipulate data: \n",
    "\n",
    "a. Handling Null values and outliers.\n",
    "     \n",
    "b. Feature selection/variable selection based on domain knowledge.(In other words, by using Correlation try to \n",
    "        remove columns that are not essential).\n",
    "     \n",
    "c. Converting categorical data to Numerical \n",
    "     \n",
    "d. Scaling the data\n",
    "          \n",
    "\n",
    "3. EDA (Exploratory Data Analysis): Generating reports and graphs.\n",
    "\n",
    "\n",
    "\n",
    "4. Splitting the data: Creating train and test data.\n",
    "\n",
    "\n",
    "\n",
    "5. Build a model using train data (which is 70-80% of the whole data)\n",
    "\n",
    "\n",
    "\n",
    "6. Evaluation/Test model: Test model using the test data (20 -30% of the whole data)\n",
    "\n",
    "\n",
    "\n",
    "7. Optimise the model to increase it's accuracy (Tuning).\n",
    "\n",
    "\n",
    "\n",
    "**The steps from 'Get data' till 'Splitting the data' are same for all ML algorithms. This is what we define as Preprocessing \n",
    "of \n",
    "data.**\n",
    "\n",
    "'Training the model' (step 5) onwards steps may vary depending on the ML algorithm used."
   ]
  },
  {
   "cell_type": "markdown",
   "id": "93b4dac7",
   "metadata": {},
   "source": [
    "---------------------------------------------------------------------------------------------------------------------------"
   ]
  },
  {
   "cell_type": "markdown",
   "id": "d8dfbcdb",
   "metadata": {},
   "source": [
    "Now that you have got an overview of Machine Learning, let us start with our first Machine Learning algorithm: **'Linear Regression'**."
   ]
  },
  {
   "cell_type": "markdown",
   "id": "9551a411",
   "metadata": {},
   "source": [
    "# <font color = red>Linear Regression</font>"
   ]
  },
  {
   "cell_type": "markdown",
   "id": "677d6d66",
   "metadata": {},
   "source": [
    "## <font color = green>The concept of Linear Regression</font>"
   ]
  },
  {
   "cell_type": "markdown",
   "id": "7b734f78",
   "metadata": {},
   "source": [
    "Linear regression is a statistical method used to model the relationship between a dependent variable (often denoted as y) \n",
    "and one or more independent variables (x). The relationship between the dependent variable and the independent variable(s)\n",
    "is assumed to be linear, meaning that the change in the dependent variable is proportional to changes in the independent\n",
    "variable(s).\n",
    "\n",
    "\n",
    "The equation used in Linear Regression is\n",
    "\n",
    "    y = b0 + b1x1 + b2x2 + b3x3 ......bnxn\n",
    "    \n",
    "Here b0 = y-intercept: value of y at x=0, where b0, b1 & b2 are co-efficents of linear regression.\n",
    "Here x1, x2, x3....= independent variables & y = dependent variable\n",
    "\n",
    "So here using the past data we already have y and x. This by applying Linear regression can help us find\n",
    "**b0, b1 & b2 (coefficients of linear regression)** \n",
    "\n",
    "Using these coefficents for a given values of x, we can then predict the value of y in future!\n",
    "\n",
    "Linear Regression works on the concept of \"Best-fit-line\".\n",
    "**Best-fit-line is the line that pass closest to all the datapoints in the X-Y co-ordinate system. (Similar to Trendline)**.\n",
    "So equation of this best fit line is nothing but the equation of linear regression above:\n",
    "\n",
    "     y = b0 + b1x1 + b2x2 + b3x3 ......bnxn\n",
    "     \n",
    "With the help of this best-fit-line one can predict y for any given value of x.\n",
    "\n",
    "To check which particular independent variable (x1, x2,x3...xn) impacts the dependent variable(y) more, we need to \n",
    "check which coefficient obtained after LinearRegression has the highest value. **Higher the coefficient more the impact.**\n",
    "\n",
    "Evaluation of a Regression model is done using Root Mean Square Error (RMSE) & R squared. **Lesser the RMSE better is the \n",
    "model.**\n",
    "\n",
    "    Root Mean Square Error = Actual Value - Predicted value \n",
    "    \n",
    "So one can also infer that lesser RMSE infers to lesser error and hence more enhanced model.\n",
    "**To define a RMSE, it is a measure of the goodness of fit of LinearRegression model.**\n",
    "\n",
    "\n",
    "**R squared tells you how well the regression model is in prediction as compared to the mean model.**\n",
    "It lies between (0-1).\n",
    "\n",
    "If R squared is close to 1 → very good model.\n",
    "\n",
    "If R squared is close to 0.5 → Needs tuning.\n",
    "\n",
    "If R squared is close to 0 → Not a good model.\n",
    "\n",
    "If R squared is less than 0 → Mean model is better than the regression model."
   ]
  },
  {
   "cell_type": "markdown",
   "id": "eaf34aa9",
   "metadata": {},
   "source": [
    "Let us start with the actual code implementation to understand all these concepts clearly."
   ]
  },
  {
   "cell_type": "markdown",
   "id": "e3602964",
   "metadata": {},
   "source": [
    "# Code "
   ]
  },
  {
   "cell_type": "markdown",
   "id": "85efd75b",
   "metadata": {},
   "source": [
    "Problem statement: We would be working on 'advertising.csv' dataset. The dataset is about TV, Radio & Newspaper revenue and\n",
    "the overall sales of broadcasting media. Our job here is to figure out which particular segment impacts the Sales more."
   ]
  },
  {
   "cell_type": "markdown",
   "id": "db15dd99",
   "metadata": {},
   "source": [
    "## <font color = blue>1. Import all the libraries & read the dataset</font>\n"
   ]
  },
  {
   "cell_type": "markdown",
   "id": "3a2b2347",
   "metadata": {},
   "source": [
    "Let us import the necessary libraries and read the dataset first."
   ]
  },
  {
   "cell_type": "code",
   "execution_count": 6,
   "id": "a049ee85",
   "metadata": {},
   "outputs": [],
   "source": [
    "import pandas as pd\n",
    "import numpy as np\n",
    "import matplotlib.pyplot as plt\n",
    "import seaborn as sns"
   ]
  },
  {
   "cell_type": "code",
   "execution_count": 25,
   "id": "9657c353",
   "metadata": {},
   "outputs": [],
   "source": [
    "data = pd.read_csv(\"advertising.csv\")"
   ]
  },
  {
   "cell_type": "code",
   "execution_count": 26,
   "id": "64bbd525",
   "metadata": {},
   "outputs": [
    {
     "data": {
      "text/html": [
       "<div>\n",
       "<style scoped>\n",
       "    .dataframe tbody tr th:only-of-type {\n",
       "        vertical-align: middle;\n",
       "    }\n",
       "\n",
       "    .dataframe tbody tr th {\n",
       "        vertical-align: top;\n",
       "    }\n",
       "\n",
       "    .dataframe thead th {\n",
       "        text-align: right;\n",
       "    }\n",
       "</style>\n",
       "<table border=\"1\" class=\"dataframe\">\n",
       "  <thead>\n",
       "    <tr style=\"text-align: right;\">\n",
       "      <th></th>\n",
       "      <th>TV</th>\n",
       "      <th>Radio</th>\n",
       "      <th>Newspaper</th>\n",
       "      <th>Sales</th>\n",
       "    </tr>\n",
       "  </thead>\n",
       "  <tbody>\n",
       "    <tr>\n",
       "      <th>0</th>\n",
       "      <td>230.1</td>\n",
       "      <td>37.8</td>\n",
       "      <td>69.2</td>\n",
       "      <td>22.1</td>\n",
       "    </tr>\n",
       "    <tr>\n",
       "      <th>1</th>\n",
       "      <td>44.5</td>\n",
       "      <td>39.3</td>\n",
       "      <td>45.1</td>\n",
       "      <td>10.4</td>\n",
       "    </tr>\n",
       "    <tr>\n",
       "      <th>2</th>\n",
       "      <td>17.2</td>\n",
       "      <td>45.9</td>\n",
       "      <td>69.3</td>\n",
       "      <td>12.0</td>\n",
       "    </tr>\n",
       "    <tr>\n",
       "      <th>3</th>\n",
       "      <td>151.5</td>\n",
       "      <td>41.3</td>\n",
       "      <td>58.5</td>\n",
       "      <td>16.5</td>\n",
       "    </tr>\n",
       "    <tr>\n",
       "      <th>4</th>\n",
       "      <td>180.8</td>\n",
       "      <td>10.8</td>\n",
       "      <td>58.4</td>\n",
       "      <td>17.9</td>\n",
       "    </tr>\n",
       "    <tr>\n",
       "      <th>...</th>\n",
       "      <td>...</td>\n",
       "      <td>...</td>\n",
       "      <td>...</td>\n",
       "      <td>...</td>\n",
       "    </tr>\n",
       "    <tr>\n",
       "      <th>195</th>\n",
       "      <td>38.2</td>\n",
       "      <td>3.7</td>\n",
       "      <td>13.8</td>\n",
       "      <td>7.6</td>\n",
       "    </tr>\n",
       "    <tr>\n",
       "      <th>196</th>\n",
       "      <td>94.2</td>\n",
       "      <td>4.9</td>\n",
       "      <td>8.1</td>\n",
       "      <td>14.0</td>\n",
       "    </tr>\n",
       "    <tr>\n",
       "      <th>197</th>\n",
       "      <td>177.0</td>\n",
       "      <td>9.3</td>\n",
       "      <td>6.4</td>\n",
       "      <td>14.8</td>\n",
       "    </tr>\n",
       "    <tr>\n",
       "      <th>198</th>\n",
       "      <td>283.6</td>\n",
       "      <td>42.0</td>\n",
       "      <td>66.2</td>\n",
       "      <td>25.5</td>\n",
       "    </tr>\n",
       "    <tr>\n",
       "      <th>199</th>\n",
       "      <td>232.1</td>\n",
       "      <td>8.6</td>\n",
       "      <td>8.7</td>\n",
       "      <td>18.4</td>\n",
       "    </tr>\n",
       "  </tbody>\n",
       "</table>\n",
       "<p>200 rows × 4 columns</p>\n",
       "</div>"
      ],
      "text/plain": [
       "        TV  Radio  Newspaper  Sales\n",
       "0    230.1   37.8       69.2   22.1\n",
       "1     44.5   39.3       45.1   10.4\n",
       "2     17.2   45.9       69.3   12.0\n",
       "3    151.5   41.3       58.5   16.5\n",
       "4    180.8   10.8       58.4   17.9\n",
       "..     ...    ...        ...    ...\n",
       "195   38.2    3.7       13.8    7.6\n",
       "196   94.2    4.9        8.1   14.0\n",
       "197  177.0    9.3        6.4   14.8\n",
       "198  283.6   42.0       66.2   25.5\n",
       "199  232.1    8.6        8.7   18.4\n",
       "\n",
       "[200 rows x 4 columns]"
      ]
     },
     "execution_count": 26,
     "metadata": {},
     "output_type": "execute_result"
    }
   ],
   "source": [
    "data"
   ]
  },
  {
   "cell_type": "markdown",
   "id": "e93e6040",
   "metadata": {},
   "source": [
    "As I have mentioned earlier we can clearly see the dataset tells us about segment wise revenue distribution and the \n",
    "actual Sales."
   ]
  },
  {
   "cell_type": "markdown",
   "id": "3afcb326",
   "metadata": {},
   "source": [
    "## <font color = blue>2. Assumption checking<font>"
   ]
  },
  {
   "cell_type": "markdown",
   "id": "e0e5d64f",
   "metadata": {},
   "source": [
    "Now before applying Linear regression we have to preprocess the data. The first thing we need to do is to check\n",
    "for Assumptions. This means we have to check the data for Linearity, multi colinearity, autocorrelation, outliers, null\n",
    "values and categorical columns.\n",
    "\n",
    "There are some rules we need to follow for Assumption checking & they are as follows:\n",
    "\n",
    "**Linearity**              : Independent variable (x) & dependent variable (Y) should have a linear relation.\n",
    "                             Can be checked using Correlation either by heatmap/scatter plot.\n",
    "    \n",
    "**No multi colinearity**   : There should NOT exist a linear realtion between the independent columns (x). In such \n",
    "                             cases,one has to drop one of those columns.\n",
    "    \n",
    "**No auto correlation**    : Auto correlation means if the values in a column are dependent on their previous values \n",
    "                             from the same column, in such case the coulmn is auto-correlated. No Auto-correlation for\n",
    "                             any  column should exist.(Only time-series data is auto correlated)\n",
    "        \n",
    "**No outliers**            : Outliers are the extreme values in the dataset that skew away from the original datapoints.No\n",
    "                             outliers should be present. Outliers can be identified using boxplot. \n",
    "\n",
    "**No null values**         : Dataset should not contain null values. \n",
    "\n",
    "**No Categorical columns** : If the dataset have categorical columns convert it to numerical data\n",
    "                             (only applies when we have categorical columns.)"
   ]
  },
  {
   "cell_type": "markdown",
   "id": "563cf4c6",
   "metadata": {},
   "source": [
    "### <font color = red>2.1 Assumption checking for Linearity, Multi colinearity & Auto correlation<font>"
   ]
  },
  {
   "cell_type": "markdown",
   "id": "08e79d0a",
   "metadata": {},
   "source": [
    "To check for Linearity, Multi colinearity and Auto correlation we use heatmap from seaborn (sns) library.\n",
    "'data.corr()' will check for correlation on 'data' and annot=True will annotate(display) the correlation values on the plot."
   ]
  },
  {
   "cell_type": "code",
   "execution_count": 27,
   "id": "f6dd3d28",
   "metadata": {},
   "outputs": [
    {
     "data": {
      "text/plain": [
       "<Axes: >"
      ]
     },
     "execution_count": 27,
     "metadata": {},
     "output_type": "execute_result"
    },
    {
     "data": {
      "image/png": "[encoded data removed]",
      "text/plain": [
       "<Figure size 640x480 with 2 Axes>"
      ]
     },
     "metadata": {},
     "output_type": "display_data"
    }
   ],
   "source": [
    "sns.heatmap(data.corr(),annot=True)"
   ]
  },
  {
   "cell_type": "markdown",
   "id": "45d72118",
   "metadata": {},
   "source": [
    "The threshold for linear correlation = 0.1\n",
    "\n",
    "The relation in heatmap below 0.1 is NOT correlated\n",
    "\n",
    "The relation in heatmap above 0.1 is linearly correlated\n",
    "\n",
    "The relation in heatmap = 0 is NOT correlated\n",
    "\n",
    "In the boxplot above, \n",
    "\n",
    "Independent col : Newspaper, Radio, TV.\n",
    "\n",
    "Dependent col : Sales\n",
    "\n",
    "So in the plot above, the correlation of Sales wrt to Newspaper, Radio & TV are 0.16,0.35 & 0.9 (leftmost col in \n",
    "the boxplot) and all of them are greater than 0.1 hence **there exists linearity and correlation.** Linearity verified.\n",
    "\n",
    "Now let us check for 'Multi correlation',(look at 1st 3 cols in the plot above) the correlation between Newspaper\n",
    "& TV for one scenario is 0.057 > 0.1. Hence **there exists Multi correlation b/w Newspaper & TV**.However, one should not\n",
    "eliminate the columns since we have lack of columns. This is called Feature selection/variable selection. \n",
    "\n",
    "Also since the values in every independent coulmn above are not anyhow correlated to their previous value we have **no \n",
    "autocorrelation** as well.(Only time-series data is auto correlated)"
   ]
  },
  {
   "cell_type": "markdown",
   "id": "076e143a",
   "metadata": {},
   "source": [
    "### <font color = red>2.2 Assumption checking for Outliers<font>"
   ]
  },
  {
   "cell_type": "markdown",
   "id": "fef90aa2",
   "metadata": {},
   "source": [
    "We use boxplot from matplotlib library to check for outliers. The syntax is 'plt.boxplot()':"
   ]
  },
  {
   "cell_type": "code",
   "execution_count": 28,
   "id": "f2b078e6",
   "metadata": {},
   "outputs": [
    {
     "data": {
      "text/plain": [
       "{'whiskers': [<matplotlib.lines.Line2D at 0x26aa1b36410>,\n",
       "  <matplotlib.lines.Line2D at 0x26aa1b0fb90>,\n",
       "  <matplotlib.lines.Line2D at 0x26aa1b46cd0>,\n",
       "  <matplotlib.lines.Line2D at 0x26aa1b476d0>,\n",
       "  <matplotlib.lines.Line2D at 0x26aa1b53910>,\n",
       "  <matplotlib.lines.Line2D at 0x26aa1b58450>,\n",
       "  <matplotlib.lines.Line2D at 0x26aa1ca45d0>,\n",
       "  <matplotlib.lines.Line2D at 0x26aa1ca5150>],\n",
       " 'caps': [<matplotlib.lines.Line2D at 0x26aa1b37910>,\n",
       "  <matplotlib.lines.Line2D at 0x26aa1b44350>,\n",
       "  <matplotlib.lines.Line2D at 0x26aa1b50250>,\n",
       "  <matplotlib.lines.Line2D at 0x26aa1b50d10>,\n",
       "  <matplotlib.lines.Line2D at 0x26aa1b59010>,\n",
       "  <matplotlib.lines.Line2D at 0x26aa1b59ad0>,\n",
       "  <matplotlib.lines.Line2D at 0x26aa1ca5c10>,\n",
       "  <matplotlib.lines.Line2D at 0x26aa1ca6690>],\n",
       " 'boxes': [<matplotlib.lines.Line2D at 0x26aa1b35750>,\n",
       "  <matplotlib.lines.Line2D at 0x26aa1b46350>,\n",
       "  <matplotlib.lines.Line2D at 0x26aa1b52e50>,\n",
       "  <matplotlib.lines.Line2D at 0x26aa1b5bad0>],\n",
       " 'medians': [<matplotlib.lines.Line2D at 0x26aa1b44dd0>,\n",
       "  <matplotlib.lines.Line2D at 0x26aa1b51710>,\n",
       "  <matplotlib.lines.Line2D at 0x26aa1b5a550>,\n",
       "  <matplotlib.lines.Line2D at 0x26aa1ca7010>],\n",
       " 'fliers': [<matplotlib.lines.Line2D at 0x26aa1b28bd0>,\n",
       "  <matplotlib.lines.Line2D at 0x26aa1b52250>,\n",
       "  <matplotlib.lines.Line2D at 0x26aa1b5af50>,\n",
       "  <matplotlib.lines.Line2D at 0x26aa1b53410>],\n",
       " 'means': []}"
      ]
     },
     "execution_count": 28,
     "metadata": {},
     "output_type": "execute_result"
    },
    {
     "data": {
      "image/png": "[encoded data removed]",
      "text/plain": [
       "<Figure size 640x480 with 1 Axes>"
      ]
     },
     "metadata": {},
     "output_type": "display_data"
    }
   ],
   "source": [
    "plt.boxplot(data)"
   ]
  },
  {
   "cell_type": "markdown",
   "id": "ed935dbb",
   "metadata": {},
   "source": [
    "The two cirular co-ordinates for column 3 (Newspaper) are the Outliers. We are getting outliers for data in column \n",
    "3 above 90. So let us consider only the values below 90 to eliminate the Outliers. \n",
    "I am making a new variable 'data_new' where I am storing these changes."
   ]
  },
  {
   "cell_type": "code",
   "execution_count": 29,
   "id": "68515356",
   "metadata": {},
   "outputs": [],
   "source": [
    "# Fetching data below 90 so that we exclude the outlier in Newspaper column & storing in a new varialble data_new.\n",
    "data_new = data[data[\"Newspaper\"]< 90]    "
   ]
  },
  {
   "cell_type": "code",
   "execution_count": 30,
   "id": "1e1d9e16",
   "metadata": {},
   "outputs": [
    {
     "data": {
      "text/html": [
       "<div>\n",
       "<style scoped>\n",
       "    .dataframe tbody tr th:only-of-type {\n",
       "        vertical-align: middle;\n",
       "    }\n",
       "\n",
       "    .dataframe tbody tr th {\n",
       "        vertical-align: top;\n",
       "    }\n",
       "\n",
       "    .dataframe thead th {\n",
       "        text-align: right;\n",
       "    }\n",
       "</style>\n",
       "<table border=\"1\" class=\"dataframe\">\n",
       "  <thead>\n",
       "    <tr style=\"text-align: right;\">\n",
       "      <th></th>\n",
       "      <th>TV</th>\n",
       "      <th>Radio</th>\n",
       "      <th>Newspaper</th>\n",
       "      <th>Sales</th>\n",
       "    </tr>\n",
       "  </thead>\n",
       "  <tbody>\n",
       "    <tr>\n",
       "      <th>0</th>\n",
       "      <td>230.1</td>\n",
       "      <td>37.8</td>\n",
       "      <td>69.2</td>\n",
       "      <td>22.1</td>\n",
       "    </tr>\n",
       "    <tr>\n",
       "      <th>1</th>\n",
       "      <td>44.5</td>\n",
       "      <td>39.3</td>\n",
       "      <td>45.1</td>\n",
       "      <td>10.4</td>\n",
       "    </tr>\n",
       "    <tr>\n",
       "      <th>2</th>\n",
       "      <td>17.2</td>\n",
       "      <td>45.9</td>\n",
       "      <td>69.3</td>\n",
       "      <td>12.0</td>\n",
       "    </tr>\n",
       "    <tr>\n",
       "      <th>3</th>\n",
       "      <td>151.5</td>\n",
       "      <td>41.3</td>\n",
       "      <td>58.5</td>\n",
       "      <td>16.5</td>\n",
       "    </tr>\n",
       "    <tr>\n",
       "      <th>4</th>\n",
       "      <td>180.8</td>\n",
       "      <td>10.8</td>\n",
       "      <td>58.4</td>\n",
       "      <td>17.9</td>\n",
       "    </tr>\n",
       "    <tr>\n",
       "      <th>...</th>\n",
       "      <td>...</td>\n",
       "      <td>...</td>\n",
       "      <td>...</td>\n",
       "      <td>...</td>\n",
       "    </tr>\n",
       "    <tr>\n",
       "      <th>195</th>\n",
       "      <td>38.2</td>\n",
       "      <td>3.7</td>\n",
       "      <td>13.8</td>\n",
       "      <td>7.6</td>\n",
       "    </tr>\n",
       "    <tr>\n",
       "      <th>196</th>\n",
       "      <td>94.2</td>\n",
       "      <td>4.9</td>\n",
       "      <td>8.1</td>\n",
       "      <td>14.0</td>\n",
       "    </tr>\n",
       "    <tr>\n",
       "      <th>197</th>\n",
       "      <td>177.0</td>\n",
       "      <td>9.3</td>\n",
       "      <td>6.4</td>\n",
       "      <td>14.8</td>\n",
       "    </tr>\n",
       "    <tr>\n",
       "      <th>198</th>\n",
       "      <td>283.6</td>\n",
       "      <td>42.0</td>\n",
       "      <td>66.2</td>\n",
       "      <td>25.5</td>\n",
       "    </tr>\n",
       "    <tr>\n",
       "      <th>199</th>\n",
       "      <td>232.1</td>\n",
       "      <td>8.6</td>\n",
       "      <td>8.7</td>\n",
       "      <td>18.4</td>\n",
       "    </tr>\n",
       "  </tbody>\n",
       "</table>\n",
       "<p>198 rows × 4 columns</p>\n",
       "</div>"
      ],
      "text/plain": [
       "        TV  Radio  Newspaper  Sales\n",
       "0    230.1   37.8       69.2   22.1\n",
       "1     44.5   39.3       45.1   10.4\n",
       "2     17.2   45.9       69.3   12.0\n",
       "3    151.5   41.3       58.5   16.5\n",
       "4    180.8   10.8       58.4   17.9\n",
       "..     ...    ...        ...    ...\n",
       "195   38.2    3.7       13.8    7.6\n",
       "196   94.2    4.9        8.1   14.0\n",
       "197  177.0    9.3        6.4   14.8\n",
       "198  283.6   42.0       66.2   25.5\n",
       "199  232.1    8.6        8.7   18.4\n",
       "\n",
       "[198 rows x 4 columns]"
      ]
     },
     "execution_count": 30,
     "metadata": {},
     "output_type": "execute_result"
    }
   ],
   "source": [
    "data_new"
   ]
  },
  {
   "cell_type": "markdown",
   "id": "405fd3b1",
   "metadata": {},
   "source": [
    "Let us check for the boxplot now ,"
   ]
  },
  {
   "cell_type": "code",
   "execution_count": 31,
   "id": "4512aa97",
   "metadata": {},
   "outputs": [
    {
     "data": {
      "text/plain": [
       "{'whiskers': [<matplotlib.lines.Line2D at 0x26aa1d11650>,\n",
       "  <matplotlib.lines.Line2D at 0x26aa1d1f110>,\n",
       "  <matplotlib.lines.Line2D at 0x26aa1d33250>,\n",
       "  <matplotlib.lines.Line2D at 0x26aa1d33c90>,\n",
       "  <matplotlib.lines.Line2D at 0x26aa1d37e90>,\n",
       "  <matplotlib.lines.Line2D at 0x26aa1d44450>,\n",
       "  <matplotlib.lines.Line2D at 0x26aa1d50b10>,\n",
       "  <matplotlib.lines.Line2D at 0x26aa1d51610>],\n",
       " 'caps': [<matplotlib.lines.Line2D at 0x26aa1d1fa90>,\n",
       "  <matplotlib.lines.Line2D at 0x26aa1d30650>,\n",
       "  <matplotlib.lines.Line2D at 0x26aa1d34790>,\n",
       "  <matplotlib.lines.Line2D at 0x26aa1d35250>,\n",
       "  <matplotlib.lines.Line2D at 0x26aa1d45390>,\n",
       "  <matplotlib.lines.Line2D at 0x26aa1d45ed0>,\n",
       "  <matplotlib.lines.Line2D at 0x26aa1d52050>,\n",
       "  <matplotlib.lines.Line2D at 0x26aa1d52c10>],\n",
       " 'boxes': [<matplotlib.lines.Line2D at 0x26aa1d1dd90>,\n",
       "  <matplotlib.lines.Line2D at 0x26aa1d32750>,\n",
       "  <matplotlib.lines.Line2D at 0x26aa1d37490>,\n",
       "  <matplotlib.lines.Line2D at 0x26aa1d50090>],\n",
       " 'medians': [<matplotlib.lines.Line2D at 0x26aa1d31210>,\n",
       "  <matplotlib.lines.Line2D at 0x26aa1d35dd0>,\n",
       "  <matplotlib.lines.Line2D at 0x26aa1d46a50>,\n",
       "  <matplotlib.lines.Line2D at 0x26aa1d53650>],\n",
       " 'fliers': [<matplotlib.lines.Line2D at 0x26a9dc71c50>,\n",
       "  <matplotlib.lines.Line2D at 0x26aa1d36890>,\n",
       "  <matplotlib.lines.Line2D at 0x26aa1d47510>,\n",
       "  <matplotlib.lines.Line2D at 0x26aa1d5c150>],\n",
       " 'means': []}"
      ]
     },
     "execution_count": 31,
     "metadata": {},
     "output_type": "execute_result"
    },
    {
     "data": {
      "image/png": "[encoded data removed]",
      "text/plain": [
       "<Figure size 640x480 with 1 Axes>"
      ]
     },
     "metadata": {},
     "output_type": "display_data"
    }
   ],
   "source": [
    "plt.boxplot(data_new)"
   ]
  },
  {
   "cell_type": "markdown",
   "id": "3c63aa35",
   "metadata": {},
   "source": [
    "### <font color = red>2.3 Assumption checking for Null values<font>"
   ]
  },
  {
   "cell_type": "markdown",
   "id": "7a11c805",
   "metadata": {},
   "source": [
    "To check for null values we use '.isnull().sum()' on data_new. This will return us the sum of null values in all the \n",
    "columns."
   ]
  },
  {
   "cell_type": "code",
   "execution_count": 32,
   "id": "67c6f7ab",
   "metadata": {},
   "outputs": [
    {
     "data": {
      "text/plain": [
       "TV           0\n",
       "Radio        0\n",
       "Newspaper    0\n",
       "Sales        0\n",
       "dtype: int64"
      ]
     },
     "execution_count": 32,
     "metadata": {},
     "output_type": "execute_result"
    }
   ],
   "source": [
    "data_new.isnull().sum()"
   ]
  },
  {
   "cell_type": "markdown",
   "id": "c85d9ca4",
   "metadata": {},
   "source": [
    "As we have got No null values from above, we have no need to do Null Value treatment on data_new.\n",
    "However, if we have got some null values, we can call the following 'Null_Value_Treatment' function where we \n",
    "replace integer and float columns having null values with mean and rest other coulmns having null values with mode."
   ]
  },
  {
   "cell_type": "markdown",
   "id": "a7ca7d0b",
   "metadata": {},
   "source": [
    "### <font color = red>2.4 Null value treatment<font>"
   ]
  },
  {
   "cell_type": "code",
   "execution_count": 33,
   "id": "92c19fe8",
   "metadata": {},
   "outputs": [],
   "source": [
    "def Null_Value_Treatment(data_new):\n",
    "    for i in data_new.columns:\n",
    "        if data_new[i].dtypes == \"int64\" or data_new[i].dtypes == \"float64\":\n",
    "            data_new[i].fillna(data_new[i].mean(),inplace=True)\n",
    "        else:\n",
    "            data_new[i].fillna(data_new[i].mode()[0],inplace=True)\n",
    "    return data_new.isnull().sum()"
   ]
  },
  {
   "cell_type": "code",
   "execution_count": 34,
   "id": "2cb281e8",
   "metadata": {},
   "outputs": [
    {
     "name": "stderr",
     "output_type": "stream",
     "text": [
      "C:\\Users\\ninad\\AppData\\Local\\Temp\\ipykernel_9200\\871628973.py:4: SettingWithCopyWarning: \n",
      "A value is trying to be set on a copy of a slice from a DataFrame\n",
      "\n",
      "See the caveats in the documentation: https://pandas.pydata.org/pandas-docs/stable/user_guide/indexing.html#returning-a-view-versus-a-copy\n",
      "  data_new[i].fillna(data_new[i].mean(),inplace=True)\n"
     ]
    },
    {
     "data": {
      "text/plain": [
       "TV           0\n",
       "Radio        0\n",
       "Newspaper    0\n",
       "Sales        0\n",
       "dtype: int64"
      ]
     },
     "execution_count": 34,
     "metadata": {},
     "output_type": "execute_result"
    }
   ],
   "source": [
    "Null_Value_Treatment(data_new)"
   ]
  },
  {
   "cell_type": "markdown",
   "id": "23559d0d",
   "metadata": {},
   "source": [
    "So in the code above we are defining a function 'Null_Value_Treatment' where we are checking dtypes (datatypes) of \n",
    "individual columns and if the dtypes are integer(int64) or float (float64) we are replacing the null values in data_new\n",
    "with mean, else for other data types we are replacing the\n",
    "null values with mode. To call the function, we use Null_Value_Treatment(function_name) aka\n",
    "Null_Value_Treatment(data_new)."
   ]
  },
  {
   "cell_type": "markdown",
   "id": "0cd31f5c",
   "metadata": {},
   "source": [
    "### <font color = red>2.5 Assumption check for Special characters<font>"
   ]
  },
  {
   "cell_type": "markdown",
   "id": "e1dc0cc1",
   "metadata": {},
   "source": [
    "Even if we have checked for Null values there might be some special characters like '?' in the dataset. To eliminate\n",
    "them we do the check for speacial characters.\n",
    "\n",
    "In this check, we use a for loop to assess every column of data_new and use unique() method on every element i of data_new\n",
    "(given as data_new[i].unique()) to extract the unique characters. \n",
    "f\"\" is called as f-string which is used to make the output dynamic for every column."
   ]
  },
  {
   "cell_type": "code",
   "execution_count": 36,
   "id": "1a08b5e7",
   "metadata": {},
   "outputs": [
    {
     "name": "stdout",
     "output_type": "stream",
     "text": [
      "Unique value for coulmn: TV\n",
      "\n",
      "[230.1  44.5  17.2 151.5 180.8   8.7  57.5 120.2   8.6 199.8  66.1 214.7\n",
      "  23.8  97.5 204.1 195.4 281.4  69.2 147.3 218.4 237.4  13.2 228.3  62.3\n",
      " 262.9 142.9 240.1 248.8  70.6 292.9 112.9  97.2 265.6  95.7 290.7 266.9\n",
      "  74.7  43.1 228.  202.5 177.  293.6 206.9  25.1 175.1  89.7 239.9 227.2\n",
      "  66.9 100.4 216.4 182.6 262.7 198.9   7.3 136.2 210.8 210.7  53.5 261.3\n",
      " 239.3 102.7 131.1  69.   31.5 139.3 216.8 199.1 109.8  26.8 129.4 213.4\n",
      "  16.9  27.5 120.5   5.4 116.   76.4 239.8  75.3  68.4 213.5 193.2  76.3\n",
      " 110.7  88.3 134.3  28.6 217.7 250.9 107.4 163.3 197.6 184.9 289.7 135.2\n",
      " 222.4 280.2 187.9 238.2 137.9  25.   90.4  13.1 255.4 225.8 241.7 175.7\n",
      " 209.6  78.2  75.1 139.2 125.7  19.4 141.3  18.8 224.  123.1 229.5  87.2\n",
      "   7.8  80.2 220.3  59.6   0.7 265.2   8.4 219.8  36.9  48.3  25.6 273.7\n",
      "  43.   73.4 193.7 220.5 104.6  96.2 140.3 243.2  38.   44.7 280.7 121.\n",
      " 171.3 187.8   4.1  93.9 149.8  11.7 131.7 172.5  85.7 188.4 163.5 117.2\n",
      " 234.5  17.9 206.8 215.4 284.3  50.  164.5  19.6 168.4 276.9 248.4 170.2\n",
      " 276.7 165.6 156.6 218.5  56.2 287.6 253.8 205.  139.5 191.1 286.   18.7\n",
      "  39.5  75.5 166.8 149.7  38.2  94.2 283.6 232.1]\n",
      "\n",
      "Unique value for coulmn: Radio\n",
      "\n",
      "[37.8 39.3 45.9 41.3 10.8 48.9 32.8 19.6  2.1  2.6  5.8 24.  35.1  7.6\n",
      " 32.9 47.7 39.6 20.5 23.9 27.7  5.1 15.9 16.9 12.6  3.5 29.3 16.7 27.1\n",
      " 16.  28.3 17.4  1.5 20.   1.4  4.1 43.8 49.4 26.7 37.7 22.3 33.4  8.4\n",
      " 25.7 22.5  9.9 41.5 15.8 11.7  3.1  9.6 41.7 46.2 28.8 28.1 19.2 49.6\n",
      " 29.5  2.  42.7 15.5 29.6 42.8  9.3 24.6 14.5 27.5 43.9 30.6 14.3 33.\n",
      "  5.7 43.7  1.6 28.5 29.9  7.7 20.3 44.5 43.  18.4 40.6 25.5 47.8  4.9\n",
      " 33.5 36.5 14.  31.6 21.  42.3  4.3 10.1 17.2 34.3 46.4 11.   0.3  0.4\n",
      " 26.9  8.2 38.  15.4 20.6 46.8 35.   0.8 36.9 26.8 21.7  2.4 34.6 32.3\n",
      " 11.8 38.9  0.  49.  12.   2.9 27.2 38.6 47.  39.  28.9 25.9 17.  35.4\n",
      " 33.2 14.8  1.9  7.3 40.3 25.8 13.9 23.3 39.7 21.1 11.6 43.5  1.3 18.1\n",
      " 35.8 36.8 14.7  3.4 37.6  5.2 23.6 10.6 20.9 20.1  7.1 30.2  7.8  2.3\n",
      " 10.   5.4 21.3 45.1 28.7 12.1 41.1 42.  35.6  3.7  8.6]\n",
      "\n",
      "Unique value for coulmn: Newspaper\n",
      "\n",
      "[69.2 45.1 69.3 58.5 58.4 75.  23.5 11.6  1.  21.2 24.2  4.  65.9  7.2\n",
      " 46.  52.9 55.8 18.3 19.1 53.4 49.6 26.2 19.5 12.6 22.9 40.8 43.2 38.6\n",
      " 30.   0.3  7.4  8.5  5.  45.7 35.1 32.  31.6 38.7  1.8 26.4 43.3 31.5\n",
      " 35.7 18.5 49.9 36.8 34.6  3.6 39.6 58.7 15.9 60.  41.4 16.6 37.7  9.3\n",
      " 21.4 54.7 27.3  8.4 28.9  0.9  2.2 10.2 11.  27.2 31.7 19.3 31.3 13.1\n",
      " 89.4 20.7 14.2  9.4 23.1 22.3 36.9 32.5 35.6 33.8 65.7 16.  63.2 73.4\n",
      " 51.4 33.  59.  72.3 10.9  5.9 22.  51.2 45.9 49.8 17.9  5.3 29.7 23.2\n",
      " 25.6  5.5 56.5  2.4 10.7 34.5 52.7 14.8 79.2 46.2 50.4 15.6 12.4 74.2\n",
      " 25.9 50.6  9.2  3.2 43.1  8.7 43.   2.1 65.6 59.7 20.5  1.7 12.9 75.6\n",
      " 37.9 34.4 38.9  9.  44.3 11.9 20.6 37.  48.7  9.5  5.7 50.5 24.3 45.2\n",
      " 30.7 49.3  5.4 84.8 21.6 19.4 57.6  6.4 18.4 47.4 17.  12.8 41.8 20.3\n",
      " 35.2 23.7 17.6  8.3 27.4 71.8 19.6 26.6 18.2  3.7 23.4  5.8  6.  13.8\n",
      "  8.1 66.2]\n",
      "\n",
      "Unique value for coulmn: Sales\n",
      "\n",
      "[22.1 10.4 12.  16.5 17.9  7.2 11.8 13.2  4.8 15.6 12.6 17.4  9.2 13.7\n",
      " 19.  22.4 24.4 11.3 14.6 18.  17.5  5.6 20.5  9.7 17.  15.  20.9 18.9\n",
      " 10.5 21.4 11.9 17.8 25.4 14.7 10.1 21.5 16.6 17.1 20.7  8.5 16.1 10.6\n",
      " 23.2 19.8 16.4 10.7 22.6 21.2 20.2 23.7  5.5 23.8 18.4  8.1 24.2 14.\n",
      " 16.  11.  13.4 22.3 18.3 12.4  8.8  8.7  6.9 14.2  5.3 17.3 13.6 21.7\n",
      " 12.9 16.7  7.3 19.4 22.2 11.5 16.9 17.2 19.7 21.8 12.2  9.4 15.9  6.6\n",
      " 15.5  7.  15.2 24.7  1.6 17.7  5.7 19.6 10.8 11.6  9.5 20.8  9.6 10.9\n",
      " 19.2 20.1 12.3 10.3 18.2 20.6  3.2 15.3 13.3 19.9  8.  20.   8.4  7.6\n",
      " 27.  16.8 17.6 26.2  6.7  5.9 14.8 25.5]\n",
      "\n"
     ]
    }
   ],
   "source": [
    "# Check for special characters \n",
    "\n",
    "for i in data_new.columns:\n",
    "    print(f\"Unique value for coulmn: {i}\\n\\n{data_new[i].unique()}\\n\") "
   ]
  },
  {
   "cell_type": "markdown",
   "id": "031aec17",
   "metadata": {},
   "source": [
    "So here we can infer that we have no special characters (like '?') as well. \n",
    "Thus we have checked for both Null value & Special characters.\n"
   ]
  },
  {
   "cell_type": "markdown",
   "id": "c5aa130e",
   "metadata": {},
   "source": [
    "## <font color = blue>3. Splitting the data<font>"
   ]
  },
  {
   "cell_type": "markdown",
   "id": "2807dcfa",
   "metadata": {},
   "source": [
    "Right before training the data, we have to first split it into 'x' & 'y'. Here 'x' represents all the dependent variables\n",
    "in the column while 'y' represents the independent variable. "
   ]
  },
  {
   "cell_type": "code",
   "execution_count": 37,
   "id": "a27ea0f3",
   "metadata": {},
   "outputs": [],
   "source": [
    "#While assigning multiple columns we use mutiple brackets\n",
    "\n",
    "x = data_new[[\"TV\",\"Radio\",\"Newspaper\"]]    \n",
    "                                        \n",
    "y = data_new[[\"Sales\"]]"
   ]
  },
  {
   "cell_type": "code",
   "execution_count": 38,
   "id": "34c3e188",
   "metadata": {},
   "outputs": [
    {
     "data": {
      "text/html": [
       "<div>\n",
       "<style scoped>\n",
       "    .dataframe tbody tr th:only-of-type {\n",
       "        vertical-align: middle;\n",
       "    }\n",
       "\n",
       "    .dataframe tbody tr th {\n",
       "        vertical-align: top;\n",
       "    }\n",
       "\n",
       "    .dataframe thead th {\n",
       "        text-align: right;\n",
       "    }\n",
       "</style>\n",
       "<table border=\"1\" class=\"dataframe\">\n",
       "  <thead>\n",
       "    <tr style=\"text-align: right;\">\n",
       "      <th></th>\n",
       "      <th>TV</th>\n",
       "      <th>Radio</th>\n",
       "      <th>Newspaper</th>\n",
       "    </tr>\n",
       "  </thead>\n",
       "  <tbody>\n",
       "    <tr>\n",
       "      <th>0</th>\n",
       "      <td>230.1</td>\n",
       "      <td>37.8</td>\n",
       "      <td>69.2</td>\n",
       "    </tr>\n",
       "    <tr>\n",
       "      <th>1</th>\n",
       "      <td>44.5</td>\n",
       "      <td>39.3</td>\n",
       "      <td>45.1</td>\n",
       "    </tr>\n",
       "    <tr>\n",
       "      <th>2</th>\n",
       "      <td>17.2</td>\n",
       "      <td>45.9</td>\n",
       "      <td>69.3</td>\n",
       "    </tr>\n",
       "    <tr>\n",
       "      <th>3</th>\n",
       "      <td>151.5</td>\n",
       "      <td>41.3</td>\n",
       "      <td>58.5</td>\n",
       "    </tr>\n",
       "    <tr>\n",
       "      <th>4</th>\n",
       "      <td>180.8</td>\n",
       "      <td>10.8</td>\n",
       "      <td>58.4</td>\n",
       "    </tr>\n",
       "    <tr>\n",
       "      <th>...</th>\n",
       "      <td>...</td>\n",
       "      <td>...</td>\n",
       "      <td>...</td>\n",
       "    </tr>\n",
       "    <tr>\n",
       "      <th>195</th>\n",
       "      <td>38.2</td>\n",
       "      <td>3.7</td>\n",
       "      <td>13.8</td>\n",
       "    </tr>\n",
       "    <tr>\n",
       "      <th>196</th>\n",
       "      <td>94.2</td>\n",
       "      <td>4.9</td>\n",
       "      <td>8.1</td>\n",
       "    </tr>\n",
       "    <tr>\n",
       "      <th>197</th>\n",
       "      <td>177.0</td>\n",
       "      <td>9.3</td>\n",
       "      <td>6.4</td>\n",
       "    </tr>\n",
       "    <tr>\n",
       "      <th>198</th>\n",
       "      <td>283.6</td>\n",
       "      <td>42.0</td>\n",
       "      <td>66.2</td>\n",
       "    </tr>\n",
       "    <tr>\n",
       "      <th>199</th>\n",
       "      <td>232.1</td>\n",
       "      <td>8.6</td>\n",
       "      <td>8.7</td>\n",
       "    </tr>\n",
       "  </tbody>\n",
       "</table>\n",
       "<p>198 rows × 3 columns</p>\n",
       "</div>"
      ],
      "text/plain": [
       "        TV  Radio  Newspaper\n",
       "0    230.1   37.8       69.2\n",
       "1     44.5   39.3       45.1\n",
       "2     17.2   45.9       69.3\n",
       "3    151.5   41.3       58.5\n",
       "4    180.8   10.8       58.4\n",
       "..     ...    ...        ...\n",
       "195   38.2    3.7       13.8\n",
       "196   94.2    4.9        8.1\n",
       "197  177.0    9.3        6.4\n",
       "198  283.6   42.0       66.2\n",
       "199  232.1    8.6        8.7\n",
       "\n",
       "[198 rows x 3 columns]"
      ]
     },
     "execution_count": 38,
     "metadata": {},
     "output_type": "execute_result"
    }
   ],
   "source": [
    "x"
   ]
  },
  {
   "cell_type": "markdown",
   "id": "1de35479",
   "metadata": {},
   "source": [
    "After splitting we got all the dependent columns in 'x'"
   ]
  },
  {
   "cell_type": "code",
   "execution_count": 39,
   "id": "b1292a5a",
   "metadata": {},
   "outputs": [
    {
     "data": {
      "text/html": [
       "<div>\n",
       "<style scoped>\n",
       "    .dataframe tbody tr th:only-of-type {\n",
       "        vertical-align: middle;\n",
       "    }\n",
       "\n",
       "    .dataframe tbody tr th {\n",
       "        vertical-align: top;\n",
       "    }\n",
       "\n",
       "    .dataframe thead th {\n",
       "        text-align: right;\n",
       "    }\n",
       "</style>\n",
       "<table border=\"1\" class=\"dataframe\">\n",
       "  <thead>\n",
       "    <tr style=\"text-align: right;\">\n",
       "      <th></th>\n",
       "      <th>Sales</th>\n",
       "    </tr>\n",
       "  </thead>\n",
       "  <tbody>\n",
       "    <tr>\n",
       "      <th>0</th>\n",
       "      <td>22.1</td>\n",
       "    </tr>\n",
       "    <tr>\n",
       "      <th>1</th>\n",
       "      <td>10.4</td>\n",
       "    </tr>\n",
       "    <tr>\n",
       "      <th>2</th>\n",
       "      <td>12.0</td>\n",
       "    </tr>\n",
       "    <tr>\n",
       "      <th>3</th>\n",
       "      <td>16.5</td>\n",
       "    </tr>\n",
       "    <tr>\n",
       "      <th>4</th>\n",
       "      <td>17.9</td>\n",
       "    </tr>\n",
       "    <tr>\n",
       "      <th>...</th>\n",
       "      <td>...</td>\n",
       "    </tr>\n",
       "    <tr>\n",
       "      <th>195</th>\n",
       "      <td>7.6</td>\n",
       "    </tr>\n",
       "    <tr>\n",
       "      <th>196</th>\n",
       "      <td>14.0</td>\n",
       "    </tr>\n",
       "    <tr>\n",
       "      <th>197</th>\n",
       "      <td>14.8</td>\n",
       "    </tr>\n",
       "    <tr>\n",
       "      <th>198</th>\n",
       "      <td>25.5</td>\n",
       "    </tr>\n",
       "    <tr>\n",
       "      <th>199</th>\n",
       "      <td>18.4</td>\n",
       "    </tr>\n",
       "  </tbody>\n",
       "</table>\n",
       "<p>198 rows × 1 columns</p>\n",
       "</div>"
      ],
      "text/plain": [
       "     Sales\n",
       "0     22.1\n",
       "1     10.4\n",
       "2     12.0\n",
       "3     16.5\n",
       "4     17.9\n",
       "..     ...\n",
       "195    7.6\n",
       "196   14.0\n",
       "197   14.8\n",
       "198   25.5\n",
       "199   18.4\n",
       "\n",
       "[198 rows x 1 columns]"
      ]
     },
     "execution_count": 39,
     "metadata": {},
     "output_type": "execute_result"
    }
   ],
   "source": [
    "y"
   ]
  },
  {
   "cell_type": "markdown",
   "id": "26e693ae",
   "metadata": {},
   "source": [
    "After splitting we got the independent column in 'y'"
   ]
  },
  {
   "cell_type": "markdown",
   "id": "599dbb6e",
   "metadata": {},
   "source": [
    "Let us check the dimensions of x,y and data_new"
   ]
  },
  {
   "cell_type": "code",
   "execution_count": 40,
   "id": "ac38f804",
   "metadata": {},
   "outputs": [
    {
     "data": {
      "text/plain": [
       "(198, 3)"
      ]
     },
     "execution_count": 40,
     "metadata": {},
     "output_type": "execute_result"
    }
   ],
   "source": [
    "#Indicates 3 columns, 198 rows in x for the given example\n",
    "x.shape "
   ]
  },
  {
   "cell_type": "code",
   "execution_count": 41,
   "id": "6dc0815f",
   "metadata": {},
   "outputs": [
    {
     "data": {
      "text/plain": [
       "(198, 1)"
      ]
     },
     "execution_count": 41,
     "metadata": {},
     "output_type": "execute_result"
    }
   ],
   "source": [
    "#Indicates 1 column, 198 rows in y for the given example\n",
    "y.shape  "
   ]
  },
  {
   "cell_type": "code",
   "execution_count": 42,
   "id": "915a7825",
   "metadata": {},
   "outputs": [
    {
     "data": {
      "text/plain": [
       "(198, 4)"
      ]
     },
     "execution_count": 42,
     "metadata": {},
     "output_type": "execute_result"
    }
   ],
   "source": [
    "#Indicates 4 columns, 198 rows in data_new for the given example\n",
    "data_new.shape"
   ]
  },
  {
   "cell_type": "markdown",
   "id": "7c939263",
   "metadata": {},
   "source": [
    "## <font color = blue>4. Performing Train-Test split<font>"
   ]
  },
  {
   "cell_type": "markdown",
   "id": "4d16162f",
   "metadata": {},
   "source": [
    "To train the data & to predict the data, Train-test split is the most important part. "
   ]
  },
  {
   "cell_type": "code",
   "execution_count": 43,
   "id": "761b36b3",
   "metadata": {},
   "outputs": [],
   "source": [
    "from sklearn.model_selection import train_test_split\n",
    "x_train, x_test,y_train, y_test= train_test_split(x,y, test_size = 0.2) "
   ]
  },
  {
   "cell_type": "markdown",
   "id": "ba6eae67",
   "metadata": {},
   "source": [
    "Here we are using 'sklearn' library which is using another sub library 'model_selection' to import \n",
    "a splitting fn 'train_test_split' which splits the independent variable 'x' & dependent variable 'y' into train \n",
    "and test sizes based on the ratio 70-80 % for train size of each and 20 % (0.2) for the test size.\n",
    "\n",
    "**<font color= red>Train data is the data on which the algorithm is trained & test data is the data on which prediction is\n",
    "done</font>**"
   ]
  },
  {
   "cell_type": "markdown",
   "id": "137c4227",
   "metadata": {},
   "source": [
    "Let is check the dimensions of train and test data for 'x' & 'y'"
   ]
  },
  {
   "cell_type": "code",
   "execution_count": 44,
   "id": "5a92ffaf",
   "metadata": {},
   "outputs": [
    {
     "name": "stdout",
     "output_type": "stream",
     "text": [
      "(158, 3)\n",
      "(40, 3)\n",
      "\n",
      "(158, 1)\n",
      "(40, 1)\n"
     ]
    }
   ],
   "source": [
    "print(x_train.shape)\n",
    "print(x_test.shape)\n",
    "print()\n",
    "print(y_train.shape)\n",
    "print(y_test.shape)"
   ]
  },
  {
   "cell_type": "markdown",
   "id": "a1d51d67",
   "metadata": {},
   "source": [
    "Now if you compare the row wise split with the original shape of x and y, we have \n",
    "\n",
    "x.shape = 198 splitted in x_train = 158, x_test = 40\n",
    "\n",
    "y.shape = 198 splitted in y_train = 158, y_test = 40"
   ]
  },
  {
   "cell_type": "markdown",
   "id": "dee0e2e6",
   "metadata": {},
   "source": [
    "## <font color = blue>5. Training the data<font>"
   ]
  },
  {
   "cell_type": "markdown",
   "id": "c117ba50",
   "metadata": {},
   "source": [
    "Once done with splitting the data, we have to train the data. For training, we use Linear Regression on the trained data \n",
    "using fit function. But before that we need to call LinearRegression function by importing it from sklearn.linear_model \n",
    "library."
   ]
  },
  {
   "cell_type": "code",
   "execution_count": 45,
   "id": "377b4146",
   "metadata": {},
   "outputs": [],
   "source": [
    "from sklearn.linear_model import LinearRegression\n",
    "lm = LinearRegression()"
   ]
  },
  {
   "cell_type": "code",
   "execution_count": 46,
   "id": "9f88dc6c",
   "metadata": {},
   "outputs": [
    {
     "data": {
      "text/html": [
       "<style>#sk-container-id-1 {color: black;}#sk-container-id-1 pre{padding: 0;}#sk-container-id-1 div.sk-toggleable {background-color: white;}#sk-container-id-1 label.sk-toggleable__label {cursor: pointer;display: block;width: 100%;margin-bottom: 0;padding: 0.3em;box-sizing: border-box;text-align: center;}#sk-container-id-1 label.sk-toggleable__label-arrow:before {content: \"▸\";float: left;margin-right: 0.25em;color: #696969;}#sk-container-id-1 label.sk-toggleable__label-arrow:hover:before {color: black;}#sk-container-id-1 div.sk-estimator:hover label.sk-toggleable__label-arrow:before {color: black;}#sk-container-id-1 div.sk-toggleable__content {max-height: 0;max-width: 0;overflow: hidden;text-align: left;background-color: #f0f8ff;}#sk-container-id-1 div.sk-toggleable__content pre {margin: 0.2em;color: black;border-radius: 0.25em;background-color: #f0f8ff;}#sk-container-id-1 input.sk-toggleable__control:checked~div.sk-toggleable__content {max-height: 200px;max-width: 100%;overflow: auto;}#sk-container-id-1 input.sk-toggleable__control:checked~label.sk-toggleable__label-arrow:before {content: \"▾\";}#sk-container-id-1 div.sk-estimator input.sk-toggleable__control:checked~label.sk-toggleable__label {background-color: #d4ebff;}#sk-container-id-1 div.sk-label input.sk-toggleable__control:checked~label.sk-toggleable__label {background-color: #d4ebff;}#sk-container-id-1 input.sk-hidden--visually {border: 0;clip: rect(1px 1px 1px 1px);clip: rect(1px, 1px, 1px, 1px);height: 1px;margin: -1px;overflow: hidden;padding: 0;position: absolute;width: 1px;}#sk-container-id-1 div.sk-estimator {font-family: monospace;background-color: #f0f8ff;border: 1px dotted black;border-radius: 0.25em;box-sizing: border-box;margin-bottom: 0.5em;}#sk-container-id-1 div.sk-estimator:hover {background-color: #d4ebff;}#sk-container-id-1 div.sk-parallel-item::after {content: \"\";width: 100%;border-bottom: 1px solid gray;flex-grow: 1;}#sk-container-id-1 div.sk-label:hover label.sk-toggleable__label {background-color: #d4ebff;}#sk-container-id-1 div.sk-serial::before {content: \"\";position: absolute;border-left: 1px solid gray;box-sizing: border-box;top: 0;bottom: 0;left: 50%;z-index: 0;}#sk-container-id-1 div.sk-serial {display: flex;flex-direction: column;align-items: center;background-color: white;padding-right: 0.2em;padding-left: 0.2em;position: relative;}#sk-container-id-1 div.sk-item {position: relative;z-index: 1;}#sk-container-id-1 div.sk-parallel {display: flex;align-items: stretch;justify-content: center;background-color: white;position: relative;}#sk-container-id-1 div.sk-item::before, #sk-container-id-1 div.sk-parallel-item::before {content: \"\";position: absolute;border-left: 1px solid gray;box-sizing: border-box;top: 0;bottom: 0;left: 50%;z-index: -1;}#sk-container-id-1 div.sk-parallel-item {display: flex;flex-direction: column;z-index: 1;position: relative;background-color: white;}#sk-container-id-1 div.sk-parallel-item:first-child::after {align-self: flex-end;width: 50%;}#sk-container-id-1 div.sk-parallel-item:last-child::after {align-self: flex-start;width: 50%;}#sk-container-id-1 div.sk-parallel-item:only-child::after {width: 0;}#sk-container-id-1 div.sk-dashed-wrapped {border: 1px dashed gray;margin: 0 0.4em 0.5em 0.4em;box-sizing: border-box;padding-bottom: 0.4em;background-color: white;}#sk-container-id-1 div.sk-label label {font-family: monospace;font-weight: bold;display: inline-block;line-height: 1.2em;}#sk-container-id-1 div.sk-label-container {text-align: center;}#sk-container-id-1 div.sk-container {/* jupyter's `normalize.less` sets `[hidden] { display: none; }` but bootstrap.min.css set `[hidden] { display: none !important; }` so we also need the `!important` here to be able to override the default hidden behavior on the sphinx rendered scikit-learn.org. See: https://github.com/scikit-learn/scikit-learn/issues/21755 */display: inline-block !important;position: relative;}#sk-container-id-1 div.sk-text-repr-fallback {display: none;}</style><div id=\"sk-container-id-1\" class=\"sk-top-container\"><div class=\"sk-text-repr-fallback\"><pre>LinearRegression()</pre><b>In a Jupyter environment, please rerun this cell to show the HTML representation or trust the notebook. <br />On GitHub, the HTML representation is unable to render, please try loading this page with nbviewer.org.</b></div><div class=\"sk-container\" hidden><div class=\"sk-item\"><div class=\"sk-estimator sk-toggleable\"><input class=\"sk-toggleable__control sk-hidden--visually\" id=\"sk-estimator-id-1\" type=\"checkbox\" checked><label for=\"sk-estimator-id-1\" class=\"sk-toggleable__label sk-toggleable__label-arrow\">LinearRegression</label><div class=\"sk-toggleable__content\"><pre>LinearRegression()</pre></div></div></div></div></div>"
      ],
      "text/plain": [
       "LinearRegression()"
      ]
     },
     "execution_count": 46,
     "metadata": {},
     "output_type": "execute_result"
    }
   ],
   "source": [
    "lm.fit(x_train,y_train)"
   ]
  },
  {
   "cell_type": "markdown",
   "id": "debed293",
   "metadata": {},
   "source": [
    "The equation that runs on the backend is:\n",
    "    \n",
    "**y = b0 + b1x1 + b2x2 + b3x3** "
   ]
  },
  {
   "cell_type": "markdown",
   "id": "ce54f34c",
   "metadata": {},
   "source": [
    "### <font color = gray>5.1 Printing the value of coefficients<font>"
   ]
  },
  {
   "cell_type": "code",
   "execution_count": 47,
   "id": "abbaffdc",
   "metadata": {},
   "outputs": [
    {
     "name": "stdout",
     "output_type": "stream",
     "text": [
      "[[0.05554508 0.10815448 0.00303242]]\n"
     ]
    }
   ],
   "source": [
    "print(lm.coef_)    "
   ]
  },
  {
   "cell_type": "markdown",
   "id": "eb93e221",
   "metadata": {},
   "source": [
    "Here lm.coef will return all the coefficients (b1, b2 & b3) \n",
    "that we obtain after performing LinearRegression using LinearRegression()"
   ]
  },
  {
   "cell_type": "markdown",
   "id": "436b8729",
   "metadata": {},
   "source": [
    "**<font color = red>Here the value of coefficient b2=0.10815448 is higher than the other coefficients.\n",
    "From this we can conclude that higher b2 corresponds to larger impact on y.\n",
    "Hence for the above example, investment in advertising for Radio will give us higher return at Sales.</font>**"
   ]
  },
  {
   "cell_type": "markdown",
   "id": "780bfae7",
   "metadata": {},
   "source": [
    "### <font color = gray>5.2 Printing the value of intercept<font>"
   ]
  },
  {
   "cell_type": "code",
   "execution_count": 48,
   "id": "b99cc2f3",
   "metadata": {},
   "outputs": [
    {
     "name": "stdout",
     "output_type": "stream",
     "text": [
      "[4.37036148]\n"
     ]
    }
   ],
   "source": [
    "print(lm.intercept_)  "
   ]
  },
  {
   "cell_type": "markdown",
   "id": "05ccb4e9",
   "metadata": {},
   "source": [
    "lm.intercept returns the value of y-intercept (b0)"
   ]
  },
  {
   "cell_type": "markdown",
   "id": "35b765c2",
   "metadata": {},
   "source": [
    "## <font color = blue>6. Predicting 'y_pred' on 'x_test' data<font>"
   ]
  },
  {
   "cell_type": "markdown",
   "id": "6a74d920",
   "metadata": {},
   "source": [
    "Prediction is always done on the test data. I am using lm.predict() to predict 'y' on test data of 'x'."
   ]
  },
  {
   "cell_type": "code",
   "execution_count": 50,
   "id": "cd08052e",
   "metadata": {},
   "outputs": [],
   "source": [
    "y_pred= lm.predict(x_test)"
   ]
  },
  {
   "cell_type": "code",
   "execution_count": 51,
   "id": "9ab209c1",
   "metadata": {},
   "outputs": [
    {
     "data": {
      "text/plain": [
       "array([[19.29246865],\n",
       "       [ 7.93262851],\n",
       "       [10.53174201],\n",
       "       [20.56436848],\n",
       "       [11.18293236],\n",
       "       [ 6.93420255],\n",
       "       [10.32511476],\n",
       "       [11.22935069],\n",
       "       [18.29328886],\n",
       "       [15.75807389],\n",
       "       [10.48674116],\n",
       "       [15.22708497],\n",
       "       [ 5.86499473],\n",
       "       [19.68763321],\n",
       "       [19.42147888],\n",
       "       [20.98652551],\n",
       "       [17.45450689],\n",
       "       [17.9706393 ],\n",
       "       [16.55395401],\n",
       "       [17.90912919],\n",
       "       [ 9.21153789],\n",
       "       [21.57741257],\n",
       "       [18.12590974],\n",
       "       [15.51488824],\n",
       "       [19.5449591 ],\n",
       "       [10.02254772],\n",
       "       [ 5.21889381],\n",
       "       [22.240137  ],\n",
       "       [ 9.49443533],\n",
       "       [22.47350476],\n",
       "       [ 6.9736208 ],\n",
       "       [10.30652239],\n",
       "       [21.91621594],\n",
       "       [12.16222485],\n",
       "       [21.49558297],\n",
       "       [20.98237461],\n",
       "       [ 9.75027798],\n",
       "       [14.06250567],\n",
       "       [19.40488618],\n",
       "       [10.62981435]])"
      ]
     },
     "execution_count": 51,
     "metadata": {},
     "output_type": "execute_result"
    }
   ],
   "source": [
    "y_pred"
   ]
  },
  {
   "cell_type": "markdown",
   "id": "a7e4a089",
   "metadata": {},
   "source": [
    "Now we have obtained 'y_pred' which is a predicted output on the test data. \n",
    "Let us try to put this 'y_pred' as 'predicted sales' next to the actual sales (y_test) by constructing a dataframe. "
   ]
  },
  {
   "cell_type": "markdown",
   "id": "76d2cba0",
   "metadata": {},
   "source": [
    "## <font color = blue>7. Constructing a Dataframe<font>"
   ]
  },
  {
   "cell_type": "markdown",
   "id": "c40456ad",
   "metadata": {},
   "source": [
    "The syntax to construct a dataframe using pandas is pd.Dataframe(). Dataframe is basically a table.\n",
    "Now we are creating a dataframe where first input is test data from 'x'.\n",
    "second input is test data from 'y'\n",
    "and lastly we are using 'y_pred' from the prediction above."
   ]
  },
  {
   "cell_type": "code",
   "execution_count": 52,
   "id": "fd064e99",
   "metadata": {
    "scrolled": true
   },
   "outputs": [
    {
     "data": {
      "text/html": [
       "<div>\n",
       "<style scoped>\n",
       "    .dataframe tbody tr th:only-of-type {\n",
       "        vertical-align: middle;\n",
       "    }\n",
       "\n",
       "    .dataframe tbody tr th {\n",
       "        vertical-align: top;\n",
       "    }\n",
       "\n",
       "    .dataframe thead th {\n",
       "        text-align: right;\n",
       "    }\n",
       "</style>\n",
       "<table border=\"1\" class=\"dataframe\">\n",
       "  <thead>\n",
       "    <tr style=\"text-align: right;\">\n",
       "      <th></th>\n",
       "      <th>TV</th>\n",
       "      <th>Radio</th>\n",
       "      <th>Newspaper</th>\n",
       "      <th>actual sales</th>\n",
       "      <th>predicted sales</th>\n",
       "    </tr>\n",
       "  </thead>\n",
       "  <tbody>\n",
       "    <tr>\n",
       "      <th>59</th>\n",
       "      <td>210.7</td>\n",
       "      <td>29.5</td>\n",
       "      <td>9.3</td>\n",
       "      <td>18.4</td>\n",
       "      <td>19.292469</td>\n",
       "    </tr>\n",
       "    <tr>\n",
       "      <th>78</th>\n",
       "      <td>5.4</td>\n",
       "      <td>29.9</td>\n",
       "      <td>9.4</td>\n",
       "      <td>5.3</td>\n",
       "      <td>7.932629</td>\n",
       "    </tr>\n",
       "    <tr>\n",
       "      <th>46</th>\n",
       "      <td>89.7</td>\n",
       "      <td>9.9</td>\n",
       "      <td>35.7</td>\n",
       "      <td>10.6</td>\n",
       "      <td>10.531742</td>\n",
       "    </tr>\n",
       "    <tr>\n",
       "      <th>68</th>\n",
       "      <td>237.4</td>\n",
       "      <td>27.5</td>\n",
       "      <td>11.0</td>\n",
       "      <td>18.9</td>\n",
       "      <td>20.564368</td>\n",
       "    </tr>\n",
       "    <tr>\n",
       "      <th>6</th>\n",
       "      <td>57.5</td>\n",
       "      <td>32.8</td>\n",
       "      <td>23.5</td>\n",
       "      <td>11.8</td>\n",
       "      <td>11.182932</td>\n",
       "    </tr>\n",
       "    <tr>\n",
       "      <th>195</th>\n",
       "      <td>38.2</td>\n",
       "      <td>3.7</td>\n",
       "      <td>13.8</td>\n",
       "      <td>7.6</td>\n",
       "      <td>6.934203</td>\n",
       "    </tr>\n",
       "    <tr>\n",
       "      <th>140</th>\n",
       "      <td>73.4</td>\n",
       "      <td>17.0</td>\n",
       "      <td>12.9</td>\n",
       "      <td>10.9</td>\n",
       "      <td>10.325115</td>\n",
       "    </tr>\n",
       "    <tr>\n",
       "      <th>1</th>\n",
       "      <td>44.5</td>\n",
       "      <td>39.3</td>\n",
       "      <td>45.1</td>\n",
       "      <td>10.4</td>\n",
       "      <td>11.229351</td>\n",
       "    </tr>\n",
       "    <tr>\n",
       "      <th>153</th>\n",
       "      <td>171.3</td>\n",
       "      <td>39.7</td>\n",
       "      <td>37.7</td>\n",
       "      <td>16.0</td>\n",
       "      <td>18.293289</td>\n",
       "    </tr>\n",
       "    <tr>\n",
       "      <th>4</th>\n",
       "      <td>180.8</td>\n",
       "      <td>10.8</td>\n",
       "      <td>58.4</td>\n",
       "      <td>17.9</td>\n",
       "      <td>15.758074</td>\n",
       "    </tr>\n",
       "    <tr>\n",
       "      <th>18</th>\n",
       "      <td>69.2</td>\n",
       "      <td>20.5</td>\n",
       "      <td>18.3</td>\n",
       "      <td>11.3</td>\n",
       "      <td>10.486741</td>\n",
       "    </tr>\n",
       "    <tr>\n",
       "      <th>197</th>\n",
       "      <td>177.0</td>\n",
       "      <td>9.3</td>\n",
       "      <td>6.4</td>\n",
       "      <td>14.8</td>\n",
       "      <td>15.227085</td>\n",
       "    </tr>\n",
       "    <tr>\n",
       "      <th>192</th>\n",
       "      <td>17.2</td>\n",
       "      <td>4.1</td>\n",
       "      <td>31.6</td>\n",
       "      <td>5.9</td>\n",
       "      <td>5.864995</td>\n",
       "    </tr>\n",
       "    <tr>\n",
       "      <th>53</th>\n",
       "      <td>182.6</td>\n",
       "      <td>46.2</td>\n",
       "      <td>58.7</td>\n",
       "      <td>21.2</td>\n",
       "      <td>19.687633</td>\n",
       "    </tr>\n",
       "    <tr>\n",
       "      <th>62</th>\n",
       "      <td>239.3</td>\n",
       "      <td>15.5</td>\n",
       "      <td>27.3</td>\n",
       "      <td>20.7</td>\n",
       "      <td>19.421479</td>\n",
       "    </tr>\n",
       "    <tr>\n",
       "      <th>35</th>\n",
       "      <td>290.7</td>\n",
       "      <td>4.1</td>\n",
       "      <td>8.5</td>\n",
       "      <td>17.8</td>\n",
       "      <td>20.986526</td>\n",
       "    </tr>\n",
       "    <tr>\n",
       "      <th>163</th>\n",
       "      <td>163.5</td>\n",
       "      <td>36.8</td>\n",
       "      <td>7.4</td>\n",
       "      <td>18.0</td>\n",
       "      <td>17.454507</td>\n",
       "    </tr>\n",
       "    <tr>\n",
       "      <th>110</th>\n",
       "      <td>225.8</td>\n",
       "      <td>8.2</td>\n",
       "      <td>56.5</td>\n",
       "      <td>18.4</td>\n",
       "      <td>17.970639</td>\n",
       "    </tr>\n",
       "    <tr>\n",
       "      <th>194</th>\n",
       "      <td>149.7</td>\n",
       "      <td>35.6</td>\n",
       "      <td>6.0</td>\n",
       "      <td>17.3</td>\n",
       "      <td>16.553954</td>\n",
       "    </tr>\n",
       "    <tr>\n",
       "      <th>152</th>\n",
       "      <td>197.6</td>\n",
       "      <td>23.3</td>\n",
       "      <td>14.2</td>\n",
       "      <td>16.6</td>\n",
       "      <td>17.909129</td>\n",
       "    </tr>\n",
       "    <tr>\n",
       "      <th>65</th>\n",
       "      <td>69.0</td>\n",
       "      <td>9.3</td>\n",
       "      <td>0.9</td>\n",
       "      <td>11.3</td>\n",
       "      <td>9.211538</td>\n",
       "    </tr>\n",
       "    <tr>\n",
       "      <th>150</th>\n",
       "      <td>280.7</td>\n",
       "      <td>13.9</td>\n",
       "      <td>37.0</td>\n",
       "      <td>16.1</td>\n",
       "      <td>21.577413</td>\n",
       "    </tr>\n",
       "    <tr>\n",
       "      <th>40</th>\n",
       "      <td>202.5</td>\n",
       "      <td>22.3</td>\n",
       "      <td>31.6</td>\n",
       "      <td>16.6</td>\n",
       "      <td>18.125910</td>\n",
       "    </tr>\n",
       "    <tr>\n",
       "      <th>26</th>\n",
       "      <td>142.9</td>\n",
       "      <td>29.3</td>\n",
       "      <td>12.6</td>\n",
       "      <td>15.0</td>\n",
       "      <td>15.514888</td>\n",
       "    </tr>\n",
       "    <tr>\n",
       "      <th>131</th>\n",
       "      <td>265.2</td>\n",
       "      <td>2.9</td>\n",
       "      <td>43.0</td>\n",
       "      <td>17.7</td>\n",
       "      <td>19.544959</td>\n",
       "    </tr>\n",
       "    <tr>\n",
       "      <th>32</th>\n",
       "      <td>97.2</td>\n",
       "      <td>1.5</td>\n",
       "      <td>30.0</td>\n",
       "      <td>13.2</td>\n",
       "      <td>10.022548</td>\n",
       "    </tr>\n",
       "    <tr>\n",
       "      <th>108</th>\n",
       "      <td>13.1</td>\n",
       "      <td>0.4</td>\n",
       "      <td>25.6</td>\n",
       "      <td>5.3</td>\n",
       "      <td>5.218894</td>\n",
       "    </tr>\n",
       "    <tr>\n",
       "      <th>47</th>\n",
       "      <td>239.9</td>\n",
       "      <td>41.5</td>\n",
       "      <td>18.5</td>\n",
       "      <td>23.2</td>\n",
       "      <td>22.240137</td>\n",
       "    </tr>\n",
       "    <tr>\n",
       "      <th>107</th>\n",
       "      <td>90.4</td>\n",
       "      <td>0.3</td>\n",
       "      <td>23.2</td>\n",
       "      <td>12.0</td>\n",
       "      <td>9.494435</td>\n",
       "    </tr>\n",
       "    <tr>\n",
       "      <th>93</th>\n",
       "      <td>250.9</td>\n",
       "      <td>36.5</td>\n",
       "      <td>72.3</td>\n",
       "      <td>22.2</td>\n",
       "      <td>22.473505</td>\n",
       "    </tr>\n",
       "    <tr>\n",
       "      <th>22</th>\n",
       "      <td>13.2</td>\n",
       "      <td>15.9</td>\n",
       "      <td>49.6</td>\n",
       "      <td>5.6</td>\n",
       "      <td>6.973621</td>\n",
       "    </tr>\n",
       "    <tr>\n",
       "      <th>75</th>\n",
       "      <td>16.9</td>\n",
       "      <td>43.7</td>\n",
       "      <td>89.4</td>\n",
       "      <td>8.7</td>\n",
       "      <td>10.306522</td>\n",
       "    </tr>\n",
       "    <tr>\n",
       "      <th>128</th>\n",
       "      <td>220.3</td>\n",
       "      <td>49.0</td>\n",
       "      <td>3.2</td>\n",
       "      <td>24.7</td>\n",
       "      <td>21.916216</td>\n",
       "    </tr>\n",
       "    <tr>\n",
       "      <th>135</th>\n",
       "      <td>48.3</td>\n",
       "      <td>47.0</td>\n",
       "      <td>8.5</td>\n",
       "      <td>11.6</td>\n",
       "      <td>12.162225</td>\n",
       "    </tr>\n",
       "    <tr>\n",
       "      <th>176</th>\n",
       "      <td>248.4</td>\n",
       "      <td>30.2</td>\n",
       "      <td>20.3</td>\n",
       "      <td>20.2</td>\n",
       "      <td>21.495583</td>\n",
       "    </tr>\n",
       "    <tr>\n",
       "      <th>84</th>\n",
       "      <td>213.5</td>\n",
       "      <td>43.0</td>\n",
       "      <td>33.8</td>\n",
       "      <td>21.7</td>\n",
       "      <td>20.982375</td>\n",
       "    </tr>\n",
       "    <tr>\n",
       "      <th>191</th>\n",
       "      <td>75.5</td>\n",
       "      <td>10.8</td>\n",
       "      <td>6.0</td>\n",
       "      <td>11.9</td>\n",
       "      <td>9.750278</td>\n",
       "    </tr>\n",
       "    <tr>\n",
       "      <th>57</th>\n",
       "      <td>136.2</td>\n",
       "      <td>19.2</td>\n",
       "      <td>16.6</td>\n",
       "      <td>13.2</td>\n",
       "      <td>14.062506</td>\n",
       "    </tr>\n",
       "    <tr>\n",
       "      <th>14</th>\n",
       "      <td>204.1</td>\n",
       "      <td>32.9</td>\n",
       "      <td>46.0</td>\n",
       "      <td>19.0</td>\n",
       "      <td>19.404886</td>\n",
       "    </tr>\n",
       "    <tr>\n",
       "      <th>13</th>\n",
       "      <td>97.5</td>\n",
       "      <td>7.6</td>\n",
       "      <td>7.2</td>\n",
       "      <td>13.7</td>\n",
       "      <td>10.629814</td>\n",
       "    </tr>\n",
       "  </tbody>\n",
       "</table>\n",
       "</div>"
      ],
      "text/plain": [
       "        TV  Radio  Newspaper  actual sales  predicted sales\n",
       "59   210.7   29.5        9.3          18.4        19.292469\n",
       "78     5.4   29.9        9.4           5.3         7.932629\n",
       "46    89.7    9.9       35.7          10.6        10.531742\n",
       "68   237.4   27.5       11.0          18.9        20.564368\n",
       "6     57.5   32.8       23.5          11.8        11.182932\n",
       "195   38.2    3.7       13.8           7.6         6.934203\n",
       "140   73.4   17.0       12.9          10.9        10.325115\n",
       "1     44.5   39.3       45.1          10.4        11.229351\n",
       "153  171.3   39.7       37.7          16.0        18.293289\n",
       "4    180.8   10.8       58.4          17.9        15.758074\n",
       "18    69.2   20.5       18.3          11.3        10.486741\n",
       "197  177.0    9.3        6.4          14.8        15.227085\n",
       "192   17.2    4.1       31.6           5.9         5.864995\n",
       "53   182.6   46.2       58.7          21.2        19.687633\n",
       "62   239.3   15.5       27.3          20.7        19.421479\n",
       "35   290.7    4.1        8.5          17.8        20.986526\n",
       "163  163.5   36.8        7.4          18.0        17.454507\n",
       "110  225.8    8.2       56.5          18.4        17.970639\n",
       "194  149.7   35.6        6.0          17.3        16.553954\n",
       "152  197.6   23.3       14.2          16.6        17.909129\n",
       "65    69.0    9.3        0.9          11.3         9.211538\n",
       "150  280.7   13.9       37.0          16.1        21.577413\n",
       "40   202.5   22.3       31.6          16.6        18.125910\n",
       "26   142.9   29.3       12.6          15.0        15.514888\n",
       "131  265.2    2.9       43.0          17.7        19.544959\n",
       "32    97.2    1.5       30.0          13.2        10.022548\n",
       "108   13.1    0.4       25.6           5.3         5.218894\n",
       "47   239.9   41.5       18.5          23.2        22.240137\n",
       "107   90.4    0.3       23.2          12.0         9.494435\n",
       "93   250.9   36.5       72.3          22.2        22.473505\n",
       "22    13.2   15.9       49.6           5.6         6.973621\n",
       "75    16.9   43.7       89.4           8.7        10.306522\n",
       "128  220.3   49.0        3.2          24.7        21.916216\n",
       "135   48.3   47.0        8.5          11.6        12.162225\n",
       "176  248.4   30.2       20.3          20.2        21.495583\n",
       "84   213.5   43.0       33.8          21.7        20.982375\n",
       "191   75.5   10.8        6.0          11.9         9.750278\n",
       "57   136.2   19.2       16.6          13.2        14.062506\n",
       "14   204.1   32.9       46.0          19.0        19.404886\n",
       "13    97.5    7.6        7.2          13.7        10.629814"
      ]
     },
     "execution_count": 52,
     "metadata": {},
     "output_type": "execute_result"
    }
   ],
   "source": [
    "# DataFrame is used for constructing a table \n",
    "\n",
    "new_df = pd.DataFrame()\n",
    "new_df = x_test\n",
    "new_df['actual sales']= y_test\n",
    "new_df['predicted sales']= y_pred\n",
    "new_df"
   ]
  },
  {
   "cell_type": "markdown",
   "id": "fb3a4eca",
   "metadata": {},
   "source": [
    "## <font color = blue>8. Evaluating Root Mean Square Error and R squared<font>"
   ]
  },
  {
   "cell_type": "markdown",
   "id": "998841f2",
   "metadata": {},
   "source": [
    "Evaluation in Linear Regression is done using Root mean square & R squared."
   ]
  },
  {
   "cell_type": "code",
   "execution_count": 54,
   "id": "719049ce",
   "metadata": {},
   "outputs": [
    {
     "name": "stdout",
     "output_type": "stream",
     "text": [
      "R-squared: 0.8777659778963143\n",
      "RMSE: 1.78384736504038\n"
     ]
    }
   ],
   "source": [
    "from sklearn.metrics import r2_score,mean_squared_error\n",
    "import numpy as np\n",
    "\n",
    "r2=r2_score(y_test,y_pred)\n",
    "print(\"R-squared:\",r2)\n",
    "\n",
    "rmse=np.sqrt(mean_squared_error(y_test,y_pred))\n",
    "print(\"RMSE:\",rmse)"
   ]
  },
  {
   "cell_type": "markdown",
   "id": "418f1d98",
   "metadata": {},
   "source": [
    "In the code above we are importing r2_score,mean_squared_error from sklearn library metrics sublibrary.\n",
    "Both the parameters are evaluated on 'y_test','y_pred'."
   ]
  },
  {
   "cell_type": "code",
   "execution_count": 53,
   "id": "329a18d6",
   "metadata": {},
   "outputs": [
    {
     "data": {
      "text/plain": [
       "90.62456517592248"
      ]
     },
     "execution_count": 53,
     "metadata": {},
     "output_type": "execute_result"
    }
   ],
   "source": [
    "lm.score(x_train,y_train)*100"
   ]
  },
  {
   "cell_type": "markdown",
   "id": "19df74b9",
   "metadata": {},
   "source": [
    "As seen above R square is close to '1' indicating a very good model. Also RMSE is low (1.78), which also confirms the\n",
    "above model being a good one.\n",
    "\n",
    "R square is the measure of comparison which tells how the machine learning model  is better than the mean model whereas\n",
    "RMSE is a measure of the goodness of fit of Linear Regression model.\n",
    "\n",
    "As per the above definitions we have the model better than the mean model and we got good fit and hence \n",
    "enhanced prediction on the data. "
   ]
  },
  {
   "cell_type": "markdown",
   "id": "4f24c6ea",
   "metadata": {},
   "source": [
    "## <font color = blue>9. How to save a model<font>"
   ]
  },
  {
   "cell_type": "markdown",
   "id": "4764d5cc",
   "metadata": {},
   "source": [
    "Say if one wants to use a model for future, one can save the model in joblib library using 'joblib.dump()'\n",
    "and fetch it back using 'joblib.load()'. The first argument inside the bracket indicates the name of the model while the \n",
    "second argument indicates the extension in which model is stored. \n",
    "Import joblib library first to save the model."
   ]
  },
  {
   "cell_type": "code",
   "execution_count": 40,
   "id": "3abb3f23",
   "metadata": {},
   "outputs": [],
   "source": [
    "import joblib"
   ]
  },
  {
   "cell_type": "code",
   "execution_count": 41,
   "id": "327dd41c",
   "metadata": {},
   "outputs": [
    {
     "data": {
      "text/plain": [
       "['model.pkl']"
      ]
     },
     "execution_count": 41,
     "metadata": {},
     "output_type": "execute_result"
    }
   ],
   "source": [
    "joblib.dump(lm,\"model.pkl\")"
   ]
  }
 ],
 "metadata": {
  "kernelspec": {
   "display_name": "Python 3 (ipykernel)",
   "language": "python",
   "name": "python3"
  },
  "language_info": {
   "codemirror_mode": {
    "name": "ipython",
    "version": 3
   },
   "file_extension": ".py",
   "mimetype": "text/x-python",
   "name": "python",
   "nbconvert_exporter": "python",
   "pygments_lexer": "ipython3",
   "version": "3.11.5"
  }
 },
 "nbformat": 4,
 "nbformat_minor": 5
}
